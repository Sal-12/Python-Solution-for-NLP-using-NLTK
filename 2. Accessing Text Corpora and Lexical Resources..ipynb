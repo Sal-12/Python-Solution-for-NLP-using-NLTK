{
 "cells": [
  {
   "cell_type": "code",
   "execution_count": 1,
   "metadata": {},
   "outputs": [],
   "source": [
    "import nltk\n",
    "from nltk.corpus import gutenberg as gb     # we can import files with short names as mentioned\n",
    "from nltk.corpus import webtext as wt\n",
    "from nltk.corpus import nps_chat\n",
    "from nltk.corpus import brown\n",
    "from nltk.corpus import reuters\n",
    "from nltk.corpus import inaugural\n",
    "from nltk.corpus import PlaintextCorpusReader    # for loading your corpus\n",
    "from nltk.corpus import BracketParseCorpusReader\n",
    "from nltk.corpus import udhr    \n",
    "from nltk.corpus import genesis\n",
    "import random"
   ]
  },
  {
   "cell_type": "code",
   "execution_count": 2,
   "metadata": {},
   "outputs": [
    {
     "data": {
      "text/plain": [
       "['austen-emma.txt',\n",
       " 'austen-persuasion.txt',\n",
       " 'austen-sense.txt',\n",
       " 'bible-kjv.txt',\n",
       " 'blake-poems.txt',\n",
       " 'bryant-stories.txt',\n",
       " 'burgess-busterbrown.txt',\n",
       " 'carroll-alice.txt',\n",
       " 'chesterton-ball.txt',\n",
       " 'chesterton-brown.txt',\n",
       " 'chesterton-thursday.txt',\n",
       " 'edgeworth-parents.txt',\n",
       " 'melville-moby_dick.txt',\n",
       " 'milton-paradise.txt',\n",
       " 'shakespeare-caesar.txt',\n",
       " 'shakespeare-hamlet.txt',\n",
       " 'shakespeare-macbeth.txt',\n",
       " 'whitman-leaves.txt']"
      ]
     },
     "execution_count": 2,
     "metadata": {},
     "output_type": "execute_result"
    }
   ],
   "source": [
    "nltk.corpus.gutenberg.fileids()"
   ]
  },
  {
   "cell_type": "raw",
   "metadata": {},
   "source": [
    "1. Create a variable phrase containing a list of words. Review the operations described in the previous chapter, including addition, multiplication, indexing, slicing and sorting."
   ]
  },
  {
   "cell_type": "code",
   "execution_count": 3,
   "metadata": {},
   "outputs": [],
   "source": [
    "my_list = ['python', 'is', 'fun', 'and', 'very', 'useful']"
   ]
  },
  {
   "cell_type": "code",
   "execution_count": 4,
   "metadata": {},
   "outputs": [
    {
     "data": {
      "text/plain": [
       "['python', 'is', 'fun', 'and', 'very', 'useful', 'and', 'applicable']"
      ]
     },
     "execution_count": 4,
     "metadata": {},
     "output_type": "execute_result"
    }
   ],
   "source": [
    "my_list + ['and', 'applicable']        # addition, only should done on similar elements like lists and lists"
   ]
  },
  {
   "cell_type": "code",
   "execution_count": 5,
   "metadata": {},
   "outputs": [
    {
     "name": "stdout",
     "output_type": "stream",
     "text": [
      "['python', 'is', 'fun', 'and', 'very', 'useful', 'python', 'is', 'fun', 'and', 'very', 'useful']\n"
     ]
    }
   ],
   "source": [
    "print(my_list * 2)                    #multiplication"
   ]
  },
  {
   "cell_type": "code",
   "execution_count": 6,
   "metadata": {},
   "outputs": [
    {
     "data": {
      "text/plain": [
       "'python'"
      ]
     },
     "execution_count": 6,
     "metadata": {},
     "output_type": "execute_result"
    }
   ],
   "source": [
    "my_list[0]"
   ]
  },
  {
   "cell_type": "code",
   "execution_count": 7,
   "metadata": {},
   "outputs": [
    {
     "data": {
      "text/plain": [
       "2"
      ]
     },
     "execution_count": 7,
     "metadata": {},
     "output_type": "execute_result"
    }
   ],
   "source": [
    "my_list.index('fun')     # Indexing"
   ]
  },
  {
   "cell_type": "code",
   "execution_count": 8,
   "metadata": {},
   "outputs": [
    {
     "data": {
      "text/plain": [
       "['python', 'is', 'fun']"
      ]
     },
     "execution_count": 8,
     "metadata": {},
     "output_type": "execute_result"
    }
   ],
   "source": [
    "my_list[0:3]             # Slicing"
   ]
  },
  {
   "cell_type": "code",
   "execution_count": 9,
   "metadata": {},
   "outputs": [
    {
     "data": {
      "text/plain": [
       "['and', 'fun', 'is', 'python', 'useful', 'very']"
      ]
     },
     "execution_count": 9,
     "metadata": {},
     "output_type": "execute_result"
    }
   ],
   "source": [
    "sorted(set(my_list))      # Sorting"
   ]
  },
  {
   "cell_type": "raw",
   "metadata": {},
   "source": [
    "2. Use the corpus module to explore austen-persuasion.txt. How many word tokens does this book have? How many word types?"
   ]
  },
  {
   "cell_type": "code",
   "execution_count": 10,
   "metadata": {},
   "outputs": [],
   "source": [
    "persuasion = nltk.corpus.gutenberg.words('austen-persuasion.txt')"
   ]
  },
  {
   "cell_type": "code",
   "execution_count": 11,
   "metadata": {},
   "outputs": [
    {
     "name": "stdout",
     "output_type": "stream",
     "text": [
      "84121\n"
     ]
    }
   ],
   "source": [
    "print(len([w for w in persuasion if w.isalpha()]))"
   ]
  },
  {
   "cell_type": "code",
   "execution_count": 12,
   "metadata": {},
   "outputs": [
    {
     "name": "stdout",
     "output_type": "stream",
     "text": [
      "5739\n"
     ]
    }
   ],
   "source": [
    "print(len(set(w.lower() for w in persuasion if w.isalpha())))"
   ]
  },
  {
   "cell_type": "raw",
   "metadata": {},
   "source": [
    "3. Use the brown corpus reader nltk.corpus.words() or the Web text corpus reader nltk.corpus.webtext.words() to access some samples text in two different genres."
   ]
  },
  {
   "cell_type": "code",
   "execution_count": 13,
   "metadata": {},
   "outputs": [
    {
     "data": {
      "text/plain": [
       "['adventure',\n",
       " 'belles_lettres',\n",
       " 'editorial',\n",
       " 'fiction',\n",
       " 'government',\n",
       " 'hobbies',\n",
       " 'humor',\n",
       " 'learned',\n",
       " 'lore',\n",
       " 'mystery',\n",
       " 'news',\n",
       " 'religion',\n",
       " 'reviews',\n",
       " 'romance',\n",
       " 'science_fiction']"
      ]
     },
     "execution_count": 13,
     "metadata": {},
     "output_type": "execute_result"
    }
   ],
   "source": [
    "brown.categories()"
   ]
  },
  {
   "cell_type": "code",
   "execution_count": 14,
   "metadata": {},
   "outputs": [],
   "source": [
    "#humor = (nltk.corpus.brown.words('humor'))"
   ]
  },
  {
   "cell_type": "code",
   "execution_count": 15,
   "metadata": {},
   "outputs": [
    {
     "data": {
      "text/plain": [
       "['The', 'Fulton', 'County', 'Grand', 'Jury', 'said', ...]"
      ]
     },
     "execution_count": 15,
     "metadata": {},
     "output_type": "execute_result"
    }
   ],
   "source": [
    "nltk.corpus.brown.words()"
   ]
  },
  {
   "cell_type": "code",
   "execution_count": 16,
   "metadata": {},
   "outputs": [
    {
     "name": "stdout",
     "output_type": "stream",
     "text": [
      "['They', 'neither', 'liked', 'nor', 'disliked', 'the', ...]\n",
      "['Dan', 'Morgan', 'told', 'himself', 'he', 'would', ...]\n"
     ]
    }
   ],
   "source": [
    "print(brown.words(categories='romance'))\n",
    "print(brown.words(categories='adventure'))"
   ]
  },
  {
   "cell_type": "code",
   "execution_count": 17,
   "metadata": {},
   "outputs": [
    {
     "data": {
      "text/plain": [
       "['Cookie', 'Manager', ':', '\"', 'Don', \"'\", 't', ...]"
      ]
     },
     "execution_count": 17,
     "metadata": {},
     "output_type": "execute_result"
    }
   ],
   "source": [
    "nltk.corpus.webtext.words()"
   ]
  },
  {
   "cell_type": "code",
   "execution_count": 18,
   "metadata": {},
   "outputs": [
    {
     "name": "stdout",
     "output_type": "stream",
     "text": [
      "['Cookie', 'Manager', ':', '\"', 'Don', \"'\", 't', ...]\n"
     ]
    }
   ],
   "source": [
    "print(wt.words(fileids='firefox.txt'))"
   ]
  },
  {
   "cell_type": "raw",
   "metadata": {},
   "source": [
    "4. Read the texts of the State of the Union addresses, using the state_union corpus reader. Count occurrences of men, women, and people in each document. What has happened to the usage of these words over time?"
   ]
  },
  {
   "cell_type": "code",
   "execution_count": 19,
   "metadata": {},
   "outputs": [],
   "source": [
    "from nltk.corpus import state_union"
   ]
  },
  {
   "cell_type": "code",
   "execution_count": 20,
   "metadata": {},
   "outputs": [],
   "source": [
    "import matplotlib.pyplot as plt"
   ]
  },
  {
   "cell_type": "code",
   "execution_count": 21,
   "metadata": {},
   "outputs": [
    {
     "data": {
      "image/png": "[encoded data removed]",
      "text/plain": [
       "<Figure size 432x288 with 1 Axes>"
      ]
     },
     "metadata": {
      "needs_background": "light"
     },
     "output_type": "display_data"
    },
    {
     "data": {
      "text/plain": [
       "<matplotlib.axes._subplots.AxesSubplot at 0x18b0f633288>"
      ]
     },
     "execution_count": 21,
     "metadata": {},
     "output_type": "execute_result"
    }
   ],
   "source": [
    "cfd = nltk.ConditionalFreqDist(\n",
    "           (target, fileid[:4])\n",
    "           for fileid in state_union.fileids()\n",
    "           for w in state_union.words(fileid)\n",
    "           for target in ['men', 'women', 'people']\n",
    "           if w.lower().startswith(target))\n",
    "cfd.plot()"
   ]
  },
  {
   "cell_type": "raw",
   "metadata": {},
   "source": [
    "5. Investigate the holonym-meronym relations for some nouns. Remember that there are three kinds of holonym-meronym\n",
    "relation, so you need to use: member_meronyms(), part_meronyms(), substance_meronyms(), member_holonyms(), part_holonyms()\n",
    "and substance_holonyms().    "
   ]
  },
  {
   "cell_type": "code",
   "execution_count": 22,
   "metadata": {},
   "outputs": [],
   "source": [
    "from nltk.corpus import wordnet as wn"
   ]
  },
  {
   "cell_type": "code",
   "execution_count": 23,
   "metadata": {},
   "outputs": [],
   "source": [
    "car = wn.synset('car.n.01')"
   ]
  },
  {
   "cell_type": "code",
   "execution_count": 24,
   "metadata": {},
   "outputs": [
    {
     "name": "stdout",
     "output_type": "stream",
     "text": [
      "[Synset('accelerator.n.01'), Synset('air_bag.n.01'), Synset('auto_accessory.n.01'), Synset('automobile_engine.n.01'), Synset('automobile_horn.n.01'), Synset('buffer.n.06'), Synset('bumper.n.02'), Synset('car_door.n.01'), Synset('car_mirror.n.01'), Synset('car_seat.n.01'), Synset('car_window.n.01'), Synset('fender.n.01'), Synset('first_gear.n.01'), Synset('floorboard.n.02'), Synset('gasoline_engine.n.01'), Synset('glove_compartment.n.01'), Synset('grille.n.02'), Synset('high_gear.n.01'), Synset('hood.n.09'), Synset('luggage_compartment.n.01'), Synset('rear_window.n.01'), Synset('reverse.n.02'), Synset('roof.n.02'), Synset('running_board.n.01'), Synset('stabilizer_bar.n.01'), Synset('sunroof.n.01'), Synset('tail_fin.n.02'), Synset('third_gear.n.01'), Synset('window.n.02')]\n"
     ]
    }
   ],
   "source": [
    "print(car.part_meronyms())"
   ]
  },
  {
   "cell_type": "code",
   "execution_count": 25,
   "metadata": {},
   "outputs": [
    {
     "name": "stdout",
     "output_type": "stream",
     "text": [
      "[]\n"
     ]
    }
   ],
   "source": [
    "print(car.part_holonyms())"
   ]
  },
  {
   "cell_type": "code",
   "execution_count": 26,
   "metadata": {},
   "outputs": [],
   "source": [
    "novel = wn.synset('novel.n.01')"
   ]
  },
  {
   "cell_type": "code",
   "execution_count": 27,
   "metadata": {},
   "outputs": [
    {
     "name": "stdout",
     "output_type": "stream",
     "text": [
      "[]\n"
     ]
    }
   ],
   "source": [
    "print(novel.substance_holonyms())"
   ]
  },
  {
   "cell_type": "code",
   "execution_count": 28,
   "metadata": {},
   "outputs": [
    {
     "name": "stdout",
     "output_type": "stream",
     "text": [
      "[]\n"
     ]
    }
   ],
   "source": [
    "print(novel.substance_meronyms())"
   ]
  },
  {
   "cell_type": "code",
   "execution_count": 29,
   "metadata": {},
   "outputs": [],
   "source": [
    "tree = wn.synset('tree.n.01')"
   ]
  },
  {
   "cell_type": "code",
   "execution_count": 30,
   "metadata": {},
   "outputs": [
    {
     "name": "stdout",
     "output_type": "stream",
     "text": [
      "[]\n"
     ]
    }
   ],
   "source": [
    "print(tree.substance_holonyms())"
   ]
  },
  {
   "cell_type": "code",
   "execution_count": 31,
   "metadata": {},
   "outputs": [
    {
     "name": "stdout",
     "output_type": "stream",
     "text": [
      "[Synset('heartwood.n.01'), Synset('sapwood.n.01')]\n"
     ]
    }
   ],
   "source": [
    "print(tree.substance_meronyms())"
   ]
  },
  {
   "cell_type": "code",
   "execution_count": 32,
   "metadata": {},
   "outputs": [],
   "source": [
    "person = wn.synset('person.n.01')"
   ]
  },
  {
   "cell_type": "code",
   "execution_count": 33,
   "metadata": {},
   "outputs": [
    {
     "name": "stdout",
     "output_type": "stream",
     "text": [
      "[Synset('people.n.01')]\n"
     ]
    }
   ],
   "source": [
    "print(person.member_holonyms())"
   ]
  },
  {
   "cell_type": "code",
   "execution_count": 34,
   "metadata": {},
   "outputs": [
    {
     "name": "stdout",
     "output_type": "stream",
     "text": [
      "[]\n"
     ]
    }
   ],
   "source": [
    "print(person.member_meronyms())"
   ]
  },
  {
   "cell_type": "raw",
   "metadata": {},
   "source": [
    "6. In the dicussion of comparative wordlists, we created an called translate which you could look up using words in both German \n",
    "   and Spanish in order to get corresponding words in English. What problem might arise with this approach? Can you suggest\n",
    "    a way to avoid this problem?"
   ]
  },
  {
   "cell_type": "code",
   "execution_count": 35,
   "metadata": {},
   "outputs": [],
   "source": [
    "from nltk.corpus import swadesh    # NLTK includes so-called swadesh to get several of the common words in many langauges."
   ]
  },
  {
   "cell_type": "code",
   "execution_count": 36,
   "metadata": {},
   "outputs": [
    {
     "name": "stdout",
     "output_type": "stream",
     "text": [
      "['be', 'bg', 'bs', 'ca', 'cs', 'cu', 'de', 'en', 'es', 'fr', 'hr', 'it', 'la', 'mk', 'nl', 'pl', 'pt', 'ro', 'ru', 'sk', 'sl', 'sr', 'sw', 'uk']\n"
     ]
    }
   ],
   "source": [
    "print(swadesh.fileids())"
   ]
  },
  {
   "cell_type": "code",
   "execution_count": 37,
   "metadata": {},
   "outputs": [],
   "source": [
    "de2es = swadesh.entries(['de', 'es'])"
   ]
  },
  {
   "cell_type": "code",
   "execution_count": 38,
   "metadata": {},
   "outputs": [
    {
     "data": {
      "text/plain": [
       "[('ich', 'yo'),\n",
       " ('du, Sie', 'tú, usted'),\n",
       " ('er', 'él'),\n",
       " ('wir', 'nosotros'),\n",
       " ('ihr, Sie', 'vosotros, ustedes'),\n",
       " ('sie', 'ellos, ellas'),\n",
       " ('dieses', 'este'),\n",
       " ('jenes', 'ese, aquel'),\n",
       " ('hier', 'aquí, acá'),\n",
       " ('dort', 'ahí, allí, allá'),\n",
       " ('wer', 'quien'),\n",
       " ('was', 'que'),\n",
       " ('wo', 'donde'),\n",
       " ('wann', 'cuando'),\n",
       " ('wie', 'como'),\n",
       " ('nicht', 'no'),\n",
       " ('alle', 'todo'),\n",
       " ('viele', 'muchos'),\n",
       " ('einige', 'algunos, unos'),\n",
       " ('wenige', 'poco'),\n",
       " ('andere', 'otro'),\n",
       " ('eins', 'uno'),\n",
       " ('zwei', 'dos'),\n",
       " ('drei', 'tres'),\n",
       " ('vier', 'cuatro'),\n",
       " ('fünf', 'cinco'),\n",
       " ('groß', 'grande'),\n",
       " ('lang', 'largo'),\n",
       " ('breit, weit', 'ancho'),\n",
       " ('dick', 'gordo'),\n",
       " ('schwer', 'pesado'),\n",
       " ('klein', 'pequeño'),\n",
       " ('kurz', 'corto'),\n",
       " ('eng', 'estrecho, angosto'),\n",
       " ('dünn', 'delgado, flaco'),\n",
       " ('Frau', 'mujer'),\n",
       " ('Mann', 'hombre'),\n",
       " ('Mensch', 'hombre'),\n",
       " ('Kind', 'niño'),\n",
       " ('Frau, Ehefrau', 'esposa, mujer'),\n",
       " ('Mann, Ehemann', 'esposo, marido'),\n",
       " ('Mutter', 'madre'),\n",
       " ('Vater', 'padre'),\n",
       " ('Tier', 'animal'),\n",
       " ('Fisch', 'pez, pescado'),\n",
       " ('Vogel', 'ave, pájaro'),\n",
       " ('Hund', 'perro'),\n",
       " ('Laus', 'piojo'),\n",
       " ('Schlange', 'serpiente, culebra'),\n",
       " ('Wurm', 'gusano'),\n",
       " ('Baum', 'árbol'),\n",
       " ('Wald', 'bosque'),\n",
       " ('Stock', 'palo'),\n",
       " ('Frucht', 'fruta'),\n",
       " ('Samen', 'semilla'),\n",
       " ('Blatt', 'hoja'),\n",
       " ('Wurzel', 'raíz'),\n",
       " ('Rinde', 'corteza'),\n",
       " ('Blume', 'flor'),\n",
       " ('Gras', 'hierba, pasto'),\n",
       " ('Seil', 'cuerda'),\n",
       " ('Haut', 'piel'),\n",
       " ('Fleisch', 'carne'),\n",
       " ('Blut', 'sangre'),\n",
       " ('Knochen', 'hueso'),\n",
       " ('Fett', 'grasa'),\n",
       " ('Ei', 'huevo'),\n",
       " ('Horn', 'cuerno'),\n",
       " ('Schwanz', 'cola'),\n",
       " ('Feder', 'pluma'),\n",
       " ('Haar', 'cabello, pelo'),\n",
       " ('Kopf, Haupt', 'cabeza'),\n",
       " ('Ohr', 'oreja'),\n",
       " ('Auge', 'ojo'),\n",
       " ('Nase', 'nariz'),\n",
       " ('Mund', 'boca'),\n",
       " ('Zahn', 'diente'),\n",
       " ('Zunge', 'lengua'),\n",
       " ('Fingernagel', 'uña'),\n",
       " ('Fuß', 'pie'),\n",
       " ('Bein', 'pierna'),\n",
       " ('Knie', 'rodilla'),\n",
       " ('Hand', 'mano'),\n",
       " ('Flügel', 'ala'),\n",
       " ('Bauch', 'barriga, vientre, panza'),\n",
       " ('Eingeweide, Innereien', 'entrañas, tripas'),\n",
       " ('Hals', 'cuello'),\n",
       " ('Rücken', 'espalda'),\n",
       " ('Brust', 'pecho, seno'),\n",
       " ('Herz', 'corazón'),\n",
       " ('Leber', 'hígado'),\n",
       " ('trinken', 'beber, tomar'),\n",
       " ('essen', 'comer'),\n",
       " ('beißen', 'morder'),\n",
       " ('saugen', 'chupar'),\n",
       " ('spucken', 'escupir'),\n",
       " ('erbrechen', 'vomitar'),\n",
       " ('blasen', 'soplar'),\n",
       " ('atmen', 'respirar'),\n",
       " ('lachen', 'reír'),\n",
       " ('sehen', 'ver'),\n",
       " ('hören', 'oír'),\n",
       " ('wissen', 'saber'),\n",
       " ('denken', 'pensar'),\n",
       " ('riechen', 'oler'),\n",
       " ('fürchten', 'temer'),\n",
       " ('schlafen', 'dormir'),\n",
       " ('leben', 'vivir'),\n",
       " ('sterben', 'morir'),\n",
       " ('töten', 'matar'),\n",
       " ('kämpfen', 'pelear'),\n",
       " ('jagen', 'cazar'),\n",
       " ('schlagen', 'golpear'),\n",
       " ('schneiden', 'cortar'),\n",
       " ('spalten', 'partir'),\n",
       " ('stechen', 'apuñalar'),\n",
       " ('kratzen', 'arañar, rascar'),\n",
       " ('graben', 'cavar'),\n",
       " ('schwimmen', 'nadar'),\n",
       " ('fliegen', 'volar'),\n",
       " ('gehen', 'caminar'),\n",
       " ('kommen', 'venir'),\n",
       " ('liegen', 'echarse, acostarse, tenderse'),\n",
       " ('sitzen', 'sentarse'),\n",
       " ('stehen', 'estar de pie'),\n",
       " ('drehen', 'voltear'),\n",
       " ('fallen', 'caer'),\n",
       " ('geben', 'dar'),\n",
       " ('halten', 'sostener'),\n",
       " ('quetschen', 'apretar'),\n",
       " ('reiben', 'frotar'),\n",
       " ('waschen', 'lavar'),\n",
       " ('wischen', 'limpiar'),\n",
       " ('ziehen', 'tirar'),\n",
       " ('drücken', 'empujar'),\n",
       " ('werfen', 'tirar'),\n",
       " ('binden', 'atar'),\n",
       " ('nähen', 'coser'),\n",
       " ('zählen', 'contar'),\n",
       " ('sagen', 'decir'),\n",
       " ('singen', 'cantar'),\n",
       " ('spielen', 'jugar'),\n",
       " ('schweben', 'flotar'),\n",
       " ('fließen', 'fluir'),\n",
       " ('frieren', 'helar'),\n",
       " ('schwellen', 'hincharse'),\n",
       " ('Sonne', 'sol'),\n",
       " ('Mond', 'luna'),\n",
       " ('Stern', 'estrella'),\n",
       " ('Wasser', 'agua'),\n",
       " ('Regen', 'lluvia'),\n",
       " ('Fluß', 'río'),\n",
       " ('See', 'lago'),\n",
       " ('Meer, See', 'mar'),\n",
       " ('Salz', 'sal'),\n",
       " ('Stein', 'piedra'),\n",
       " ('Sand', 'arena'),\n",
       " ('Staub', 'polvo'),\n",
       " ('Erde', 'tierra'),\n",
       " ('Wolke', 'nube'),\n",
       " ('Nebel', 'niebla'),\n",
       " ('Himmel', 'cielo'),\n",
       " ('Wind', 'viento'),\n",
       " ('Schnee', 'nieve'),\n",
       " ('Eis', 'hielo'),\n",
       " ('Rauch', 'humo'),\n",
       " ('Feuer', 'fuego'),\n",
       " ('Asche', 'cenizas'),\n",
       " ('brennen', 'quemar'),\n",
       " ('Straße', 'camino'),\n",
       " ('Berg', 'montaña'),\n",
       " ('rot', 'rojo'),\n",
       " ('grün', 'verde'),\n",
       " ('gelb', 'amarillo'),\n",
       " ('weiß', 'blanco'),\n",
       " ('schwarz', 'negro'),\n",
       " ('Nacht', 'noche'),\n",
       " ('Tag', 'día'),\n",
       " ('Jahr', 'año'),\n",
       " ('warm', 'cálido, tibio'),\n",
       " ('kalt', 'frío'),\n",
       " ('voll', 'lleno'),\n",
       " ('neu', 'nuevo'),\n",
       " ('alt', 'viejo'),\n",
       " ('gut', 'bueno'),\n",
       " ('schlecht', 'malo'),\n",
       " ('verrottet', 'podrido'),\n",
       " ('schmutzig', 'sucio'),\n",
       " ('gerade', 'recto'),\n",
       " ('rund', 'redondo'),\n",
       " ('scharf', 'afilado'),\n",
       " ('stumpf', 'desafilado'),\n",
       " ('glatt', 'suave, liso'),\n",
       " ('nass, feucht', 'mojado'),\n",
       " ('trocken', 'seco'),\n",
       " ('richtig', 'correcto'),\n",
       " ('nah, nahe', 'cerca'),\n",
       " ('weit, fern', 'lejos'),\n",
       " ('rechts', 'derecha'),\n",
       " ('links', 'izquierda'),\n",
       " ('bei, an', 'a, en, ante'),\n",
       " ('in', 'en'),\n",
       " ('mit', 'con'),\n",
       " ('und', 'y'),\n",
       " ('wenn, falls, ob', 'si'),\n",
       " ('weil', 'porque'),\n",
       " ('Name', 'nombre')]"
      ]
     },
     "execution_count": 38,
     "metadata": {},
     "output_type": "execute_result"
    }
   ],
   "source": [
    "de2es"
   ]
  },
  {
   "cell_type": "code",
   "execution_count": 39,
   "metadata": {},
   "outputs": [],
   "source": [
    "translate = dict(de2es)"
   ]
  },
  {
   "cell_type": "code",
   "execution_count": 40,
   "metadata": {},
   "outputs": [
    {
     "data": {
      "text/plain": [
       "'yo'"
      ]
     },
     "execution_count": 40,
     "metadata": {},
     "output_type": "execute_result"
    }
   ],
   "source": [
    "translate['ich']"
   ]
  },
  {
   "cell_type": "raw",
   "metadata": {},
   "source": [
    "# the above code is just an example on using the swadesh wordlists. To avoid errors one can use 'de/es' before the words to mention \n",
    "es = Spain / de = German."
   ]
  },
  {
   "cell_type": "raw",
   "metadata": {},
   "source": [
    "7. According to Strunk an White's Elements of Style, the word however, used at the start of a sentence, means \"in whatever way\" \n",
    "    or \"to whtever extent\", and not \"nevertheless\". They give this example of correct usage: However you advise him, he will       probably do as he thinks best. (http://www.bartleby.com/141/strunk3.html) Use the concordance tool to study actual usage       of this word in the various texts we have been considering. See also the LanguageLog posting \"Fossilized prejudices about   'however'\" at http://itre.cis.upenn.edu/~my1/languagelog/archives/001913.html ."
   ]
  },
  {
   "cell_type": "code",
   "execution_count": 41,
   "metadata": {},
   "outputs": [
    {
     "name": "stdout",
     "output_type": "stream",
     "text": [
      "Displaying 25 of 89 matches:\n",
      "onceited , silly father . She had , however , one very intimate friend , a sens\n",
      "early custom . But these measures , however good in themselves , were insuffici\n",
      "ellynch Hall was to be let . This , however , was a profound secret , not to be\n",
      "t immediate neighbourhood , which , however , had not suited him ; that acciden\n",
      "e dues of a tenant . It succeeded , however ; and though Sir Walter must ever l\n",
      "h , the former curate of Monkford , however suspicious appearances may be , but\n",
      "good character and appearance ; and however Lady Russell might have asked yet f\n",
      "siness no evil . She was assisted , however , by that perfect indifference and \n",
      "h the others . Something occurred , however , to give her a different duty . Ma\n",
      " , but can never alter plain ones . However , at any rate , as I have a great d\n",
      "l what is due to you as my sister . However , we may as well go and sit with th\n",
      "o means of her going . She wished , however to see the Crofts , and was glad to\n",
      "ithout any approach to coarseness , however , or any want of good humour . Anne\n",
      "ll be in question . She could not , however , reach such a degree of certainty \n",
      "al to Anne ' s nerves . She found , however , that it was one to which she must\n",
      "re gone , she hoped , to be happy , however oddly constructed such happiness mi\n",
      "once more in the same room . Soon , however , she began to reason with herself \n",
      " ! It would be but a new creation , however , and I never think much of your ne\n",
      "rove of Uppercross .\" Her husband , however , would not agree with her here ; f\n",
      "re presently .\" Captain Wentworth , however , came from his window , apparently\n",
      "d Walter stir . In another moment , however , she found herself in the state of\n",
      " at once . After a short struggle , however , Charles Hayter seemed to quit the\n",
      "rything being to be done together , however undesired and inconvenient . She tr\n",
      " , nobody answered her . Winthrop , however , or its environs -- for young men \n",
      "fore they were beyond her hearing , however , Louisa spoke again . \" Mary is go\n"
     ]
    }
   ],
   "source": [
    "nltk.Text(persuasion).concordance('however')       # since we have already used persuasion you can also use other reference from the corpus."
   ]
  },
  {
   "cell_type": "raw",
   "metadata": {},
   "source": [
    "8 . Define a conditional frequency distribution over the Names corpus that allows you to see which initial letters are more\n",
    "    frequent for males vs. females (cf. 4.4)."
   ]
  },
  {
   "cell_type": "code",
   "execution_count": 42,
   "metadata": {},
   "outputs": [
    {
     "data": {
      "image/png": "[encoded data removed]",
      "text/plain": [
       "<Figure size 432x288 with 1 Axes>"
      ]
     },
     "metadata": {
      "needs_background": "light"
     },
     "output_type": "display_data"
    },
    {
     "data": {
      "text/plain": [
       "<matplotlib.axes._subplots.AxesSubplot at 0x18b0f9d43c8>"
      ]
     },
     "execution_count": 42,
     "metadata": {},
     "output_type": "execute_result"
    }
   ],
   "source": [
    "names_mentioned = nltk.corpus.names\n",
    "cfd = nltk.ConditionalFreqDist(\n",
    "            (fileid, name[0])   # initial letter [0]\n",
    "            for fileid in names_mentioned.fileids()    # to get fileid with names\n",
    "            for name in names_mentioned.words(fileid))  # to get names from fileid\n",
    "cfd.plot()"
   ]
  },
  {
   "cell_type": "raw",
   "metadata": {},
   "source": [
    "The common initial letter for female name is 'm' and male is 's' in maximum frequency."
   ]
  },
  {
   "cell_type": "raw",
   "metadata": {},
   "source": [
    "9. Pick a pair of texts and study the differences between them, in terms of vocabulary, vocabulary richness, genre, etc. Can \n",
    "   you find pairs of words which have quite different meanings across the two texts, such as monstrous in Moby Dick and\n",
    "   in Sense and Sensibility ?"
   ]
  },
  {
   "cell_type": "code",
   "execution_count": 43,
   "metadata": {},
   "outputs": [
    {
     "name": "stdout",
     "output_type": "stream",
     "text": [
      "*** Introductory Examples for the NLTK Book ***\n",
      "Loading text1, ..., text9 and sent1, ..., sent9\n",
      "Type the name of the text or sentence to view it.\n",
      "Type: 'texts()' or 'sents()' to list the materials.\n",
      "text1: Moby Dick by Herman Melville 1851\n",
      "text2: Sense and Sensibility by Jane Austen 1811\n",
      "text3: The Book of Genesis\n",
      "text4: Inaugural Address Corpus\n",
      "text5: Chat Corpus\n",
      "text6: Monty Python and the Holy Grail\n",
      "text7: Wall Street Journal\n",
      "text8: Personals Corpus\n",
      "text9: The Man Who Was Thursday by G . K . Chesterton 1908\n"
     ]
    }
   ],
   "source": [
    "from nltk.book import*"
   ]
  },
  {
   "cell_type": "code",
   "execution_count": 44,
   "metadata": {},
   "outputs": [
    {
     "name": "stdout",
     "output_type": "stream",
     "text": [
      "Vocabulary of text1:  19317\n",
      "Vocabulary of text2:  6833\n",
      "\n",
      "Richness of vocab in text1:  0.07406285585022564\n",
      "Richness of vocab in text2:  0.04826383002768831\n",
      "\n",
      "'monstrous' in text1: \n",
      "true contemptible christian abundant few part mean careful puzzled\n",
      "mystifying passing curious loving wise doleful gamesome singular\n",
      "delightfully perilous fearless\n",
      "\n",
      "very so exceedingly heartily a as good great extremely remarkably\n",
      "sweet vast amazingly\n",
      "\n"
     ]
    }
   ],
   "source": [
    "text_vb1 = text1\n",
    "text_vb2 = text2\n",
    "print(\"Vocabulary of text1: \", len(set(text1)))\n",
    "print(\"Vocabulary of text2: \", len(set(text2)))\n",
    "print()\n",
    "print(\"Richness of vocab in text1: \", len(set(text1)) / len(text1))\n",
    "print(\"Richness of vocab in text2: \", len(set(text2)) / len(text2))\n",
    "print()\n",
    "print(\"'monstrous' in text1: \")\n",
    "text1.similar('monstrous')\n",
    "print()\n",
    "text2.similar('monstrous')                                             # I have the mentioned text any corpus or text can be used.\n",
    "print()\n"
   ]
  },
  {
   "cell_type": "raw",
   "metadata": {},
   "source": [
    "10. Read the BBC News article: Uk's Vicky Pollards 'left behind' http://news.bbc.co.uk/1/hi/education/6173441.stm. The article     gives the following statistic about teen language: \"the top 20 words used, including yeah, no, but and like, account for       around a third of all words.\" How many word types account for a third of all word tokens, for a variety of text sources?       What do you conclude about this statistic? Read more about this on Languagelog, at    \n",
    "    http://itre.cis.upenn.edu/~myl/languagelog/archives/003993.html. "
   ]
  },
  {
   "cell_type": "raw",
   "metadata": {},
   "source": [
    "If you read this article you'll come to know that the teen language has lacks of variation and in they prefer simpler language \n",
    "to communicate. Thus, the words tokens have less proportion."
   ]
  },
  {
   "cell_type": "raw",
   "metadata": {},
   "source": [
    "11. Investigate the table of modal distributions and look for other patterns. Try to explain them in terms of your own             impressionistic understanding of the different genres. Can you find other closed classes of words that exhibit significant     differences across different genres?"
   ]
  },
  {
   "cell_type": "code",
   "execution_count": 45,
   "metadata": {},
   "outputs": [
    {
     "name": "stdout",
     "output_type": "stream",
     "text": [
      "                        can        will imagination     suspect     however      affect       could \n",
      "      adventure          48          51           1           1           7           0         154 \n",
      " belles_lettres         249         246          20           6          98           6         216 \n",
      "      editorial         124         235           5           3          24           0          57 \n",
      "        fiction          39          56           2           1          12           0         168 \n",
      "     government         119         244           3           0          37           1          38 \n",
      "        hobbies         276         269           7           1          41           5          59 \n",
      "          humor          17          13           1           1          10           0          33 \n",
      "        learned         367         340           4           5         147          13         159 \n",
      "           lore         170         178           8           5          71           3         142 \n",
      "        mystery          45          25           4           4           7           1         145 \n",
      "           news          94         389           1           1          49           3          87 \n",
      "       religion          84          72           5           1          19           1          59 \n",
      "        reviews          45          61           2           1          21           1          40 \n",
      "        romance          79          49           2           0           2           1         195 \n",
      "science_fiction          16          17           0           0           7           0          49 \n"
     ]
    }
   ],
   "source": [
    "\n",
    "cfd = nltk.ConditionalFreqDist(\n",
    "           (genre, word.lower())\n",
    "            for genre in brown.categories()\n",
    "            for word in brown.words(categories=genre))\n",
    "genres = ['news', 'romance', 'adventure', 'humor', 'science_fiction', 'religion']\n",
    "modals = ['can', 'will', 'imagination', 'suspect', 'however', 'affect', 'could']\n",
    "cfd.tabulate(conditional=genres, samples=modals)"
   ]
  },
  {
   "cell_type": "raw",
   "metadata": {},
   "source": [
    "In news the most frequent word is 'will' as many things are uncertain and predicted.\n",
    "In adventure the most frequent word is 'could' as things are based on possibility.\n",
    "# rest are pretty self explonatory."
   ]
  },
  {
   "cell_type": "raw",
   "metadata": {},
   "source": [
    "12. The CMU pronouncing Dictionary contains multiple pronunciations for certain words. How many distinct words does it contain? \n",
    "    What fraction of words in this dictionary have more than one possible pronunciation?"
   ]
  },
  {
   "cell_type": "code",
   "execution_count": 46,
   "metadata": {},
   "outputs": [
    {
     "data": {
      "text/plain": [
       "123455"
      ]
     },
     "execution_count": 46,
     "metadata": {},
     "output_type": "execute_result"
    }
   ],
   "source": [
    "prondict = nltk.corpus.cmudict.dict()    # here we use the prondict with .dict to the words from the dictionary\n",
    "len(prondict)                                            "
   ]
  },
  {
   "cell_type": "code",
   "execution_count": 47,
   "metadata": {},
   "outputs": [
    {
     "name": "stdout",
     "output_type": "stream",
     "text": [
      "Fraction of words with more than 1 possible pronunciation:  0.07485318537118789\n"
     ]
    }
   ],
   "source": [
    "word_Pron = 0                             # count words in the dict that have more than 1 possibility\n",
    "for key in prondict:\n",
    "    if len(prondict[key]) > 1:            # iterate over the dict and find those whose values length is greater than 1\n",
    "        word_Pron += 1\n",
    "print('Fraction of words with more than 1 possible pronunciation: ', word_Pron / len(prondict))"
   ]
  },
  {
   "cell_type": "raw",
   "metadata": {},
   "source": [
    "13. What percentage of noun synsets have no hyponyms? You can get all noun synsets using: wn.all_synsets('n')."
   ]
  },
  {
   "cell_type": "code",
   "execution_count": 48,
   "metadata": {},
   "outputs": [],
   "source": [
    "noun_synsets = len(list(wn.all_synsets('n')))"
   ]
  },
  {
   "cell_type": "code",
   "execution_count": 49,
   "metadata": {},
   "outputs": [
    {
     "name": "stdout",
     "output_type": "stream",
     "text": [
      "0.7967119283931072\n"
     ]
    }
   ],
   "source": [
    "count = 0 \n",
    "for synset in wn.all_synsets('n'):\n",
    "    if (synset.hyponyms() == []):\n",
    "        count += 1\n",
    "print(count / noun_synsets)"
   ]
  },
  {
   "cell_type": "raw",
   "metadata": {},
   "source": [
    "14. Define a function supergloss(s) that takes a synset s as its argument and returns a string consisting of the \n",
    "    concatenation of the definition of s, and the definition of all the hypernyms and hyponyms of s."
   ]
  },
  {
   "cell_type": "code",
   "execution_count": 50,
   "metadata": {},
   "outputs": [],
   "source": [
    "def supergloss(s):\n",
    "    defin = 'definition: ' + s.definition() + '\\n\\n'\n",
    "    defin = defin + 'Hypernyms:\\n'\n",
    "    for hypernym in s.hypernyms():\n",
    "        defin = defin + hypernym.name() + ': ' + hypernym.definition() + '\\n'\n",
    "    defin = defin + '\\nHyponyms:\\n'\n",
    "    for hyponym in s.hyponyms():\n",
    "        defin = defin + hyponym.name() + ': ' + hyponym.definition() + '\\n'\n",
    "    return defin"
   ]
  },
  {
   "cell_type": "code",
   "execution_count": 51,
   "metadata": {},
   "outputs": [
    {
     "name": "stdout",
     "output_type": "stream",
     "text": [
      "definition: a piece of dishware normally used as a container for holding or serving food\n",
      "\n",
      "Hypernyms:\n",
      "container.n.01: any object that can be used to hold things (especially a large metal boxlike object of standardized dimensions that can be loaded from one form of transport to another)\n",
      "crockery.n.01: tableware (eating and serving dishes) collectively\n",
      "\n",
      "Hyponyms:\n",
      "bowl.n.03: a dish that is round and open at the top for serving foods\n",
      "butter_dish.n.01: a small dish (often with a cover) for holding butter at the table\n",
      "casserole.n.02: large deep dish in which food can be cooked and served\n",
      "coquille.n.02: a dish in the form of a scallop shell\n",
      "gravy_boat.n.01: a dish (often boat-shaped) for serving gravy or sauce\n",
      "petri_dish.n.01: a shallow dish used to culture bacteria\n",
      "ramekin.n.02: a small fireproof dish used for baking and serving individual portions\n",
      "serving_dish.n.01: a dish used for serving food\n",
      "sugar_bowl.n.01: a dish in which sugar is served\n",
      "watch_glass.n.01: laboratory glassware; a shallow glass dish used as an evaporating surface or to cover a beaker\n",
      "\n"
     ]
    }
   ],
   "source": [
    "print(supergloss(wn.synset('dish.n.01')))"
   ]
  },
  {
   "cell_type": "code",
   "execution_count": 52,
   "metadata": {},
   "outputs": [
    {
     "name": "stdout",
     "output_type": "stream",
     "text": [
      "batch.n.02:  (often followed by `of') a large number or amount or extent\n",
      "mint.n.02:  any north temperate plant of the genus Mentha with aromatic leaves and small mauve flowers\n",
      "mint.n.03:  any member of the mint family of plants\n",
      "mint.n.04:  the leaves of a mint plant used fresh or candied\n",
      "mint.n.05:  a candy that is flavored with a mint oil\n",
      "mint.n.06:  a plant where money is coined by authority of the government\n"
     ]
    }
   ],
   "source": [
    "for synset in wn.synsets('mint', wn.NOUN):            # from the text book\n",
    "    print(synset.name() + ': ', synset.definition())"
   ]
  },
  {
   "cell_type": "raw",
   "metadata": {},
   "source": [
    "15.Write a program to find all the words that occur atleast 3 times in the Brown Corpus"
   ]
  },
  {
   "cell_type": "code",
   "execution_count": 53,
   "metadata": {},
   "outputs": [
    {
     "name": "stdout",
     "output_type": "stream",
     "text": [
      "['the', 'fulton', 'county', 'grand', 'jury', 'said', 'friday', 'an', 'investigation', 'of', 'recent', 'primary', 'election', 'produced', 'no', 'evidence', 'that', 'any', 'irregularities', 'took', 'place', 'further', 'in', 'city', 'executive', 'committee', 'which', 'had', 'charge', 'deserves', 'praise', 'and', 'thanks', 'atlanta', 'for', 'manner', 'was', 'conducted', 'term', 'been', 'charged', 'by', 'superior', 'court', 'judge', 'to', 'investigate', 'reports', 'possible', 'won', 'ivan', 'allen', 'only', 'a', 'relative', 'handful', 'such', 'received', 'considering', 'widespread', 'interest', 'number', 'voters', 'size', 'this', 'it', 'did', 'find', 'many', 'registration', 'laws', 'are', 'outmoded', 'or', 'inadequate', 'often', 'ambiguous', 'recommended', 'legislators', 'act', 'have', 'these', 'studied', 'revised', 'end', 'modernizing', 'improving', 'them', 'commented', 'on', 'other', 'topics', 'among', 'purchasing', 'departments', 'well', 'operated', 'follow', 'generally', 'accepted', 'practices', 'best', 'both', 'governments', 'merger', 'proposed', 'however', 'believes', 'two', 'offices', 'should', 'be', 'combined', 'achieve', 'greater', 'efficiency', 'reduce', 'cost', 'administration', 'department', 'is', 'lacking', 'experienced', 'clerical', 'personnel', 'as', 'result', 'policies', 'urged', 'take', 'steps', 'remedy', 'problem', 'implementation', 'automobile', 'title', 'law', 'also', 'outgoing', 'next', 'legislature', 'provide', 'enabling', 'funds', 'effective', 'date', 'so', 'orderly', 'may', 'effected', 'at', 'state', 'welfare', 'handling', 'federal', 'granted', 'child', 'services', 'foster', 'homes', 'one', 'major', 'items', 'general', 'assistance', 'program', 'but', 'has', 'seen', 'fit', 'distribute', 'through', 'all', 'counties', 'with', 'exception', 'receives', 'none', 'money', 'jurors', 'they', 'realize', 'proportionate', 'distribution', 'might', 'our', 'less', 'populous', 'nevertheless', 'we', 'feel', 'future', 'receive', 'some', 'portion', 'available', 'failure', 'do', 'will', 'continue', 'burden', 'taxpayers', 'under', 'fire', 'its', 'appointment', 'guardians', 'administrators', 'awarding', 'fees', 'compensation', 'wards', 'protected', 'found', 'incorporated', 'into', 'operating', 'procedures', 'recommendations', 'previous', 'bar', 'association', 'interim', 'citizens', 'actions', 'serve', 'protect', 'fact', 'effect', 'from', 'undue', 'costs', 'appointed', 'elected', 'servants', 'criticisms', 'regarding', 'new', 'airport', 'when', 'management', 'takes', 'eliminate', 'political', 'influences', 'not', 'elaborate', 'added', 'there', 'periodic', 'surveillance', 'pricing', 'concessionaires', 'purpose', 'keeping', 'prices', 'reasonable', 'ask', 'jail', 'deputies', 'matters', 'four', 'additional', 'employed', 'doctor', 'medical', 'night', 'weekend', 'duty', 'work', 'officials', 'pass', 'legislation', 'permit', 'establishment', 'fair', 'equitable', 'pension', 'plan', 'employes', 'praised', 'operation', 'police', 'tax', 'office', 'prison', 'farms', 'grady', 'hospital', 'health', 'mayor', 'william', 'hartsfield', 'filed', 'suit', 'divorce', 'his', 'wife', 'pearl', 'williams', 'petition', 'mental', 'cruelty', 'couple', 'married', 'son', 'berry', 'daughter', 'griffin', 'attorneys', 'property', 'settlement', 'agreed', 'upon', 'listed', 'occupation', 'attorney', 'age', 'birth', 'lived', 'together', 'man', 'more', 'than', 'year', 'home', 'pelham', 'aj', 'henry', 'brief', 'interlude', 'since', 'career', 'goes', 'back', 'council', 'present', 'he', 'succeeded', 'who', 'became', 'candidate', 'after', 'announced', 'would', 'run', 'georgia', 'republicans', 'getting', 'strong', 'encouragement', 'enter', 'race', 'top', 'official', 'wednesday', 'robert', 'gop', 'chairman', 'meeting', 'held', 'tuesday', 'blue', 'ridge', 'brought', 'enthusiastic', 'responses', 'audience', 'party', 'james', 'enthusiasm', 'picking', 'up', 'rally', 'savannah', 'newly', 'texas', 'john', 'tower', 'featured', 'speaker', 'warned', 'entering', 'governor', 'force', 'petitions', 'out', 'voting', 'precincts', 'obtain', 'signatures', 'registered', 'despite', 'warning', 'unanimous', 'vote', 'according', 'attended', 'crowd', 'asked', 'whether', 'wanted', 'wait', 'make', 'voted', 'were', 'largest', 'hurdle', 'face', 'says', 'before', 'making', 'first', 'alternative', 'courses', 'must', 'taken', 'five', 'per', 'cent', 'each', 'sign', 'requesting', 'allowed', 'names', 'candidates', 'ballot', 'hold', 'unit', 'system', 'platform', 'sam', 'caldwell', 'highway', 'public', 'relations', 'director', 'resigned', 'garland', 'campaign', 'resignation', 'expected', 'time', 'rob', 'assistant', 'three', 'years', 'gubernatorial', 'starts', 'become', 'coordinator', 'byrd', 'wind', 'session', 'monday', 'head', 'where', 'bond', 'approved', 'shortly', 'adjournment', 'afternoon', 'senate', 'approve', 'study', 'allotted', 'rural', 'urban', 'areas', 'determine', 'what', 'adjustments', 'made', 'vandiver', 'traditional', 'visit', 'chambers', 'toward', 'likely', 'mention', 'million', 'issue', 'earlier', 'priority', 'item', 'construction', 'bonds', 'meanwhile', 'learned', 'very', 'near', 'being', 'ready', 'worth', 'reconstruction', 'go', 'courts', 'friendly', 'test', 'validity', 'then', 'sales', 'begin', 'contracts', 'let', 'repair', 'most', 'heavily', 'traveled', 'highways', 'source', 'roads', 'authority', 'road', 'revolving', 'fund', 'apparently', 'intends', 'issued', 'every', 'old', 'ones', 'paid', 'off', 'authorities', 'opened', 'battle', 'against', 'issuance', 'marvin', 'told', 'constitution', 'consulted', 'yet', 'about', 'plans', 'offer', 'resolution', 'house', 'action', 'itself', 'day', 'increase', 'expense', 'allowances', 'sunday', 'research', 'done', 'can', 'repealed', 'outright', 'notice', 'given', 'reconsideration', 'sought', 'while', 'emphasizing', 'technical', 'details', 'fully', 'worked', 'seek', 'set', 'aside', 'privilege', 'similar', 'passed', 'word', 'offered', 'pointed', 'last', 'november', 'rejected', 'constitutional', 'amendment', 'allow', 'pay', 'raises', 'sessions', 'veteran', 'jackson', 'legislator', 'aid', 'education', 'something', 'consistently', 'opposed', 'past', 'barber', 'commerce', 'asking', 'endorse', 'increased', 'support', 'provided', 'expended', 'members', 'congressional', 'delegation', 'washington', 'like', 'see', 'congressmen', 'specifically', 'him', 'tossed', 'formally', 'read', 'event', 'congress', 'does', 'board', 'directed', 'give', 'teacher', 'long', 'hot', 'controversy', 'miller', 'school', 'superintendent', 'policeman', 'put', 'coolest', 'i', 'ever', 'saw', 'harry', 'davis', 'agriculture', 'defeated', 'felix', 'bush', 'principal', 'democratic', 'votes', 'got', 'ordinary', 'carey', 'armed', 'pistol', 'stood', 'polls', 'insure', 'order', 'tom', 'just', 'church', 'smell', 'drop', 'liquor', 'bit', 'trouble', 'leading', 'quiet', 'marked', 'anonymous', 'midnight', 'phone', 'calls', 'veiled', 'threats', 'violence', 'former', 'george', 'shot', 'himself', 'death', 'march', 'days', 'post', 'dispute', 'during', 'reportedly', 'telephone', 'too', 'subjected', 'soon', 'scheduled', 'local', 'feared', 'carry', 'gun', 'promised', 'sheriff', 'good', 'promise', 'everything', 'went', 'real', 'smooth', 'austin', 'approval', 'price', 'abandoned', 'seemed', 'certain', 'thursday', 'adamant', 'protests', 'bankers', 'daniel', 'personally', 'led', 'fight', 'measure', 'watered', 'down', 'considerably', 'rejection', 'hearing', 'revenue', 'taxation', 'rules', 'automatically', 'subcommittee', 'week', 'questions', 'appearing', 'witnesses', 'left', 'little', 'doubt', 'recommend', 'passage', 'termed', 'extremely', 'conservative', 'estimate', 'produce', 'dollars', 'help', 'anticipated', 'deficit', 'current', 'fiscal', 'merely', 'means', 'enforcing', 'books', 'republic', 'permits', 'over', 'bank', 'accounts', 'stocks', 'personal', 'persons', 'missing', 'seven', 'bill', 'drafted', 'banks', 'insurance', 'firms', 'pipeline', 'companies', 'corporations', 'report', 'treasurer', 'cannot', 'enforced', 'now', 'because', 'almost', 'impossible', 'locate', 'declared', 'dewey', 'lawrence', 'lawyer', 'representing', 'sounded', 'opposition', 'keynote', 'violate', 'their', 'contractual', 'obligations', 'undermine', 'confidence', 'customers', 'if', 'you', 'destroy', 'economy', 'circulation', 'millions', 'charles', 'hughes', 'sherman', 'sponsor', 'enact', 'amount', 'gift', 'pockets', 'contention', 'denied', 'several', 'including', 'scott', 'hudson', 'jones', 'houston', 'howard', 'cox', 'argued', 'probably', 'impair', 'complained', 'enough', 'introduced', 'senators', 'unanimously', 'parkhouse', 'dallas', 'authorizing', 'schools', 'deaf', 'designed', 'special', 'schooling', 'students', 'scholastic', 'reduced', 'debate', 'authorize', 'agency', 'establish', 'population', 'require', 'children', 'between', 'attend', 'permitting', 'older', 'residential', 'here', 'budget', 'harris', 'el', 'paso', 'savings', 'yearly', 'capital', 'absorbed', 'tea', 'estimated', 'saving', 'coming', 'live', 'get', 'hear', 'horse', 'red', 'joe', 'ratcliff', 'still', 'expects', 'tell', 'folks', 'why', 'thinks', 'pro', 'letters', 'con', 'betting', 'believe', 'people', 'better', 'informed', 'question', 'oppose', 'willing', 'stake', 'my', 'san', 'antonio', 'advocacy', 'ponies', 'heard', 'option', 'proposal', 'favorable', 'although', 'faces', 'hard', 'later', 'finally', 'sent', 'extending', 'planning', 'cities', 'quickly', 'whipped', 'meager', 'fare', 'bills', 'committees', 'passing', 'calendar', 'acts', 'districts', 'another', 'enlarged', 'beaumont', 'navigation', 'district', 'third', 'amended', 'creation', 'lamar', 'previously', 'adopted', 'without', 'dissent', 'schwartz', 'mentally', 'retarded', 'gulf', 'coast', 'meantime', 'accept', 'gifts', 'site', 'revision', 'louis', 'retailers', 'group', 'miscellaneous', 'excise', 'taxes', 'eliminating', 'requirement', 'return', 'instead', 'certificate', 'correctness', 'violation', 'penalty', 'plus', 'fine', 'series', 'league', 'paris', 'relieve', 'estate', 'brokers', 'own', 'annual', 'licensing', 'fee', 'license', 'natural', 'gas', 'utility', 'right', 'eminent', 'domain', 'frank', 'owen', 'acquire', 'sites', 'underground', 'storage', 'reservoirs', 'marshall', 'commission', 'suggested', 'fill', 'need', 'costly', 'elections', 'selected', 'composed', 'lieutenant', 'chief', 'justice', 'supreme', 'representatives', 'decided', 'taking', 'poll', 'kind', 'texans', 'prefer', 'adverse', 'kept', 'affairs', 'april', 'senator', 'roberts', 'idea', 'delay', 'kill', 'west', 'texan', 'reported', 'gotten', 'final', 'legislative', 'majorities', 'printed', 'opponents', 'information', 'proposals', 'intelligent', 'choice', 'except', 'absent', 'paradise', 'lost', 'alleged', 'water', 'needs', 'big', 'cotten', 'insisted', 'development', 'effort', 'fort', 'cover', 'places', 'wise', 'hamlet', 'shouting', 'ended', 'sending', 'sponsored', 'maximum', 'loan', 'could', 'project', 'construed', 'large', 'felt', 'spent', 'providing', 'statements', 'paying', 'benefit', 'pending', 'sway', 'attack', 'defenders', 'mostly', 'de', 'la', 'mission', 'collins', 'newton', 'chapman', 'sulphur', 'springs', 'poor', 'peanut', 'serving', 'reducing', 'learning', 'educational', 'methods', 'grover', 'teaches', 'history', 'semester', 'hours', 'teaching', 'required', 'junior', 'senior', 'high', 'normal', 'college', 'teachers', 'least', 'credit', 'subject', 'remainder', 'subjects', 'person', 'degree', 'physics', 'chemistry', 'math', 'english', 'permitted', 'teach', 'immediately', 'joined', 'named', 'clarence', 'clark', 'hays', 'president', 'succeed', 'retire', 'close', 'holds', 'earned', 'university', 'oklahoma', 'master', 'science', 'bachelor', 'addition', 'rhode', 'island', 'massachusetts', 'institute', 'technology', 'captain', 'basketball', 'team', 'football', 'served', 'athletic', 'instructor', 'associate', 'professor', 'border', 'patrolman', 'signal', 'corps', 'army', 'denton', 'principals', 'independent', 'recommendation', 'chester', 'racial', 'discrimination', 'employment', 'called', 'yesterday', 'ribbon', 'dependent', 'adc', 'cook', 'york', 'consulting', 'firm', 'range', 'soaring', 'case', 'load', 'serious', 'causes', 'family', 'breakdown', 'dependency', 'solve', 'monthly', 'recipients', 'martin', 'problems', 'forced', 'depend', 'subsistence', 'volume', 'cases', 'decrease', 'community', 'able', 'deal', 'effectively', 'relatively', 'limited', 'skills', 'color', 'underlying', 'extension', 'living', 'relatives', 'parents', 'preserving', 'unity', 'projects', 'prevention', 'illegitimacy', 'defendants', 'burglary', 'trial', 'indicating', 'guilt', 'arrest', 'parsons', 'criminal', 'bellows', 'defense', 'counsel', 'startled', 'observers', 'viewed', 'prelude', 'quarrel', 'six', 'eight', 'policemen', 'grant', 'client', 'alan', 'clements', 'separate', 'request', 'fears', 'prejudicial', 'aspects', 'highly', 'strongly', 'indicated', 'knew', 'receiving', 'stolen', 'involving', 'themselves', 'others', 'leaned', 'bench', 'inquired', 'mean', 'admitting', 'yes', 'your', 'honor', 'replied', 'amounts', 'true', 'conflict', 'july', 'kennedy', 'today', 'pushed', 'white', 'business', 'devote', 'attention', 'working', 'berlin', 'crisis', 'address', 'deliver', 'tomorrow', 'american', 'nationwide', 'television', 'radio', 'much', 'summer', 'cape', 'cod', 'writing', 'drafts', 'portions', 'aids', 'whom', 'talked', 'returned', 'port', 'spokesman', 'text', 'quite', 'way', 'completion', 'decisions', 'pierre', 'salinger', 'press', 'secretary', 'say', 'thru', 'advisers', 'staff', 'doing', 'involved', 'composition', 'wording', 'rather', 'minute', 'meet', 'latest', 'precipitated', 'demands', 'dismissed', 'acting', 'karns', 'prosecution', 'obtained', 'unfair', 'fundamentally', 'illegal', 'matter', 'even', 'significance', 'innocence', 'legal', 'rights', 'ruling', 'ruled', 'unable', 'contempt', 'proceedings', 'originally', 'morris', 'wexler', 'prosecutor', 'admitted', 'hearings', 'questioned', 'individuals', 'building', 'mayer', 'goldberg', 'judges', 'precinct', 'ward', 'procedure', 'constituted', 'intimidation', 'repeatedly', 'coercion', 'used', 'questioning', 'privately', 'outside', 'room', 'misuse', 'processes', 'actually', 'abuse', 'process', 'vindication', 'function', 'east', 'sitting', 'faced', 'complementary', 'claims', 'precedent', 'reading', 'statement', 'discharging', 'dismiss', 'mammoth', 'care', 'whereby', 'social', 'security', 'workers', 'raised', 'americans', 'covered', 'railroad', 'retirement', 'programs', 'message', 'tied', 'aged', 'requests', 'grants', 'finance', 'dental', 'scholarships', 'build', 'expand', 'capitol', 'hill', 'financed', 'boosting', 'payroll', 'worker', 'employer', 'alone', 'boost', 'base', 'imposed', 'those', 'rise', 'starting', 'levy', 'already', 'billion', 'benefits', 'figures', 'higher', 'parts', 'entail', 'nursing', 'carries', 'systems', 'full', 'payment', 'stays', 'illness', 'patient', 'nine', 'following', 'discharge', 'formula', 'allowing', 'use', 'part', 'clinic', 'diagnostic', 'service', 'excess', 'visiting', 'nurse', 'noted', 'states', 'needy', 'modest', 'wish', 'staggered', 'drain', 'caused', 'extended', 'stay', 'cut', 'absolutely', 'essential', 'sufficient', 'deductible', 'requirements', 'discourage', 'unnecessary', 'hospitals', 'socialized', 'medicine', 'absolute', 'freedom', 'guaranteed', 'choose', 'doctors', 'apart', 'ambitious', 'enlarge', 'handle', 'student', 'needed', 'rising', 'moreover', 'qualified', 'young', 'going', 'afford', 'contributions', 'scholarship', 'equal', 'based', 'government', 'matching', 'totaling', 'constructing', 'enlarging', 'capacity', 'existing', 'area', 'doubling', 'dollar', 'initial', 'appropriation', 'improve', 'unspecified', 'sum', 'experimental', 'field', 'bureau', 'national', 'asks', 'vocational', 'rehabilitation', 'how', 'facilities', 'propose', 'increasing', 'direct', 'combine', 'indispensable', 'elements', 'sound', 'knowledge', 'reaction', 'along', 'lines', 'placing', 'criticized', 'backed', 'hailed', 'republican', 'leader', 'dirksen', 'halleck', 'persuade', 'change', 'compulsory', 'voluntary', 'enacted', 'rayburn', 'mighty', 'thing', 'prediction', 'fate', 'hastily', 'pressure', 'tonight', 'confirmed', 'weaver', 'housing', 'floor', 'record', 'scattered', 'customary', 'ignored', 'speed', 'negro', 'administrator', 'presidential', 'appointments', 'cabinet', 'rank', 'immediate', 'rule', 'requiring', 'hour', 'enforce', 'demand', 'wayne', 'morse', 'connection', 'selections', 'oslo', 'positive', 'element', 'emerge', 'north', 'atlantic', 'treaty', 'organization', 'foreign', 'ministers', 'freer', 'wider', 'discussions', 'animated', 'mutual', 'understanding', 'meetings', 'nature', 'proceed', 'route', 'step', 'dramatic', 'changes', 'met', 'climate', 'genuine', 'attempt', 'atmosphere', 'particularly', 'noticeable', 'concerned', 'powers', 'never', 'nightmare', 'clash', 'africa', 'difficulties', 'tragedies', 'facing', 'allies', 'intellectually', 'emotionally', 'disapprove', 'circumstances', 'troubles', 'conspicuous', 'absence', 'explosion', 'avoided', 'portugal', 'few', 'weeks', 'ago', 'walk', 'nato', 'critics', 'angola', 'policy', 'prove', 'harsh', 'relaxation', 'tension', 'remarkably', 'courteous', 'explanation', 'basic', 'positions', 'unchanged', 'bitter', 'surprises', 'un', 'assembly', 'ad', 'hoc', 'discussed', 'advance', 'canada', 'somewhat', 'allied', 'cars', 'track', 'behind', 'daily', 'manifestations', 'atomic', 'arms', 'heart', 'alliance', 'closer', 'line', 'negative', 'side', 'balance', 'sheet', 'disappointment', 'united', 'leadership', 'hoped', 'diplomat', 'described', 'tenor', 'dean', 'speeches', 'inconclusive', 'hastened', 'add', 'always', 'clear', 'analysis', 'various', 'global', 'danger', 'points', 'setbacks', 'firmly', 'fixed', 'exploratory', 'mood', 'vagueness', 'tactical', 'appreciation', 'affair', 'fewer', 'soviet', 'correspondents', 'impression', 'popularity', 'came', 'tentative', 'frame', 'mind', 'listen', 'learn', 'scale', 'detailed', 'application', 'individual', 'spots', 'speech', 'gave', 'tremendous', 'events', 'inside', 'preoccupied', 'months', 'core', 'profound', 'attachment', 'cornerstone', 'nuclear', 'submarines', 'eventually', 'disposal', 'european', 'waters', 'solemnly', 'repeated', 'union', 'stand', 'setback', 'affirmation', 'once', 'again', 'whole', 'surveyed', 'greatest', 'achievement', 'perhaps', 'realization', 'friction', 'wherever', 'around', 'globe', 'essence', 'entirely', 'different', 'societies', 'treated', 'regard', 'geographical', 'distance', 'lack', 'apparent', 'spring', 'impetus', 'main', 'directions', 'deeper', 'timely', 'consultation', 'within', 'economic', 'cooperation', 'ratified', 'method', 'coordinating', 'underdeveloped', 'countries', 'strengthening', 'conventional', 'forces', 'maintenance', 'deterrent', 'threshold', 'difficult', 'come', 'ally', 'laid', 'completely', 'fulfilled', 'moves', 'geneva', 'conference', 'laos', 'optimism', 'communists', 'docile', 'table', 'military', 'ground', 'explain', 'mainly', 'interested', 'setting', 'international', 'inspection', 'prevent', 'communist', 'attacks', 'neighboring', 'thailand', 'south', 'viet', 'nam', 'count', 'neutral', 'attending', 'hopes', 'lao', 'dominated', 'acceptable', 'possibility', 'modified', 'inclination', 'facto', 'insist', 'verification', 'control', 'participating', 'modifications', 'compelled', 'chain', 'errors', 'spokesmen', 'reforms', 'critical', 'moving', 'showing', 'gain', 'free', 'world', 'arises', 'dealing', 'aggression', 'richard', 'nixon', 'detroit', 'firmer', 'tougher', 'feels', 'tendency', 'restrained', 'situation', 'hardly', 'restrain', 'raising', 'power', 'amateurish', 'monumental', 'cuba', 'correspondent', 'constantly', 'score', 'reply', 'country', 'politics', 'wisdom', 'morton', 'r', 'kentucky', 'responsible', 'outcome', 'coalition', 'susceptible', 'domination', 'assailed', 'direction', 'harvard', 'boston', 'educators', 'invasion', 'exile', 'groups', 'castro', 'regime', 'bloc', 'diplomatic', 'resumption', 'trade', 'concentrate', 'constructive', 'efforts', 'latin', 'america', 'conditions', 'totalitarian', 'nationalism', 'feeds', 'intervention', 'specific', 'provocation', 'clearly', 'shipped', 'tolerated', 'until', 'cuban', 'fiasco', 'victories', 'observer', 'blended', 'respected', 'opinions', 'voiced', 'professors', 'revamped', 'early', 'kremlin', 'channels', 'disclosed', 'react', 'eisenhower', 'period', 'strenuous', 'remove', 'pin', 'ban', 'negotiations', 'reviewed', 'changed', 'thus', 'far', 'response', 'emphasis', 'encourage', 'reform', 'recipient', 'nations', 'looked', 'show', 'determination', 'sailing', 'naval', 'fleet', 'southeast', 'asian', 'useless', 'gesture', 'freeze', 'aided', 'pathet', 'faster', 'rate', 'territory', 'exposed', 'huge', 'acclaimed', 'performing', 'great', 'asia', 'seato', 'steamed', 'prepared', 'contingency', 'coping', 'losses', 'want', 'risk', 'war', 'disagreed', 'complication', 'concluded', 'ill', 'suited', 'unlike', 'determined', 'neighbors', 'favor', 'neutralized', 'helped', 'revolt', 'souvanna', 'phouma', 'neutralist', 'appear', 'spark', 'fighting', 'spirit', 'royal', 'certainly', 'energy', 'displayed', 'hilt', 'ideas', 'prince', 'trusting', 'gradually', 'relinquish', 'factor', 'd', 'arkansas', 'erred', 'half', 'encouraging', 'removal', 'extraordinary', 'check', 'rapid', 'growth', 'juvenile', 'delinquency', 'deeply', 'vitality', 'nation', 'important', 'assertion', 'establishing', 'crime', 'supported', 'assisted', 'advisory', 'recognized', 'enactment', 'specified', 'disturbing', 'trend', 'offenses', 'multiply', 'labor', 'coordinate', 'assist', 'communities', 'cope', 'simultaneously', 'david', 'youth', 'sense', 'urgency', 'stems', 'arrests', 'doubled', 'providence', 'organize', 'civil', 'setup', 'raymond', 'hawksley', 'cd', 'anyone', 'else', 'locally', 'outline', 'earliest', 'noting', 'handed', 'responsibility', 'salary', 'expressed', 'opinion', 'hire', 'basis', 'believed', 'residents', 'job', 'men', 'headquarters', 'pertinent', 'centralized', 'advantage', 'having', 'eligible', 'apply', 'financial', 'equipment', 'procurement', 'radios', 'rescue', 'trucks', 'vehicle', 'central', 'station', 'assign', 'riverside', 'section', 'speaking', 'status', 'bet', 'hundred', 'know', 'enemy', 'narragansett', 'grounds', 'point', 'theater', 'knowing', 'assemble', 'air', 'vital', 'frequently', 'regular', 'intervals', 'fails', 'consider', 'call', 'september', 'developed', 'things', 'classes', 'drifts', 'level', 'examine', 'revisions', 'notte', 'name', 'move', 'form', 'letter', 'miss', 'mary', 'deputy', 'clerk', 'falls', 'copy', 'released', 'responding', 'urges', 'complete', 'eye', 'perform', 'review', 'joseph', 'nugent', 'views', 'appoint', 'expect', 'religious', 'affected', 'wrote', 'continuous', 'confronts', 'enforcement', 'officers', 'regulating', 'advised', 'activity', 'across', 'statutes', 'bay', 'dating', 'instances', 'colonial', 'times', 'severely', 'limit', 'types', 'merchandise', 'sold', 'concern', 'especially', 'foods', 'placed', 'list', 'neighborhood', 'grocery', 'variety', 'stores', 'chance', 'compete', 'supermarkets', 'small', 'shops', 'retained', 'livelihood', 'thousands', 'declares', 'licenses', 'factory', 'outlets', 'operate', 'contended', 'shopping', 'liberals', 'conservatives', 'parties', 'reama', 'nationally', 'known', 'expert', 'rotary', 'club', 'luncheon', 'hotel', 'type', 'enterprise', 'average', 'voter', 'pull', 'lever', 'confessing', 'member', 'socialist', 'machinist', 'fellow', 'me', 'steered', 'utilities', 'resources', 'gaining', 'victory', 'original', 'retired', 'vice', 'screw', 'us', 'gross', 'product', 'neither', 'favors', 'wage', 'increases', 'manufacturers', 'caught', 'profit', 'squeeze', 'conditioned', 'turned', 'philosophy', 'dividing', 'really', 'engaged', 'industrial', 'counseling', 'bearing', 'johnston', 'presented', 'town', 'obtaining', 'charter', 'martinelli', 'transferred', 'hand', 'suggestion', 'referred', 'happens', 'explained', 'assure', 'completes', 'difference', 'arose', 'bourcier', 'solicitor', 'exact', 'handled', 'justices', 'favoring', 'assured', 'correct', 'strategy', 'movement', 'undoubtedly', 'comes', 'inspiring', 'think', 'hope', 'surprised', 'running', 'posts', 'goal', 'awareness', 'timetable', 'followed', 'started', 'model', 'municipal', 'misunderstanding', 'meaning', 'cited', 'false', 'affixed', 'consent', 'provision', 'included', 'sanitary', 'sewer', 'ordinance', 'motorists', 'plead', 'guilty', 'minor', 'traffic', 'michael', 'draft', 'authorized', 'adopt', 'nothing', 'sixth', 'disposition', 'hesitated', 'heavy', 'simplest', 'offense', 'plainfield', 'mitchell', 'walter', 'value', 'using', 'remark', 'campaigning', 'carcass', 'republicanism', 'dumont', 'spoke', 'park', 'controversial', 'westfield', 'cocktail', 'scotch', 'plains', 'greeted', 'chorus', 'women', 'trenton', 'forum', 'federation', 'clubs', 'intention', 'stopped', 'beating', 'congealed', 'gone', 'sell', 'tattered', 'remains', 'love', 'considered', 'mediocre', 'fall', 'common', 'decency', 'proud', 'dead', 'regrets', 'regretted', 'wrong', 'inject', 'waged', 'issues', 'respond', 'either', 'applause', 'merit', 'open', 'launched', 'continuance', 'passenger', 'proper', 'uses', 'surplus', 'jersey', 'attractive', 'industry', 'unemployment', 'meyner', 'share', 'blame', 'truck', 'plant', 'am', 'income', 'unhappy', 'minutes', 'saved', 'centralization', 'looks', 'transportation', 'crises', 'saying', 'ways', 'motor', 'vehicles', 'challenge', 'stands', 'defends', 'ike', 'resent', 'reference', 'discredited', 'insult', 'twice', 'overwhelmingly', 'symbol', 'intentions', 'understand', 'seeking', 'position', 'life', 'demonstrate', 'judgment', 'bad', 'taste', 'vicious', 'origin', 'desire', 'try', 'condemning', 'stature', 'sees', 'ahead', 'sandman', 'nomination', 'addressing', 'newark', 'essex', 'leaders', 'managers', 'gathering', 'indicate', 'chosen', 'nominee', 'majority', 'announcement', 'clifford', 'spend', 'giveaway', 'desperate', 'prop', 'sagging', 'proven', 'answer', 'witnessed', 'image', 'failed', 'witnessing', 'transfer', 'glow', 'candidacy', 'fail', 'harriet', 'supervisor', 'sheets', 'paper', 'represents', 'necessary', 'democracy', 'lip', 'financing', 'purchase', 'machines', 'repay', 'exclusive', 'january', 'mandatory', 'impinging', 'basically', 'results', 'sheeran', 'orange', 'edward', 'safety', 'commissioner', 'fbi', 'vacancy', 'neil', 'appeals', 'experience', 'shown', 'filled', 'preferably', 'jim', 'fits', 'description', 'warden', 'conservation', 'citation', 'credits', 'supervision', 'reduction', 'forest', 'fires', 'division', 'graduation', 'michigan', 'private', 'lumber', 'october', 'techniques', 'plowing', 'established', 'tractor', 'plows', 'units', 'expanded', 'modernized', 'training', 'credited', 'cross', 'debut', 'bid', 'pledge', 'corner', 'nearly', 'inn', 'glad', 'democrats', 'resolve', 'expedient', 'feet', 'popular', 'slogans', 'win', 'liberal', 'planned', 'forward', 'looking', 'honest', 'talk', 'mouth', 'truth', 'elect', 'signs', 'feeble', 'shall', 'partner', 'courageous', 'attraction', 'stop', 'southern', 'keep', 'bloodstream', 'clean', 'hoodlums', 'calling', 'lives', 'representative', 'green', 'acres', 'tracts', 'land', 'onrush', 'underwrite', 'municipalities', 'conquer', 'space', 'conserve', 'pointing', 'rapidly', 'changing', 'unless', 'preserve', 'comment', 'sympathetic', 'explicit', 'bring', 'dynamic', 'afraid', 'tangle', 'fifteen', 'retiring', 'voluntarily', 'honored', 'colleagues', 'whose', 'terms', 'carved', 'wooden', 'elephants', 'ivory', 'tusks', 'remember', 'leaving', 'presentation', 'thompson', 'stepping', 'she', 'adoption', 'suffrage', 'resentment', 'wagner', 'paul', 'screvane', 'abraham', 'beame', 'mates', 'same', 'opportunity', 'internal', 'regarded', 'bigger', 'trying', 'induce', 'controller', 'arthur', 'levitt', 'brooklyn', 'contend', 'file', 'view', 'proposing', 'ticket', 'emphasize', 'weakness', 'performance', 'rival', 'slate', 'buckley', 'bronx', 'visits', 'usual', 'touch', 'sapio', 'manhattan', 'publicly', 'believing', 'replaced', 'visited', 'discussion', 'key', 'acceptance', 'choices', 'struggle', 'talks', 'assent', 'dropping', 'seems', 'assumed', 'pick', 'successor', 'declined', 'interviews', 'reporters', 'confirm', 'deny', 'queens', 'replace', 'abe', 'stark', 'incumbent', 'irish', 'hunter', 'campus', 'published', 'announce', 'definite', 'june', 'wave', 'corruption', 'tangible', 'feeling', 'revulsion', 'taxi', 'driver', 'visitor', 'remarks', 'politicians', 'scientist', 'writes', 'alienated', 'influence', 'corrupt', 'selfish', 'beyond', 'secret', 'conspiracy', 'object', 'widely', 'identified', 'locale', 'edwin', 'novel', 'hurrah', 'reasons', 'spotlight', 'succession', 'publicized', 'scandals', 'aroused', 'works', 'investigations', 'attracted', 'ethical', 'reader', 'newspapers', 'escape', 'petty', 'worse', 'norm', 'episode', 'accused', 'beach', 'waterfront', 'sharply', 'contrasting', 'forecasts', 'uncertain', 'depends', 'trimble', 'democrat', 'siding', 'hopeful', 'encounter', 'sometime', 'provides', 'mortgages', 'low', 'families', 'slums', 'colleges', 'dormitories', 'appears', 'temporarily', 'stalled', 'northern', 'usually', 'delaney', 'thomas', 'quick', 'progress', 'loans', 'parochial', 'languages', 'mathematics', 'peace', 'assigned', 'agencies', 'carried', 'submitted', 'universities', 'twelve', 'stage', 'gordon', 'interview', 'middle', 'confusion', 'goals', 'happen', 'churchmen', 'example', 'month', 'ghana', 'missionary', 'discovered', 'protested', 'owner', 'worry', 'pays', 'overseas', 'explains', 'shrugged', 'remarked', 'classical', 'separation', 'sargent', 'shriver', 'proposes', 'moscow', 'gay', 'sukarno', 'indonesia', 'premier', 'khrushchev', 'pulled', 'beaming', 'look', 'successful', 'banker', 'twenty', 'expanding', 'uncommitted', 'allocated', 'western', 'estimates', 'biggest', 'beginning', 'technicians', 'experts', 'professional', 'amid', 'intensified', 'role', 'puts', 'premium', 'strength', 'jobs', 'india', 'inhabitants', 'filling', 'secretariat', 'panel', 'completed', 'eighteen', 'due', 'administrative', 'budgetary', 'understood', 'officer', 'economist', 'start', 'above', 'forming', 'unite', 'kingdom', 'decision', 'boun', 'latter', 'joint', 'welcomed', 'nineteenth', 'plenary', 'agreement', 'princes', 'ease', 'task', 'diplomats', 'conceded', 'overly', 'optimistic', 'tactics', 'malcolm', 'britain', 'maurice', 'minister', 'external', 'round', 'pace', 'slowed', 'princess', 'cordial', 'agenda', 'reached', 'principles', 'guide', 'factors', 'search', 'pfaff', 'promotion', 'manager', 'publishing', 'company', 'saturday', 'succeeds', 'burke', 'commercial', 'artist', 'advertising', 'native', 'orleans', 'elementary', 'december', 'merchandising', 'wholesale', 'miles', 'seats', 'erected', 'pennsylvania', 'avenue', 'inaugural', 'parade', 'assuming', 'weather', 'halfway', 'decent', 'hundreds', 'mass', 'thoroughfare', 'dwight', 'leave', 'ceremonies', 'ride', 'historic', 'ceremonial', 'impressive', 'street', 'columbia', 'standpoint', 'viewpoint', 'approach', 'buildings', 'shrines', 'monuments', 'course', 'famous', 'easy', 'begins', 'block', 'chapters', 'recorded', 'thousand', 'watch', 'square', 'marching', 'soldiers', 'returning', 'archives', 'valuable', 'records', 'located', 'hoover', 'car', 'tracks', 'center', 'spectators', 'occupying', 'vantage', 'bordering', 'lafayette', 'opposite', 'statues', 'andrew', 'hero', 'viewing', 'branches', 'academies', 'include', 'representations', 'respective', 'johnson', 'admission', 'headed', 'marines', 'navy', 'guard', 'reserve', 'puerto', 'rico', 'virgin', 'islands', 'guam', 'trust', 'territories', 'canal', 'zone', 'governmental', 'developments', 'mississippi', 'observing', 'scene', 'script', 'gazing', 'largely', 'operates', 'helm', 'ross', 'barnett', 'surrounded', 'keeps', 'foes', 'guessing', 'friends', 'consequently', 'predict', 'settle', 'iron', 'rough', 'edges', 'headache', 'steady', 'stream', 'commitments', 'quest', 'decide', 'throw', 'nobody', 'lawmakers', 'enjoy', 'strange', 'honeymoon', 'decade', 'odds', 'restless', 'companionship', 'withstand', 'sensitive', 'cutting', 'seat', 'eyes', 'focused', 'delta', 'congressman', 'smith', 'longstanding', 'crossroads', 'split', 'badly', 'equally', 'divided', 'camps', 'currently', 'wreck', 'clouded', 'ranks', 'bypass', 'patronage', 'normally', 'flow', 'solidarity', 'picture', 'remained', 'loyal', 'probable', 'stripped', 'flows', 'baton', 'rouge', 'theme', 'harmony', 'severe', 'stresses', 'segregation', 'troublesome', 'finances', 'transition', 'hike', 'revenues', 'dedicated', 'dedication', 'suspect', 'related', 'directly', 'shortage', 'cash', 'weary', 'indeed', 'curious', 'contributing', 'defeat', 'effectiveness', 'clearing', 'play', 'determining', 'muster', 'normalcy', 'hands', 'integration', 'terminate', 'toss', 'towel', 'anyway', 'frustrated', 'losing', 'token', 'sort', 'acknowledge', 'convey', 'notion', 'though', 'continued', 'extra', 'unlikely', 'conclusion', 'purposes', 'perfect', 'acute', 'interesting', 'dilemma', 'forbids', 'introduction', 'expenses', 'constant', 'stab', 'prospect', 'spending', 'unpleasant', 'avoid', 'alternatives', 'blocked', 'trim', 'arouse', 'squeezed', 'exert', 'confronting', 'tried', 'economize', 'revive', 'allegations', 'followers', 'affiliations', 'depending', 'combat', 'alexander', 'hemphill', 'bids', 'elevated', 'rigged', 'contracting', 'loss', 'ranged', 'unnoticed', 'steel', 'erection', 'contracted', 'legitimate', 'competing', 'disclosures', 'sued', 'covering', 'contract', 'philadelphia', 'investigating', 'played', 'reviewing', 'signature', 'harold', 'architecture', 'engineering', 'appeared', 'fired', 'charges', 'accepting', 'contractor', 'managing', 'donald', 'cooperate', 'sharp', 'disagreement', 'sue', 'recovery', 'berger', 'morning', 'ptc', 'bankrupt', 'consolidated', 'industries', 'reorganization', 'bankruptcy', 'directors', 'draw', 'pleas', 'travelers', 'continental', 'casualty', 'intervened', 'preliminary', 'filing', 'claim', 'violated', 'violations', 'involve', 'expansion', 'joints', 'overhauling', 'repaired', 'wide', 'repairs', 'sons', 'cambridge', 'headline', 'hooked', 'douglas', 'pratt', 'transit', 'samuel', 'goodis', 'objected', 'occupancy', 'rates', 'hotels', 'percent', 'objection', 'rooms', 'testifies', 'testimony', 'raise', 'rooming', 'houses', 'dwellings', 'renewal', 'single', 'account', 'apartment', 'leonard', 'builders', 'behalf', 'dog', 'drew', 'virginia', 'formerly', 'dogs', 'males', 'females', 'flat', 'replies', 'owners', 'penalized', 'animal', 'spends', 'annually', 'collects', 'bites', 'backs', 'adequately', 'compensated', 'schedule', 'inspections', 'eugene', 'julian', 'barnard', 'montgomery', 'horace', 'davenport', 'widow', 'killed', 'pleaded', 'manslaughter', 'fined', 'warren', 'probation', 'drive', 'driving', 'sentence', 'pronounced', 'victim', 'accident', 'lee', 'violating', 'agreements', 'redevelopment', 'eastwick', 'hazards', 'acre', 'tract', 'bounded', 'parks', 'designated', 'feature', 'row', 'garden', 'apartments', 'churches', 'clusters', 'corporation', 'formed', 'reynolds', 'metal', 'builder', 'second', 'developing', 'greece', 'sectors', 'barred', 'landscaped', 'esplanade', 'entire', 'length', 'eliminates', 'ran', 'pedestrian', 'bridges', 'kansas', 'upi', 'fighters', 'injured', 'bomb', 'tore', 'battalion', 'stanton', 'gladden', 'figure', 'representation', 'teamsters', 'suffered', 'multiple', 'ankles', 'baptist', 'memorial', 'ignition', 'sets', 'blast', 'driveway', 'flash', 'lying', 'younger', 'boy', 'knocked', 'bed', 'wall', 'hood', 'flies', 'flying', 'roof', 'front', 'wheel', 'landed', 'away', 'laboratory', 'explosive', 'device', 'containing', 'tnt', 'starter', 'target', 'threatening', 'torn', 'dissension', 'outspoken', 'critic', 'began', 'organizing', 'firemen', 'reward', 'bombing', 'guards', 'mining', 'active', 'turkey', 'ap', 'turkish', 'bowed', 'emergency', 'gursel', 'contested', 'bargaining', 'threat', 'coup', 'junta', 'overthrow', 'deadline', 'join', 'threatened', 'protocol', 'agreeing', 'demanded', 'pledges', 'satisfied', 'stated', 'solution', 'created', 'vincent', 'ierulli', 'temporary', 'practicing', 'portland', 'graduate', 'northwestern', 'father', 'helping', 'structure', 'aiding', 'economically', 'multnomah', 'paths', 'identical', 'congenial', 'ours', 'adding', 'develop', 'society', 'loyalty', 'patience', 'insuring', 'germany', 'rebel', 'century', 'doors', 'gives', 'peoples', 'compare', 'reason', 'fear', 'extraordinarily', 'absorb', 'exported', 'goods', 'products', 'total', 'towards', 'advice', 'coordination', 'plea', 'ralph', 'molvar', 'sw', 'thought', 'cooperating', 'strictly', 'melvin', 'barnes', 'waiting', 'sure', 'whatever', 'fruitful', 'los', 'angeles', 'send', 'disaster', 'everybody', 'voice', 'her', 'please', 'faith', 'somebody', 'everyone', 'rush', 'evacuation', 'lots', 'realistic', 'jack', 'instructed', 'salem', 'statewide', 'mothers', 'greeting', 'mark', 'reception', 'noon', 'emerald', 'empire', 'speak', 'willamette', 'swearing', 'circuit', 'game', 'beaverton', 'examined', 'blueprints', 'specifications', 'workshop', 'masonic', 'temple', 'dinner', 'honoring', 'organized', 'roosevelt', 'whipple', 'oregon', 'speakers', 'edith', 'al', 'norman', 'terry', 'oak', 'grove', 'lodge', 'salter', 'seeks', 'barbara', 'vacated', 'hugh', 'stout', 'sexton', 'theodore', 'stronger', 'beliefs', 'grasp', 'delegates', 'assemblies', 'god', 'strengthen', 'modern', 'trends', 'bible', 'belief', 'dependence', 'zimmerman', 'bulwark', 'compromise', 'truths', 'editing', 'clarification', 'denomination', 'reads', 'scriptures', 'testament', 'verbally', 'inspired', 'revelation', 'infallible', 'authoritative', 'conduct', 'emphasizes', 'lord', 'jesus', 'christ', 'sinless', 'miracles', 'bodily', 'super', 'consecutive', 'springfield', 'forthcoming', 'breakthrough', 'opening', 'brandt', 'missions', 'stressed', 'surveys', 'contact', 'loses', 'talking', 'upwards', 'babies', 'born', 'immigrant', 'light', 'illinois', 'england', 'vision', 'accomplish', 'necessitate', 'meets', 'ability', 'capsule', 'includes', 'engaging', 'mature', 'pioneer', 'strategic', 'centers', 'surrounding', 'pastors', 'volunteers', 'laymen', 'lending', 'arranging', 'graduates', 'apprentices', 'powell', 'motions', 'fraud', 'denials', 'dismissal', 'striking', 'verdict', 'denying', 'trials', 'upheld', 'conspirators', 'defendant', 'philip', 'linking', 'proof', 'mails', 'miami', 'orioles', 'distinction', 'dropped', 'straight', 'exhibition', 'athletics', 'indications', 'late', 'birds', 'coasted', 'siebern', 'hits', 'homer', 'frames', 'fisher', 'oriole', 'pennant', 'yielding', 'dick', 'hyde', 'entered', 'contest', 'existed', 'deadlock', 'solo', 'tuttle', 'runs', 'eighth', 'ninth', 'fifth', 'throws', 'wild', 'marv', 'throneberry', 'stole', 'fanned', 'catcher', 'dirt', 'heywood', 'sullivan', 'singled', 'proved', 'winning', 'rookie', 'southpaw', 'relieved', 'tally', 'baseman', 'pitch', 'shortstop', 'jerry', 'glove', 'performed', 'plate', 'fashion', 'blows', 'offerings', 'pitchers', 'doubles', 'brooks', 'robinson', 'pair', 'breeding', 'hartman', 'bob', 'ed', 'keegan', 'mound', 'chores', 'palm', 'stadium', 'fourth', 'purchased', 'milwaukee', 'braves', 'appearance', 'merited', 'triumph', 'escaping', 'double', 'fence', 'deep', 'whitey', 'possibly', 'strongest', 'balls', 'pete', 'failing', 'bunt', 'popped', 'grass', 'short', 'batting', 'fouling', 'pitches', 'buddy', 'barker', 'bounced', 'lumpe', 'inning', 'moved', 'russ', 'crossed', 'flock', 'jackie', 'hole', 'gentile', 'beat', 'grabbed', 'ball', 'threw', 'error', 'slammed', 'runners', 'stretch', 'blow', 'triple', 'andy', 'rundown', 'scoring', 'blasted', 'scoreboard', 'hit', 'rapped', 'fast', 'break', 'streak', 'champion', 'yankees', 'flavor', 'florida', 'grapefruit', 'news', 'ron', 'hansen', 'slugged', 'homers', 'drove', 'freshman', 'squad', 'players', 'flew', 'baltimore', 'signed', 'spectator', 'pounds', 'lighter', 'checked', 'reporting', 'weight', 'melt', 'breaks', 'camp', 'hence', 'inducted', 'knox', 'physically', 'carrying', 'improved', 'fielding', 'albany', 'surprise', 'slugging', 'sensation', 'defensive', 'hitters', 'engage', 'workout', 'prior', 'skinny', 'brown', 'hoyt', 'wilhelm', 'specialists', 'slated', 'champions', 'sheldon', 'roland', 'posted', 'farm', 'walker', 'art', 'houk', 'casey', 'stengel', 'yankee', 'petersburg', 'dimaggio', 'crowds', 'games', 'famed', 'assisting', 'coach', 'pitcher', 'steve', 'completing', 'hitch', 'accelerated', 'enlisted', 'bulky', 'contingent', 'richards', 'coaches', 'streamlined', 'workable', 'bird', 'bat', 'celebrate', 'pretty', 'unfortunately', 'expired', 'pitching', 'arrived', 'nightfall', 'dunn', 'flight', 'delayed', 'boarding', 'ramp', 'inflicted', 'damage', 'wing', 'plane', 'clint', 'catching', 'tokyo', 'someplace', 'fresh', 'filly', 'downed', 'promising', 'colts', 'purse', 'seventh', 'stages', 'jockey', 'races', 'substantial', 'lead', 'tired', 'nearing', 'wire', 'save', 'glen', 'bright', 'sun', 'brisk', 'condition', 'apprentice', 'suspended', 'ten', 'crowding', 'horses', 'crossing', 'gets', 'mating', 'self', 'rosy', 'fingered', 'allowance', 'claiming', 'cleveland', 'kerr', 'knights', 'columbus', 'dave', 'mills', 'duel', 'wiped', 'king', 'yards', 'thirds', 'turn', 'timed', 'indoor', 'season', 'thrill', 'slender', 'woman', 'broke', 'grace', 'butcher', 'nearby', 'housewife', 'finished', 'snapped', 'helen', 'ohio', 'francisco', 'bobby', 'relief', 'quarterback', 'undergo', 'knee', 'franklin', 'swelling', 'consult', 'physician', 'tony', 'eleventh', 'donated', 'chicago', 'sox', 'halfback', 'plays', 'moritz', 'southwest', 'clock', 'kick', 'nose', 'hip', 'pads', 'longhorn', 'favored', 'cotton', 'bowl', 'kicked', 'tries', 'string', 'conversions', 'astray', 'slaughter', 'stamford', 'bothered', 'muscle', 'thigh', 'kicking', 'leg', 'barely', 'playing', 'hampered', 'injury', 'missed', 'statistical', 'net', 'ineligible', 'timing', 'boys', 'seem', 'practice', 'helps', 'golf', 'swing', 'kicks', 'kinda', 'footnotes', 'longhorns', 'scored', 'completions', 'attempts', 'rushing', 'brilliant', 'sophomore', 'gained', 'touchdown', 'insists', 'prevailed', 'smu', 'coaching', 'rice', 'happy', 'meek', 'academy', 'kids', 'stayed', 'particular', 'gratification', 'performances', 'nelson', 'billy', 'gannon', 'magnificent', 'interference', 'stops', 'nick', 'loose', 'contributed', 'aerial', 'thrusts', 'screen', 'incomplete', 'spotted', 'nailed', 'yard', 'intercepted', 'lay', 'waited', 'mike', 'kelsey', 'doubtful', 'blind', 'definitely', 'opener', 'maryland', 'lot', 'film', 'reserves', 'taper', 'huddle', 'drill', 'tackle', 'undergoing', 'treatment', 'm', 'rain', 'mud', 'gene', 'idleness', 'ankle', 'myers', 'shaken', 'tech', 'trinity', 'bud', 'denver', 'buffalo', 'hank', 'buster', 'ramsey', 'collectors', 'productive', 'louisiana', 'upset', 'defending', 'luck', 'exclaimed', 'stram', 'splendid', 'whip', 'dangerous', 'broncs', 'star', 'spikes', 'interior', 'exceptionally', 'movies', 'davidson', 'throwing', 'passes', 'bang', 'strikes', 'tactic', 'controlling', 'giving', 'flashy', 'delivered', 'comforting', 'speedy', 'claimed', 'resulted', 'book', 'statistics', 'spree', 'tough', 'bulge', 'loop', 'leads', 'averages', 'idle', 'unofficial', 'checks', 'leagues', 'ordered', 'tests', 'nischwitz', 'pinpoint', 'bears', 'indianapolis', 'husky', 'command', 'countless', 'viewers', 'louisville', 'pack', 'walked', 'charley', 'hinton', 'innings', 'unusual', 'characteristic', 'mcauliffe', 'cracked', 'don', 'rudolph', 'jay', 'cooke', 'porter', 'bases', 'smash', 'rightfield', 'phil', 'indians', 'bunched', 'chuck', 'tripled', 'cliff', 'dan', 'infield', 'roller', 'accounted', 'outfield', 'hammered', 'clicked', 'spectacular', 'showed', 'arm', 'obvious', 'lights', 'flooded', 'dark', 'organ', 'exotic', 'dancer', 'lane', 'ranked', 'lightweight', 'rip', 'diving', 'minnie', 'lemon', 'minnesota', 'twins', 'liner', 'fans', 'turk', 'tagged', 'ray', 'moore', 'reno', 'pop', 'fly', 'roy', 'sacrifice', 'bottom', 'walking', 'aboard', 'solid', 'ogden', 'utah', 'outfielder', 'jensen', 'baseball', 'reflexes', 'sudden', 'train', 'anybody', 'newsmen', 'trip', 'olympic', 'ann', 'awaited', 'heading', 'speculating', 'hurting', 'chances', 'pacific', 'sports', 'writer', 'ensign', 'ritchie', 'standard', 'examiner', 'compartment', 'conductor', 'mad', 'magazine', 'cold', 'warmed', 'liston', 'anything', 'keyhole', 'traveler', 'quoted', 'anymore', 'suddenly', 'grip', 'masses', 'pops', 'tongues', 'spahn', 'masterpiece', 'giants', 'willie', 'mays', 'remarkable', 'feats', 'rightfully', 'pastime', 'cherished', 'achievements', 'elderly', 'hearts', 'guys', 'milestone', 'rookies', 'sighed', 'leaguer', 'waved', 'surely', 'belonging', 'carl', 'herb', 'vernon', 'et', 'player', 'meaningless', 'guy', 'clubhouse', 'reaches', 'span', 'incidentally', 'hodges', 'trick', 'phillies', 'lou', 'gehrig', 'pat', 'rocky', 'revived', 'argument', 'merits', 'mickey', 'mantle', 'fan', 'ace', 'seasons', 'lifetime', 'forever', 'mystery', 'hitting', 'distressing', 'slump', 'tv', 'privileged', 'arrangement', 'blacked', 'blackout', 'televised', 'rulers', 'helpless', 'network', 'abide', 'nbc', 'afternoons', 'arise', 'irritable', 'harm', 'purposely', 'dissatisfaction', 'terminated', 'cincinnati', 'powerful', 'crushing', 'reds', 'humiliating', 'barrage', 'loosely', 'finale', 'injuries', 'champs', 'mounted', 'johnny', 'replacement', 'smashed', 'yanks', 'applaud', 'bleachers', 'momentarily', 'trailing', 'edwards', 'wally', 'slashed', 'eddie', 'dyer', 'cardinals', 'accomplished', 'feat', 'skorich', 'eagles', 'buck', 'shaw', 'retain', 'charlie', 'ends', 'selection', 'logical', 'van', 'permission', 'vikings', 'newest', 'entry', 'refused', 'reconsider', 'depended', 'advocate', 'balanced', 'sutherland', 'pittsburgh', 'quit', 'catholic', 'troy', 'ceremony', 'richardson', 'championship', 'silver', 'shaped', 'award', 'shea', 'awards', 'chapter', 'graham', 'columnist', 'mazeroski', 'pirates', 'ben', 'babe', 'ruth', 'outstanding', 'slocum', 'mercer', 'follows', 'writers', 'personalities', 'dance', 'song', 'prominent', 'background', 'imminent', 'bernard', 'relentlessly', 'departure', 'dodgers', 'california', 'barriers', 'convince', 'branch', 'formation', 'franchise', 'majors', 'flushing', 'meadow', 'lease', 'ford', 'frick', 'prominently', 'sands', 'kathy', 'patricia', 'switching', 'georgetown', 'owned', 'ted', 'roger', 'maris', 'winner', 'arnold', 'palmer', 'metropolitan', 'saluted', 'cup', 'matches', 'amateur', 'gardner', 'gold', 'tee', 'sponsorship', 'charity', 'tournaments', 'golfers', 'hogan', 'trophy', 'stuart', 'missouri', 'golden', 'blazing', 'masters', 'prize', 'sportsman', 'illustrated', 'athlete', 'belt', 'achieved', 'endeared', 'monstrous', 'human', 'brooding', 'abandonment', 'sport', 'frustrations', 'despair', 'perfection', 'commit', 'nor', 'yen', 'motivated', 'respects', 'golfer', 'shooting', 'below', 'par', 'delivering', 'wailed', 'margin', 'narrow', 'fairway', 'majestic', 'arc', 'slice', 'sliced', 'bounds', 'ruefully', 'wayward', 'shots', 'strokes', 'wound', 'dozen', 'nice', 'easily', 'heartening', 'fell', 'evil', 'heyday', 'idol', 'secondary', 'chisholm', 'drank', 'lunch', 'gully', 'excavation', 'thirteen', 'ye', 'echoes', 'honestly', 'knows', 'code', 'thoroughly', 'handy', 'brook', 'flowed', 'floated', 'downstream', 'picked', 'potato', 'lie', 'naturally', 'alongside', 'spot', 'confessed', 'grin', 'happened', 'intensity', 'inherent', 'humor', 'strain', 'nerves', 'strings', 'competitors', 'bull', 'twelfth', 'bunker', 'guarding', 'embankment', 'soft', 'rains', 'thereby', 'bringing', 'lies', 'provisional', 'embedded', 'fathers', 'stroke', 'tournament', 'creature', 'supply', 'minneapolis', 'fourteen', 'warwick', 'hall', 'fame', 'amendments', 'teams', 'lengthening', 'therefore', 'dates', 'heed', 'misled', 'slower', 'vinegar', 'bend', 'mizell', 'breaking', 'redbirds', 'hemus', 'switch', 'gibson', 'ernie', 'collapse', 'eager', 'assignment', 'larry', 'harvey', 'flu', 'cardinal', 'suffering', 'stiff', 'neck', 'pirate', 'danny', 'murtaugh', 'nieman', 'lineup', 'lengthy', 'stan', 'musial', 'anniversary', 'sore', 'bucks', 'bats', 'quieted', 'recession', 'imposing', 'smoky', 'clemente', 'hal', 'dragging', 'sit', 'friend', 'beaten', 'jumped', 'ending', 'finishing', 'cards', 'triumphs', 'tumbled', 'recovering', 'runaway', 'overcame', 'worst', 'comparable', 'battling', 'dealt', 'lavish', 'words', 'benington', 'mankowski', 'hartweger', 'nordmann', 'conversation', 'respect', 'supposed', 'trio', 'shared', 'honors', 'editor', 'commended', 'clutch', 'excellent', 'bradley', 'recalled', 'doubted', 'faults', 'admired', 'husband', 'thank', 'letting', 'congratulated', 'shape', 'healed', 'inscription', 'contribution', 'compiled', 'invitation', 'reid', 'notre', 'dame', 'overcome', 'anywhere', 'pitched', 'crystal', 'tie', 'trips', 'len', 'busy', 'quincy', 'contented', 'cows', 'milk', 'talents', 'harder', 'successfully', 'careers', 'expectations', 'meant', 'knock', 'agree', 'heights', 'blond', 'sensational', 'slugger', 'terror', 'ultimate', 'happier', 'behaving', 'peaks', 'professionals', 'spelled', 'correctly', 'fifteenth', 'differently', 'rare', 'possessing', 'enabled', 'reserving', 'resented', 'push', 'thrilling', 'possessive', 'inherited', 'class', 'c', 'body', 'beautiful', 'preached', 'kid', 'bubble', 'gum', 'sow', 'oats', 'sights', 'broadway', 'quietly', 'bestowed', 'intended', 'continues', 'spread', 'thin', 'inviting', 'wrigley', 'glamorous', 'alvin', 'wonderful', 'leo', 'taught', 'rushed', 'polo', 'romantic', 'concerns', 'joan', 'monroe', 'wendell', 'lake', 'brother', 'marriage', 'winter', 'holiday', 'occasion', 'arrive', 'christmas', 'holidays', 'peter', 'westminster', 'sister', 'baby', 'mother', 'alsop', 'bride', 'wedding', 'bulletins', 'sims', 'cancer', 'foundation', 'opera', 'housed', 'mccormick', 'exciting', 'evening', 'adds', 'publicity', 'recently', 'frederick', 'hamm', 'bruce', 'stevens', 'niece', 'uncles', 'aunts', 'butlers', 'fete', 'lawn', 'tennis', 'buffet', 'supper', 'bus', 'loud', 'artistic', 'success', 'ringing', 'ears', 'geraghty', 'earn', 'acclaim', 'entertainment', 'embassies', 'bushes', 'oriental', 'talent', 'cultural', 'activities', 'instance', 'dancers', 'whirling', 'dervishes', 'damascus', 'obstacle', 'smoothed', 'separated', 'egypt', 'visa', 'honolulu', 'japan', 'hong', 'kong', 'pakistan', 'rome', 'london', 'youngest', 'molly', 'bows', 'debutante', 'gown', 'fitted', 'invitations', 'addressed', 'arts', 'folk', 'festival', 'singers', 'sing', 'songs', 'byron', 'italian', 'studying', 'florence', 'europe', 'telling', 'engagement', 'girl', 'farewell', 'consul', 'canceled', 'surgery', 'clinton', 'actress', 'maureen', 'costumes', 'towne', 'trees', 'streets', 'lyon', 'wheeled', 'trains', 'en', 'phoenix', 'portable', 'typewriter', 'hinted', 'sunny', 'tommy', 'promotional', 'fallout', 'shelters', 'beer', 'stein', 'nights', 'ethics', 'morals', 'comic', 'gary', 'lucille', 'scoop', 'jane', 'russell', 'singing', 'appearances', 'drury', 'cry', 'pain', 'injection', 'nerve', 'studio', 'makes', 'column', 'handsome', 'favorite', 'glamor', 'simon', 'leukemia', 'stricken', 'phones', 'jude', 'memphis', 'staging', 'entertain', 'underprivileged', 'mail', 'box', 'dough', 'garson', 'gorgeous', 'doris', 'marty', 'tour', 'carnegie', 'toast', 'movie', 'lover', 'flower', 'drum', 'lovely', 'touches', 'fur', 'typical', 'mink', 'mason', 'goodness', 'sake', 'herbert', 'slogan', 'knight', 'generously', 'buy', 'candy', 'brain', 'charities', 'showman', 'boss', 'holders', 'stock', 'jump', 'packs', 'mentioned', 'wear', 'uniform', 'bayonet', 'gate', 'sentry', 'confident', 'via', 'bombs', 'peasants', 'albert', 'awarded', 'nobel', 'african', 'struggles', 'collect', 'tarzan', 'telephoned', 'muttered', 'everywhere', 'guttural', 'frightening', 'roles', 'dolce', 'vita', 'dynamite', 'opens', 'rest', 'swim', 'doings', 'tribune', 'tells', 'misses', 'jean', 'angel', 'import', 'crazy', 'twist', 'lessons', 'cheer', 'francis', 'suggestions', 'deposit', 'boxes', 'dies', 'closed', 'gods', 'gala', 'music', 'dancing', 'furnished', 'orchestra', 'guests', 'suites', 'genial', 'nightly', 'bowman', 'birthday', 'chase', 'mercy', 'grandparents', 'santa', 'shoup', 'colorado', 'palace', 'black', 'stag', 'precede', 'dining', 'parker', 'eastern', 'juniors', 'staged', 'preceded', 'decorations', 'stanley', 'wright', 'milton', 'bradford', 'butler', 'campbell', 'carruthers', 'glass', 'alfred', 'cheery', 'smile', 'practical', 'qualities', 'esther', 'marr', 'asset', 'salvation', 'civilian', 'covers', 'tasks', 'mom', 'link', 'bridge', 'alcoholics', 'pressing', 'written', 'plenty', 'schedules', 'solved', 'welcome', 'mat', 'decides', 'wants', 'steaming', 'coffee', 'awaiting', 'chat', 'informally', 'presents', 'withdrawn', 'bum', 'tickets', 'sporting', 'concerts', 'cookies', 'sugar', 'watching', 'parole', 'vacation', 'forth', 'vast', 'bleak', 'abroad', 'suitcases', 'magic', 'ah', 'simple', 'reared', 'grandma', 'summertime', 'onslaught', 'journey', 'tucson', 'influx', 'testify', 'motels', 'comfort', 'stations', 'scots', 'wagons', 'roadside', 'restaurants', 'snake', 'braced', 'boasting', 'offers', 'vacationing', 'beauty', 'accommodations', 'maybe', 'tastes', 'peculiarities', 'shamrock', 'motel', 'heat', 'carpeted', 'storm', 'cellar', 'pools', 'innumerable', 'boast', 'swimming', 'hospitable', 'poised', 'brink', 'adults', 'myself', 'tourists', 'village', 'marvel', 'luxury', 'winchester', 'accidentally', 'suite', 'elegant', 'furniture', 'pink', 'satin', 'brocade', 'chairs', 'tile', 'bath', 'towels', 'proprietor', 'ants', 'judith', 'ellen', 'methodist', 'bridegroom', 'theology', 'officiated', 'attendants', 'baker', 'chapel', 'presbyterian', 'rhodes', 'kappa', 'gamma', 'mortar', 'shreveport', 'cater', 'alpha', 'pi', 'fellowship', 'freeman', 'wore', 'organdy', 'neckline', 'skirt', 'accented', 'lace', 'veil', 'crown', 'baird', 'maid', 'hartford', 'carter', 'conrad', 'ken', 'seated', 'corpus', 'shirley', 'meredith', 'arlington', 'hardy', 'beam', 'featuring', 'flared', 'jacket', 'orchids', 'kay', 'angelo', 'cedric', 'christian', 'marie', 'earl', 'loving', 'studies', 'thrift', 'shop', 'philmont', 'reputation', 'fun', 'promises', 'tradition', 'food', 'colorful', 'hospitality', 'exactly', 'prospects', 'hats', 'excitement', 'basin', 'festivities', 'jazz', 'combo', 'lester', 'phase', 'oysters', 'specialties', 'chef', 'scenic', 'effects', 'flowers', 'cohen', 'display', 'brothers', 'bundle', 'clothing', 'household', 'shelves', 'walnut', 'convenience', 'throughout', 'suburbs', 'deposited', 'bundles', 'dinners', 'jewish', 'competence', 'totals', 'feminine', 'husbands', 'hostesses', 'arrangements', 'rose', 'secretarial', 'duties', 'aides', 'lewis', 'allan', 'controllers', 'stone', 'quell', 'besides', 'dessert', 'spurdle', 'moody', 'ethel', 'lacy', 'harcourt', 'newman', 'commentator', 'models', 'wheeler', 'boyd', 'putt', 'clifton', 'troop', 'decades', 'invites', 'temperatures', 'smythe', 'posters', 'arrange', 'exhibit', 'sale', 'paintings', 'sculpture', 'sponsors', 'artists', 'proceeds', 'levels', 'monte', 'delaware', 'valley', 'nicholas', 'marsicano', 'portrait', 'wins', 'door', 'originated', 'continuing', 'jerome', 'meyer', 'chairmen', 'jacques', 'evelyn', 'blumberg', 'oscar', 'evans', 'anderson', 'entertained', 'hills', 'janssen', 'lynn', 'drexel', 'eileen', 'entertaining', 'vienna', 'dusseldorf', 'anne', 'taylor', 'greenwich', 'easter', 'bermuda', 'godwin', 'vieth', 'susan', 'celebrated', 'february', 'graduated', 'louise', 'wellesley', 'fraternity', 'queen', 'carnival', 'jointly', 'ballroom', 'downtown', 'rex', 'hosts', 'lady', 'hostess', 'restaurant', 'richmond', 'katherine', 'vickery', 'attends', 'sweet', 'margaret', 'auditorium', 'ladies', 'clayton', 'eleanor', 'eustis', 'ablaze', 'array', 'chic', 'worn', 'dances', 'chose', 'slim', 'panels', 'jordan', 'fringed', 'tiers', 'crimson', 'silk', 'slippers', 'maids', 'ashes', 'roses', 'slipper', 'dress', 'trimmed', 'edging', 'embroidered', 'threads', 'beads', 'cuts', 'simpson', 'drastic', 'decline', 'freight', 'loading', 'principally', 'necessitated', 'affect', 'employees', 'supervisors', 'unions', 'wages', 'struck', 'cab', 'mount', 'wiley', 'robbery', 'attempted', 'bandit', 'automatic', 'store', 'negroes', 'assaulted', 'register', 'choking', 'burned', 'seriously', 'damaged', 'arundel', 'arrival', 'annapolis', 'burns', 'occurred', 'mile', 'recording', 'mechanically', 'jenkins', 'cites', 'discrepancies', 'contained', 'memory', 'hate', 'write', 'machine', 'permanent', 'pullen', 'commissioners', 'zoning', 'bodies', 'suits', 'notes', 'boards', 'ambulance', 'partially', 'parked', 'summoned', 'deficiencies', 'snow', 'corrected', 'councilman', 'schaefer', 'dispatched', 'storms', 'longer', 'werner', 'conceding', 'improvements', 'slowly', 'operations', 'manual', 'laborers', 'resumed', 'parking', 'tires', 'chains', 'overlooked', 'merchants', 'survive', 'recounting', 'observations', 'clearance', 'inefficient', 'supplies', 'poorly', 'trained', 'plow', 'blades', 'layer', 'murdered', 'chesapeake', 'victims', 'rifle', 'elmer', 'detectives', 'benjamin', 'jurist', 'brick', 'manor', 'bedroom', 'kitchen', 'driven', 'broadcast', 'trooper', 'lloyd', 'simpkins', 'somerset', 'resident', 'outset', 'guiding', 'spirits', 'totaled', 'compared', 'dodge', 'cumulative', 'amounted', 'corresponding', 'consists', 'shelter', 'market', 'enjoyed', 'availability', 'mortgage', 'prosperity', 'consumer', 'encouraged', 'vary', 'choosing', 'hardware', 'manufacturing', 'seekers', 'maintaining', 'quality', 'components', 'increasingly', 'predicted', 'harbor', 'cherry', 'ultimately', 'comprise', 'structures', 'terrace', 'entrance', 'stairs', 'masonry', 'heating', 'warm', 'secrets', 'submarine', 'dreadnought', 'implication', 'sub', 'spy', 'ring', 'agents', 'testified', 'built', 'designs', 'supplied', 'killer', 'hull', 'patterned', 'derived', 'reactor', 'skipjack', 'bow', 'british', 'gee', 'devoted', 'houghton', 'divorced', 'lonsdale', 'presumed', 'russian', 'canadian', 'passport', 'arrested', 'roll', 'candid', 'camera', 'wrapping', 'flashed', 'joyce', 'krogers', 'lola', 'suburban', 'cottage', 'transmitter', 'buried', 'dots', 'marks', 'dot', 'magnification', 'drawing', 'page', 'manuscript', 'innocent', 'bail', 'sorely', 'widowed', 'aunt', 'uncle', 'refuses', 'magistrate', 'bailey', 'fuchs', 'naturalized', 'german', 'russia', 'sentenced', 'altered', 'behavior', 'promptly', 'currency', 'asserted', 'selling', 'highest', 'undersea', 'grimly', 'adviser', 'underwater', 'warfare', 'drawings', 'ship', 'reproduced', 'undeveloped', 'vic', 'potential', 'cleared', 'watched', 'broken', 'lawyers', 'clients', 'reveal', 'designing', 'nowhere', 'sharing', 'machinery', 'design', 'generation', 'advanced', 'august', 'potent', 'polaris', 'missile', 'atom', 'cooled', 'reactors', 'westinghouse', 'electric', 'steam', 'greatly', 'complexity', 'fastest', 'reputedly', 'outrun', 'destroyers', 'ships', 'gear', 'detector', 'detecting', 'detail', 'signals', 'wavelengths', 'codes', 'hidden', 'fastened', 'lid', 'oddly', 'indictment', 'narcotics', 'rumor', 'perry', 'teller', 'sokol', 'racket', 'posed', 'addicts', 'sometimes', 'rivalries', 'aiming', 'criminals', 'grievances', 'creditable', 'mentions', 'compensations', 'nominated', 'tree', 'medal', 'comments', 'convicted', 'peddler', 'otis', 'indiana', 'witness', 'moses', 'winston', 'agent', 'jeremiah', 'stewart', 'cta', 'robbed', 'youths', 'eyebrow', 'bag', 'morgan', 'wabash', 'boarded', 'bound', 'express', 'dunbar', 'ensued', 'fled', 'blanche', 'murder', 'appealed', 'pardon', 'stratton', 'slaying', 'relationship', 'wealthy', 'evanston', 'forbidden', 'icy', 'wilmette', 'stickney', 'reckless', 'salesman', 'simms', 'pursuit', 'speeding', 'jenks', 'sped', 'spun', 'prairie', 'johns', 'pohl', 'bludgeon', 'anna', 'hengesbach', 'visible', 'emotion', 'cell', 'stepson', 'vindicated', 'reach', 'cloud', 'neighbor', 'pleased', 'suspicion', 'removed', 'misfortune', 'rebuild', 'settled', 'grandfather', 'ledge', 'barn', 'release', 'killing', 'confession', 'retracted', 'fred', 'motion', 'locked', 'overnight', 'foreman', 'olive', 'elsie', 'valid', 'definition', 'packed', 'sterling', 'township', 'surviving', 'died', 'aftermath', 'homeowners', 'kowalski', 'holy', 'bottled', 'adjoining', 'suburb', 'funeral', 'cemetery', 'rested', 'elliott', 'stove', 'upstairs', 'candle', 'cornell', 'fumes', 'girls', 'lacked', 'electricity', 'twin', 'escaped', 'vicky', 'dennis', 'seldom', 'arrears', 'tragedy', 'sidney', 'supplying', 'meals', 'pall', 'mall', 'collected', 'announcing', 'subdivision', 'canvass', 'northeast', 'mailed', 'collection', 'revealed', 'surpluses', 'faculty', 'spontaneous', 'fondness', 'sympathy', 'expresses', 'spoken', 'properly', 'alert', 'patrol', 'conviction', 'youthful', 'kimmell', 'mcclellan', 'safely', 'approaching', 'narrowly', 'pursued', 'fleeing', 'murphy', 'correction', 'showdown', 'vientiane', 'laotian', 'offensive', 'truce', 'delhi', 'verify', 'thinking', 'troops', 'note', 'ambassador', 'winthrop', 'describing', 'appeal', 'vietnamese', 'confirmation', 'massive', 'assaults', 'sources', 'exaggerated', 'havana', 'cubans', 'executed', 'firing', 'tribunals', 'captured', 'suspected', 'collaborators', 'mcnair', 'executions', 'dawn', 'revolutionary', 'tribunal', 'del', 'rio', 'plot', 'seattle', 'businessman', 'condemned', 'rebels', 'commander', 'legion', 'fidel', 'seized', 'rifles', 'roundup', 'associated', 'swept', 'converted', 'makeshift', 'jails', 'roman', 'priests', 'concentration', 'siberia', 'prisoners', 'emory', 'trustees', 'taxing', 'roadblock', 'institutions', 'segregated', 'standards', 'institution', 'grade', 'privileges', 'conforms', 'statutory', 'provisions', 'obstacles', 'desegregation', 'intend', 'exempt', 'criteria', 'endowments', 'colored', 'integrated', 'challenged', 'affiliated', 'newspaper', 'commitment', 'excellence', 'paramount', 'generous', 'recognize', 'obligation', 'promote', 'creed', 'insofar', 'governing', 'documents', 'applications', 'prospective', 'irrespective', 'corporate', 'existence', 'derives', 'desiring', 'intellectual', 'moral', 'fulfillment', 'riding', 'slid', 'pole', 'waddell', 'ne', 'evidently', 'occupants', 'willard', 'leon', 'se', 'bruises', 'renewed', 'theaters', 'worded', 'contacted', 'coahr', 'gather', 'eve', 'operators', 'likelihood', 'sporadic', 'negotiate', 'inability', 'indifference', 'integrate', 'pledged', 'extensive', 'presence', 'picket', 'profits', 'uptown', 'killingsworth', 's', 'w', 'cafeteria', 'survivors', 'sisters', 'bloom', 'nw', 'painter', 'emma', 'daughters', 'nancy', 'greenville', 'wallace', 'wilmington', 'rock', 'crawford', 'ronald', 'ripped', 'latch', 'scratching', 'melee', 'scratches', 'violent', 'attacked', 'subdued', 'uniforms', 'counts', 'assault', 'battery', 'resisting', 'disturbance', 'cursing', 'desk', 'guest', 'disability', 'entries', 'ranging', 'transfers', 'pensions', 'wistfully', 'tribute', 'ant', 'eradication', 'pest', 'troup', 'pierce', 'bryan', 'treat', 'blasingame', 'planes', 'chemical', 'treating', 'macon', 'turner', 'approximately', 'attacking', 'crops', 'wildlife', 'livestock', 'menace', 'humans', 'expressway', 'survey', 'computers', 'cameras', 'engineers', 'congestion', 'suggest', 'intersection', 'daylight', 'junction', 'northwest', 'fiery', 'crash', 'claude', 'troopers', 'path', 'flames', 'auto', 'burst', 'flaming', 'unusually', 'category', 'allotment', 'pact', 'webster', 'river', 'consultant', 'data', 'processing', 'considerable', 'electronic', 'magnetic', 'tape', 'renew', 'adapting', 'unique', 'handicapped', 'emphasized', 'employ', 'fulfill', 'handles', 'literally', 'wheels', 'directing', 'conversion', 'familiarity', 'defend', 'peck', 'moment', 'arguments', 'patterson', 'physicians', 'crippling', 'weaknesses', 'communications', 'f', 'objective', 'create', 'huntley', 'burnside', 'detective', 'murray', 'culminates', 'robberies', 'papers', 'elaine', 'schuyler', 'bess', 'collision', 'gateway', 'brett', 'abbey', 'logging', 'alice', 'lucy', 'beatrice', 'grandchildren', 'retail', 'clerks', 'collective', 'potentially', 'theatrical', 'producer', 'band', 'collapsed', 'functions', 'booked', 'collaborated', 'entertainers', 'jimmy', 'profession', 'af', 'scottish', 'rite', 'shrine', 'congregation', 'birdie', 'aaron', 'cohn', 'omitted', 'judged', 'competition', 'tim', 'larson', 'wilson', 'guided', 'counseled', 'regional', 'barbecue', 'spices', 'stockholders', 'dividend', 'investment', 'youngsters', 'teenagers', 'guidance', 'businesses', 'culmination', 'participants', 'adult', 'advisors', 'drawn', 'distributed', 'nevada', 'jefferson', 'madison', 'karen', 'carlson', 'hillsboro', 'horsemanship', 'clown', 'shows', 'attendance', 'skies', 'attract', 'wick', 'quartet', 'twirler', 'jossy', 'sheep', 'ribbons', 'exhibited', 'hog', 'hutchins', 'swine', 'showmanship', 'blues', 'rabbit', 'poultry', 'judging', 'eggs', 'sherwood', 'male', 'female', 'mill', 'cooked', 'millie', 'economics', 'demonstration', 'assessors', 'assessments', 'assessment', 'properties', 'quarterly', 'pezza', 'shoulder', 'pains', 'giorgio', 'onto', 'slightly', 'thieves', 'ransacked', 'cranston', 'furs', 'jewels', 'coins', 'stephen', 'theft', 'coat', 'persian', 'lamb', 'wallet', 'french', 'valued', 'rings', 'earrings', 'diamond', 'investigated', 'drawers', 'cabinets', 'bedrooms', 'sewing', 'elm', 'dumping', 'raw', 'sewage', 'acid', 'jewelry', 'plants', 'flowing', 'tide', 'deed', 'bought', 'rental', 'garbage', 'rubbish', 'strike', 'collections', 'hired', 'sydney', 'smithfield', 'beverly', 'circle', 'satisfactory', 'ribs', 'chest', 'brushed', 'vernava', 'maple', 'tearing', 'rear', 'fender', 'impact', 'fruit', 'acted', 'finding', 'suitable', 'damages', 'interstate', 'valuation', 'represented', 'lieutenants', 'convenient', 'acknowledged', 'quota', 'scores', 'remembered', 'contributors', 'pennies', 'dimes', 'quarters', 'parrillo', 'fletcher', 'hunting', 'shotgun', 'discharged', 'heel', 'hose', 'companion', 'oliver', 'alterations', 'beds', 'sorrentino', 'founder', 'italy', 'decoration', 'celebrating', 'bestowal', 'escort', 'newport', 'afloat', 'ashore', 'rescued', 'crew', 'drifting', 'raft', 'sinking', 'stopping', 'scotland', 'liberty', 'rendered', 'birmingham', 'perjury', 'rider', 'burning', 'complaint', 'juror', 'ku', 'klux', 'klan', 'membership', 'farmer', 'anniston', 'interfering', 'growing', 'riders', 'freed', 'incident', 'expressing', 'excused', 'masked', 'lenient', 'alternate', 'formal', 'incidents', 'connections', 'imprisonment', 'nyu', 'hester', 'sciences', 'carroll', 'princeton', 'spraying', 'endangering', 'buchheister', 'audubon', 'handing', 'loaded', 'convention', 'controls', 'plague', 'wrecked', 'cane', 'crop', 'mistakes', 'wyoming', 'pride', 'scientific', 'experiments', 'farmers', 'forgetting', 'efficient', 'enemies', 'insects', 'rodents', 'rid', 'occasionally', 'grapes', 'urging', 'restrictions', 'wilderness', 'seashore', 'preservation', 'breed', 'pollution', 'ratification', 'halt', 'sea', 'oil', 'reed', 'rogers', 'da', 'sanctuary', 'marin', 'officially', 'inviolate', 'animals', 'seventeen', 'willy', 'fiedler', 'climbed', 'cockpit', 'installed', 'attached', 'bomber', 'rolled', 'runway', 'earth', 'alive', 'pulse', 'jet', 'engineer', 'missiles', 'sunnyvale', 'sat', 'pilots', 'crashed', 'unknown', 'manned', 'shipping', 'cubic', 'mechanism', 'altitude', 'roaring', 'engine', 'streaked', 'beneath', 'pilot', 'rocket', 'faint', 'speck', 'hurtling', 'sky', 'incredible', 'beautifully', 'valve', 'adjust', 'fuel', 'strip', 'steering', 'controlled', 'tail', 'surfaces', 'wings', 'equipped', 'bolted', 'managed', 'maneuver', 'landing', 'banked', 'airfield', 'moments', 'skimmed', 'dust', 'flights', 'steer', 'suicide', 'dive', 'crack', 'halted', 'lockheed', 'spare', 'slow', 'serene', 'challenging', 'di', 'celebration', 'martini', 'mana', 'schweitzer', 'theologian', 'endorsed', 'disarmament', 'quaker', 'newer', 'weapons', 'otherwise', 'dread', 'imply', 'abolish', 'obligated', 'aware', 'ghastly', 'stupidity', 'jolt', 'complacency', 'operator', 'shore', 'acquaintance', 'syndicate', 'glimco', 'buddies', 'mob', 'gang', 'gambling', 'chiefs', 'gus', 'alex', 'caesar', 'monk', 'hoodlum', 'arger', 'janitor', 'pier', 'probing', 'attempting', 'connect', 'gangsters', 'tracing', 'scrutiny', 'payments', 'janitors', 'workmen', 'factories', 'leavitt', 'cousin', 'sanitation', 'supervise', 'closely', 'repaid', 'radiation', 'meter', 'detonation', 'radioactive', 'occur', 'curtis', 'huff', 'suppressed', 'warrant', 'charging', 'gregorio', 'satisfaction', 'lucrative', 'lists', 'card', 'bonn', 'greek', 'nazi', 'persecution', 'hottest', 'shares', 'explaining', 'investors', 'counted', 'lucky', 'trading', 'circulating', 'inquiries', 'wanting', 'reserved', 'cable', 'switzerland', 'somehow', 'offering', 'translated', 'swiss', 'underwriters', 'qualify', 'regularly', 'combination', 'boiling', 'upward', 'kinds', 'priced', 'roughly', 'earnings', 'yield', 'chip', 'fancy', 'lately', 'resistant', 'ratios', 'depression', 'remain', 'executives', 'abilities', 'competitive', 'survival', 'reaching', 'realizing', 'mergers', 'pound', 'corn', 'turns', 'buyers', 'gin', 'maintain', 'manufacturer', 'coincidence', 'ginning', 'weighs', 'tons', 'proximity', 'safe', 'assumption', 'percentage', 'contain', 'occupied', 'grown', 'driers', 'cleaners', 'smaller', 'sells', 'domestic', 'southeastern', 'export', 'presently', 'employs', 'moss', 'gordin', 'lint', 'cleaner', 'cleaning', 'seed', 'maker', 'boil', 'extraction', 'mechanical', 'harvesting', 'drying', 'overhead', 'burr', 'piping', 'saws', 'stacy', 'bearings', 'sizable', 'segment', 'slight', 'characterized', 'comparison', 'quarter', 'pickup', 'dealers', 'prompt', 'makers', 'production', 'grab', 'larger', 'buick', 'chrysler', 'mercury', 'gains', 'banquet', 'winds', 'marketing', 'salesmanship', 'supplement', 'classroom', 'instruction', 'fields', 'gerald', 'adams', 'janice', 'whitney', 'hayes', 'cluck', 'edna', 'neal', 'sharon', 'ronnie', 'sunset', 'potter', 'woodrow', 'complex', 'sweeping', 'fringe', 'momentum', 'lift', 'peak', 'autumn', 'sprinkel', 'closing', 'draper', 'alto', 'venture', 'communism', 'bluntly', 'appropriations', 'pan', 'improvement', 'pattern', 'abrupt', 'thesis', 'refuted', 'declaring', 'pessimism', 'questionable', 'abortive', 'lesson', 'probability', 'cautioned', 'excessive', 'stimulation', 'moderate', 'inflation', 'tighten', 'monetary', 'phases', 'upturn', 'unsatisfactory', 'inappropriate', 'resulting', 'sacrifices', 'dangers', 'threaten', 'justify', 'heritage', 'clay', 'yourself', 'sooner', 'liable', 'situations', 'hemisphere', 'analysts', 'continuation', 'sank', 'dow', 'standing', 'routine', 'accompanied', 'orders', 'durable', 'treasury', 'dillon', 'lower', 'traded', 'comparatively', 'dull', 'dipped', 'envisioned', 'peterson', 'bell', 'belong', 'creative', 'unconventional', 'creations', 'expenditures', 'marketed', 'obviously', 'tend', 'fairly', 'dares', 'japanese', 'exchange', 'securities', 'debentures', 'holdings', 'surrender', 'convertible', 'consisted', 'subordinated', 'thereafter', 'foil', 'diversified', 'dividends', 'custodian', 'fundamental', 'programmed', 'shareholders', 'story', 'complaining', 'squared', 'finds', 'mistake', 'doyle', 'undertake', 'selects', 'queries', 'alter', 'movements', 'satisfactorily', 'foreseeable', 'perlman', 'railroads', 'merge', 'b', 'weaken', 'o', 'consolidation', 'precarious', 'rebuffed', 'borrowing', 'weekly', 'outlook', 'resistance', 'buying', 'renting', 'narrowed', 'saturation', 'presumably', 'discrepancy', 'invited', 'businessmen', 'dealer', 'battered', 'chair', 'pickers', 'competitor', 'experiencing', 'climbing', 'paradoxically', 'slash', 'output', 'acreage', 'lowest', 'fertilizer', 'yields', 'dense', 'efficiently', 'supports', 'pushing', 'averaging', 'keeler', 'harvester', 'lag', 'sections', 'notable', 'exceptions', 'extends', 'tractors', 'implements', 'gasoline', 'appliances', 'chemicals', 'haggling', 'conscious', 'sioux', 'iowa', 'affects', 'shipments', 'toronto', 'inventories', 'shortages', 'demanding', 'delivery', 'trailed', 'feed', 'grain', 'planted', 'chiefly', 'forecast', 'economists', 'subsidies', 'incentive', 'receipts', 'marketings', 'index', 'depletion', 'pipe', 'mined', 'figuring', 'taxable', 'deducted', 'percentages', 'materials', 'producers', 'assets', 'softened', 'returns', 'allows', 'mineral', 'signing', 'charitable', 'deductions', 'furnish', 'particulars', 'suspects', 'donor', 'material', 'deduction', 'owed', 'disposed', 'liquidation', 'invoking', 'bars', 'incurred', 'stemmed', 'challenges', 'creating', 'termination', 'cadet', 'taxed', 'entirety', 'taxpayer', 'pad', 'commenting', 'province', 'morality', 'transaction', 'kerosene', 'boats', 'railing', 'vessel', 'hiring', 'spouse', 'entitled', 'distributions', 'coverage', 'frequent', 'pitfall', 'warn', 'declare', 'discriminatory', 'imposition', 'applied', 'subsidiary', 'identity', 'parent', 'computed', 'realized', 'entities', 'edged', 'adjusted', 'chart', 'seasonal', 'adjustment', 'inclined', 'surge', 'steep', 'greer', 'sophisticated', 'personification', 'exposition', 'creator', 'fashions', 'hat', 'designer', 'shoes', 'france', 'toes', 'lowered', 'heels', 'revolutionized', 'shoe', 'ebony', 'plaques', 'marcus', 'crippled', 'cerebral', 'loves', 'clothes', 'carefully', 'prefers', 'deserts', 'piece', 'simply', 'commuting', 'ranch', 'mexico', 'wardrobe', 'mobile', 'shake', 'designers', 'pictures', 'likes', 'classic', 'silhouette', 'charm', 'struggling', 'drama', 'simplicity', 'appreciate', 'lively', 'glowing', 'greens', 'descent', 'ireland', 'isles', 'postgraduate', 'repertory', 'arrow', 'noel', 'coward', 'goodbye', 'chips', 'random', 'harvest', 'madame', 'prejudice', 'forsythe', 'saga', 'portrayal', 'sunrise', 'auntie', 'tribe', 'colonel', 'adept', 'trout', 'fishing', 'archaeology', 'serves', 'symphony', 'museum', 'tuberculosis', 'associations', 'supporters', 'patrons', 'vivid', 'colony', 'flourishes', 'gravy', 'apt', 'wrangler', 'buys', 'dishes', 'snacks', 'tables', 'charming', 'spice', 'meat', 'potatoes', 'fat', 'hides', 'stomachs', 'physical', 'plates', 'hamburger', 'steak', 'pizza', 'truman', 'morocco', 'shiny', 'characters', 'tibetan', 'monks', 'robes', 'chicken', 'cadillac', 'breast', 'salt', 'pepper', 'dip', 'melted', 'butter', 'flour', 'baking', 'bake', 'lightly', 'cream', 'seasoned', 'onion', 'juice', 'breasts', 'canned', 'sprinkle', 'ham', 'contemporary', 'danish', 'sculptured', 'facets', 'warmth', 'dignity', 'utter', 'indication', 'correlated', 'woods', 'assembled', 'lasting', 'truly', 'avoids', 'monotony', 'pieces', 'chestnut', 'varieties', 'philippine', 'ceramic', 'tiles', 'marble', 'texture', 'tiled', 'floors', 'walls', 'windows', 'outdoors', 'composite', 'decorating', 'variation', 'rounded', 'decorative', 'softening', 'arches', 'tops', 'acacia', 'snack', 'tucked', 'arched', 'functional', 'chests', 'heavier', 'poster', 'mirror', 'fabrics', 'tones', 'shades', 'finish', 'resist', 'soil', 'wrinkles', 'rooted', 'forms', 'wearing', 'label', 'pedestal', 'combines', 'nostalgic', 'ladder', 'reflecting', 'substance', 'maturity', 'wood', 'tall', 'gleam', 'copper', 'accessories', 'carpet', 'wool', 'pile', 'saledo', 'stagecoach', 'dignitaries', 'trail', 'pool', 'attire', 'yellow', 'silhouettes', 'mmes', 'mckee', 'fanning', 'travel', 'comprised', 'couples', 'motto', 'somewhere', 'chartered', 'las', 'vegas', 'buses', 'wells', 'railway', 'vicinity', 'cookie', 'chocolate', 'reese', 'hilton', 'finals', 'clara', 'hawaiian', 'rich', 'yeast', 'bread', 'coconut', 'glaze', 'baked', 'dreamed', 'recipe', 'liked', 'photographing', 'chandler', 'heads', 'architect', 'slides', 'foliage', 'matched', 'reservations', 'robbins', 'ludwig', 'watson', 'originating', 'midwest', 'passengers', 'practiced', 'violin', 'tiny', 'hungarian', 'concert', 'linen', 'needles', 'yarn', 'budapest', 'continents', 'tapestry', 'rainy', 'grammar', 'gloriana', 'entails', 'grow', 'hardship', 'pilgrimage', 'streetcar', 'ocean', 'dismal', 'herself', 'rides', 'logic', 'impeccable', 'fool', 'capable', 'legs', 'walks', 'notices', 'edition', 'subtitled', 'publisher', 'updated', 'compact', 'numbers', 'addresses', 'marriages', 'stars', 'denote', 'cooper', 'coopers', 'pen', 'tudor', 'carla', 'gregg', 'elizabeth', 'browning', 'pasadena', 'judy', 'arden', 'connecticut', 'residing', 'exchanged', 'residence', 'hazard', 'ransom', 'oxford', 'henri', 'anthony', 'newcomers', 'panama', 'execute', 'puppets', 'lamp', 'puppet', 'flexible', 'lamps', 'delight', 'accent', 'wired', 'height', 'socket', 'inches', 'tube', 'inverted', 'l', 'foot', 'hang', 'pulling', 'manipulate', 'suspend', 'fixture', 'tying', 'desired', 'resting', 'accord', 'shade', 'adequate', 'sufficiently', 'reminiscent', 'circus', 'edge', 'appealing', 'decorators', 'shrewd', 'era', 'appreciated', 'antiques', 'lurked', 'utilitarian', 'nondescript', 'supposedly', 'relegated', 'parlor', 'homemakers', 'decorator', 'housewives', 'craftsmen', 'innate', 'eighteenth', 'versatile', 'kings', 'outfit', 'specializing', 'comedy', 'distinctly', 'displaying', 'flanked', 'drums', 'guitar', 'batch', 'instruments', 'imagination', 'props', 'nonsense', 'pure', 'rated', 'nightclubs', 'chalk', 'noise', 'stick', 'elsewhere', 'lounge', 'flip', 'phillips', 'jolly', 'refer', 'cabana', 'sir', 'judson', 'brings', 'rum', 'skip', 'tahoe', 'rusty', 'tune', 'pursuing', 'rhythm', 'smoother', 'substantially', 'format', 'piano', 'bass', 'trumpet', 'personality', 'rapport', 'accompanying', 'frantic', 'appraisal', 'cafe', 'ownership', 'retains', 'decor', 'undergone', 'specialize', 'steaks', 'chops', 'prime', 'beef', 'dish', 'stuffed', 'bandstand', 'features', 'pianist', 'preclude', 'lauderdale', 'vivacious', 'redhead', 'mackey', 'sunshine', 'reunion', 'wash', 'mexican', 'understandable', 'sampled', 'peppery', 'papa', 'mouse', 'trap', 'newfoundland', 'distinguished', 'smallwood', 'productions', 'le', 'theatre', 'du', 'ballet', 'ballets', 'francesca', 'performers', 'coral', 'gables', 'jorge', 'hollywood', 'library', 'author', 'lecturer', 'discuss', 'relationships', 'librarian', 'workshops', 'acquaint', 'subsequent', 'doorstep', 'kern', 'crusade', 'convinced', 'ideological', 'figured', 'careful', 'christianity', 'lecture', 'slack', 'map', 'abolition', 'marking', 'vows', 'strive', 'fundamentals', 'uphold', 'pamela', 'bedtime', 'prayers', 'stories', 'lutheran', 'worship', 'pray', 'participate', 'henderson', 'preach', 'ordained', 'picnic', 'preaching', 'altar', 'headmaster', 'episcopal', 'becomes', 'musical', 'conducting', 'engagements', 'assignments', 'cologne', 'cecilia', 'isaac', 'stern', 'abel', 'pianists', 'bishop', 'leningrad', 'kirov', 'finest', 'sleeping', 'incomparably', 'pleasure', 'mine', 'imperial', 'vulgar', 'reactionary', 'aspect', 'persistent', 'indicates', 'capitalist', 'choreography', 'undistinguished', 'shapeless', 'assemblage', 'totally', 'utterly', 'precise', 'enchantment', 'numerous', 'exclusively', 'winners', 'contests', 'discover', 'crowning', 'virtue', 'friendliness', 'frankness', 'peculiar', 'impoverished', 'piety', 'goldwater', 'sparkle', 'refinement', 'incomparable', 'delightful', 'yuri', 'wonderfully', 'virile', 'poetic', 'noble', 'character', 'inna', 'lilac', 'fairy', 'cast', 'spacious', 'sumptuous', 'dreams', 'peasant', 'muted', 'style', 'harmonies', 'scenery', 'soloists', 'solos', 'traveling', 'auspices', 'chamber', 'chronicle', 'fixing', 'toys', 'sponsoring', 'toy', 'discarded', 'warehouse', 'listing', 'sex', 'ages', 'instrument', 'charmed', 'rehearsal', 'luis', 'lend', 'stuff', 'ought', 'immorality', 'billed', 'towering', 'monument', 'sins', 'ancient', 'romans', 'harmless', 'gray', 'imagine', 'bored', 'senseless', 'brutality', 'sadism', 'adventures', 'actors', 'unfamiliar', 'villa', 'silent', 'films', 'boasted', 'tease', 'slip', 'drunk', 'knees', 'pillow', 'feathers', 'frigid', 'silly', 'spell', 'begun', 'swinging', 'summed', 'neatly', 'enthralling', 'glories', 'moderates', 'literature', 'poets', 'ussr', 'channel', 'exploring', 'titled', 'venerable', 'tip', 'language', 'briskly', 'austere', 'cap', 'leather', 'expensive', 'fluid', 'fins', 'gulped', 'gallons', 'wiping', 'headlights', 'chrome', 'ok', 'polished', 'windshield', 'stuck', 'nozzle', 'tank', 'gloomily', 'smallest', 'mileage', 'unhappily', 'die', 'yesteryear', 'fore', 'aft', 'darling', 'doormen', 'tipped', 'caps', 'politely', 'doorman', 'calm', 'blood', 'duncan', 'phyfe', 'snubbed', 'presidents', 'furnishings', 'acquired', 'sofas', 'descendants', 'tranquility', 'andover', 'uncommon', 'acquisition', 'consisting', 'undertaken', 'jacqueline', 'secure', 'miniature', 'americana', 'unveiled', 'attributed', 'mantel', 'demolished', 'fireplace', 'painted', 'match', 'paneling', 'associates', 'brevard', 'musicians', 'greet', 'delighted', 'welcoming', 'approached', 'mansion', 'banner', 'hail', 'marine', 'grateful', 'mounting', 'shaking', 'pfohl', 'dozens', 'stretching', 'horizon', 'vermont', 'paused', 'tent', 'blonde', 'nuns', 'sharpe', 'tag', 'lemonade', 'teenage', 'gathered', 'listening', 'liaison', 'stripes', 'baldrige', 'correspondence', 'carolina', 'gallery', 'simultaneous', 'tours', 'remaining', 'visitors', 'sad', 'noticed', 'madonna', 'monet', 'painting', 'cathedral', 'impressionist', 'benches', 'downstairs', 'lobby', 'bales', 'confederacy', 'aide', 'sculptures', 'renaissance', 'preferred', 'impressed', 'rotunda', 'fountain', 'seemingly', 'remote', 'perched', 'masons', 'pike', 'historian', 'poet', 'journalist', 'soldier', 'musician', 'laying', 'wreath', 'jurisdiction', 'tomb', 'alexandria', 'monotonous', 'discouraged', 'hurt', 'ignoring', 'disgusted', 'miserable', 'listened', 'poured', 'discussing', 'nearest', 'separately', 'solving', 'evenings', 'outsiders', 'blacks', 'measured', 'skyline', 'materialize', 'leisurely', 'colors', 'haze', 'crucial', 'attitude', 'exchanges', 'confrontation', 'inevitable', 'desirable', 'realities', 'decisive', 'define', 'implement', 'nikita', 'deterioration', 'heightened', 'announcements', 'catastrophe', 'stakes', 'encounters', 'churchill', 'diplomacy', 'summit', 'inroads', 'informal', 'denunciation', 'tended', 'propaganda', 'concessions', 'negotiation', 'aims', 'intimated', 'inauguration', 'confronted', 'delicate', 'shifting', 'smiles', 'toughness', 'debates', 'compel', 'awakening', 'shift', 'weakened', 'illusion', 'formulating', 'eventual', 'ideally', 'concrete', 'adversary', 'probe', 'satisfy', 'inflexible', 'tensions', 'caution', 'willingness', 'reflected', 'dated', 'broad', 'briefly', 'intense', 'inner', 'councils', 'advisability', 'precisely', 'directorate', 'veto', 'pressures', 'russians', 'secretly', 'testing', 'troubled', 'fatal', 'china', 'urgent', 'principle', 'organs', 'insistence', 'initially', 'dampened', 'lest', 'episodes', 'dangerously', 'erroneous', 'penetration', 'warnings', 'impunity', 'strengthened', 'vietnam', 'overreach', 'cocky', 'aggressive', 'grave', 'turning', 'midst', 'deliberations', 'embassy', 'negotiating', 'vigorous', 'demonstrated', 'reactions', 'disapproval', 'expectation', 'salutary', 'rely', 'instincts', 'adversaries', 'plain', 'pause', 'equation', 'dragged', 'reluctantly', 'initiative', 'conversations', 'notions', 'disunity', 'feelings', 'belongs', 'interpret', 'panic', 'exploit', 'scope', 'mechanisms', 'adaptation', 'shell', 'evolutionary', 'scheme', 'cancel', 'biology', 'aptly', 'illustrate', 'accomplishment', 'brethren', 'cease', 'wonder', 'miracle', 'centuries', 'minorities', 'ourselves', 'prone', 'zeal', 'generosity', 'retrospect', 'unified', 'allocation', 'diocesan', 'catholics', 'responded', 'owe', 'esprit', 'protective', 'detachment', 'achieves', 'orientation', 'identification', 'founded', 'supernatural', 'nourished', 'devotion', 'satisfying', 'dimension', 'uniquely', 'sparks', 'goaded', 'subsidized', 'parish', 'staffed', 'produces', 'wasteful', 'duplication', 'clustered', 'isolated', 'represent', 'riot', 'collegiate', 'temper', 'tone', 'resembled', 'resembles', 'qualifications', 'specialized', 'brand', 'participation', 'employee', 'outsider', 'secular', 'academic', 'scholar', 'citizenship', 'emerges', 'loath', 'delegate', 'mortal', 'varying', 'temperament', 'interests', 'capabilities', 'select', 'owns', 'phrase', 'attainment', 'pictured', 'paradox', 'framed', 'partners', 'grips', 'recruiting', 'caliber', 'spreads', 'tightly', 'knit', 'conferences', 'expressions', 'stereotype', 'boycott', 'declines', 'gamble', 'guarantee', 'tenure', 'significant', 'coveted', 'depreciation', 'exaggerate', 'salaries', 'substitute', 'intangibles', 'cause', 'earning', 'broadly', 'intangible', 'derive', 'underestimate', 'reservoir', 'idealism', 'stimulus', 'communication', 'actual', 'envision', 'definitive', 'titles', 'competent', 'technique', 'conclusions', 'destroying', 'familiar', 'useful', 'artificial', 'structured', 'difficulty', 'eating', 'nebraska', 'argue', 'restricted', 'restriction', 'equality', 'forbid', 'begging', 'generated', 'fallen', 'jurisdictional', 'squabbles', 'plagued', 'shocked', 'allegedly', 'trivial', 'disputes', 'sums', 'equivalent', 'provoked', 'indignation', 'footing', 'undertakes', 'aircraft', 'attributable', 'overtime', 'defective', 'regulation', 'abuses', 'electrical', 'evoked', 'justified', 'rationale', 'inform', 'undefined', 'hypocrisy', 'foolish', 'rig', 'allocate', 'marginal', 'manufacture', 'accounting', 'varied', 'enterprises', 'muscles', 'accuse', 'monopoly', 'protection', 'implicit', 'decree', 'fellows', 'tool', 'theory', 'govern', 'facts', 'flood', 'usefulness', 'folklore', 'capitalism', 'unconsciously', 'organizations', 'ideology', 'uncontrolled', 'dictatorship', 'penalties', 'invoked', 'empires', 'fantastic', 'evaluating', 'occasional', 'irrational', 'nominal', 'untrammeled', 'sentences', 'unprecedented', 'impersonal', 'devised', 'rational', 'advocating', 'organizers', 'gigantic', 'tortured', 'reasoning', 'ambition', 'exercise', 'squarely', 'commodities', 'bags', 'wheat', 'agricultural', 'subsidy', 'reacting', 'antagonism', 'imposes', 'commodity', 'adam', 'wealth', 'parliament', 'combining', 'customs', 'outlawed', 'monopolies', 'denounced', 'employers', 'combinations', 'convert', 'pious', 'savage', 'mechanics', 'regulated', 'manufactured', 'article', 'exist', 'mechanic', 'necessity', 'enacting', 'measures', 'aimed', 'injunctions', 'extend', 'assuring', 'airlines', 'deemed', 'exemption', 'steamship', 'guise', 'giant', 'consumers', 'stating', 'interpretation', 'coal', 'alleging', 'interfered', 'interrupt', 'indirect', 'herter', 'afterward', 'gore', 'understatement', 'erupted', 'fronts', 'congo', 'chaos', 'stirred', 'tanks', 'artillery', 'dictator', 'blunt', 'staffs', 'eleven', 'endure', 'rusk', 'reacted', 'invaded', 'readiness', 'carriers', 'lexington', 'bennington', 'swarm', 'southward', 'exaggeration', 'cautious', 'sorts', 'chaotic', 'mountainous', 'indian', 'chinese', 'dulles', 'specimen', 'appeasement', 'becoming', 'calamity', 'seize', 'intrigue', 'drops', 'transports', 'cool', 'terribly', 'ominous', 'confront', 'turmoil', 'gates', 'fought', 'unspoken', 'counting', 'noses', 'deadly', 'namely', 'colmer', 'choppy', 'gait', 'swung', 'suspicious', 'constituents', 'segregationist', 'embarrassing', 'pretext', 'lukewarm', 'electors', 'unheard', 'forgive', 'rebellion', 'campaigned', 'reprisal', 'whites', 'huddling', 'tense', 'southerner', 'flatly', 'mister', 'thereupon', 'oust', 'inferior', 'leaked', 'cannon', 'purple', 'shouted', 'dreadful', 'excluding', 'pork', 'barrel', 'raged', 'lose', 'numbered', 'smelling', 'maverick', 'arenas', 'applying', 'loomed', 'specter', 'southerners', 'truncated', 'deliberately', 'version', 'contrast', 'guerrilla', 'restrict', 'hubert', 'humphrey', 'phalanx', 'traditionally', 'filibuster', 'notorious', 'ante', 'mere', 'modification', 'binding', 'choke', 'hopefully', 'perennial', 'virtually', 'presiding', 'painful', 'chore', 'electoral', 'declaration', 'tight', 'presidency', 'staunchest', 'lap', 'disbelief', 'licked', 'bite', 'midway', 'holes', 'augusta', 'teeth', 'washed', 'scrambled', 'mishap', 'tears', 'sand', 'wedge', 'slope', 'afterwards', 'coe', 'hasty', 'agonizing', 'graciously', 'recover', 'composure', 'visibly', 'putting', 'beside', 'stared', 'amazement', 'rounds', 'comfortable', 'closest', 'lean', 'overtake', 'disappointing', 'intact', 'deliberate', 'erratic', 'meteorological', 'spontaneously', 'sight', 'prestige', 'pensacola', 'winnings', 'paired', 'threesome', 'whichever', 'awed', 'instant', 'rivalry', 'instantly', 'moist', 'boldly', 'consequences', 'rosburg', 'enormous', 'unquestionably', 'essentially', 'shaky', 'accurate', 'ugly', 'focus', 'destined', 'conspicuously', 'pars', 'birdied', 'bogey', 'roar', 'landscape', 'answered', 'unmistakably', 'grimace', 'proceeded', 'sink', 'rolling', 'boldness', 'gifted', 'axiomatic', 'dominate', 'vehemence', 'mar', 'contemptuous', 'earnest', 'aggressiveness', 'stepped', 'downhill', 'measuring', 'pine', 'separating', 'settling', 'hoping', 'forget', 'chipped', 'switched', 'drives', 'sublime', 'muscular', 'awe', 'gregory', 'pearson', 'angels', 'borders', 'ridiculous', 'borrowed', 'successive', 'grumble', 'shrinking', 'peril', 'endurance', 'doubly', 'jeopardy', 'herman', 'thwarted', 'amazing', 'hack', 'spurred', 'paces', 'mathematically', 'flourish', 'ideal', 'easier', 'understandably', 'concede', 'primarily', 'quote', 'enjoys', 'seeing', 'cerv', 'couch', 'divide', 'cooking', 'breakfast', 'sandwich', 'strikingly', 'backgrounds', 'minors', 'recalls', 'wished', 'extent', 'alike', 'hair', 'weigh', 'incredibly', 'overdeveloped', 'shoulders', 'purchases', 'classified', 'opus', 'tropic', 'literary', 'broadened', 'minds', 'passages', 'aloud', 'reporter', 'surprising', 'trait', 'ballplayer', 'pleasant', 'photographers', 'cooperative', 'locker', 'volunteered', 'anecdote', 'occasions', 'dumb', 'angry', 'dutch', 'farrell', 'gentlemen', 'heroes', 'sportswriter', 'kidding', 'aching', 'crushed', 'vowed', 'ties', 'zinc', 'cents', 'possess', 'dug', 'fierce', 'swings', 'nineteen', 'seconds', 'dash', 'swift', 'daring', 'weapon', 'inevitably', 'weaker', 'appropriately', 'startling', 'conspired', 'grew', 'disinterested', 'winged', 'sinatra', 'entourage', 'sweater', 'frankie', 'fitzgerald', 'australia', 'cats', 'doubtless', 'loper', 'ensembles', 'stitch', 'pentagon', 'accumulation', 'vines', 'weeds', 'lifted', 'hitched', 'rein', 'belonged', 'someone', 'socks', 'window', 'elder', 'statesman', 'adlai', 'stevenson', 'greene', 'hearty', 'oldest', 'undergraduate', 'fabian', 'forte', 'classmates', 'lad', 'tapped', 'rallies', 'tooling', 'zealand', 'stirling', 'smothered', 'exhaust', 'slob', 'gaudy', 'racing', 'ruddy', 'lazy', 'frustrating', 'virtues', 'interviewed', 'comedian', 'chaplin', 'confided', 'grandiose', 'experiment', 'impressions', 'glimpsed', 'sly', 'enigma', 'vaguely', 'eccentricity', 'ardor', 'collecting', 'headlines', 'fabled', 'legend', 'fortune', 'dying', 'boom', 'bargain', 'continent', 'barge', 'lavishly', 'drivers', 'picasso', 'hung', 'trusted', 'ernst', 'arranged', 'prizes', 'scarcely', 'glanced', 'treasures', 'revenge', 'bare', 'applicant', 'classrooms', 'admit', 'kindergarten', 'alabama', 'hamilton', 'holmes', 'charlayne', 'skins', 'journalism', 'tentatively', 'investigators', 'lasted', 'ritual', 'prostitution', 'beatnik', 'evasive', 'lied', 'desegregated', 'plaintiffs', 'catch', 'chancellor', 'kimpton', 'hunt', 'gripped', 'statesmen', 'conant', 'pondered', 'successors', 'trustee', 'lure', 'scholars', 'happily', 'geneticist', 'beadle', 'discovering', 'heredity', 'reign', 'idealist', 'wildly', 'enrollment', 'recruit', 'excite', 'researchers', 'unexpected', 'journal', 'philosopher', 'finger', 'belgians', 'grabbing', 'quarreling', 'tribes', 'historical', 'boundaries', 'geography', 'ethnic', 'groupings', 'explorers', 'gunmen', 'culture', 'dialects', 'religions', 'ancestor', 'ranges', 'patients', 'belgian', 'administered', 'touched', 'conscience', 'commencing', 'colonialism', 'ordinarily', 'independence', 'congolese', 'imagines', 'infant', 'tin', 'uranium', 'brussels', 'beneficiaries', 'describes', 'generale', 'anaconda', 'producing', 'ruthless', 'exploited', 'compassion', 'instituted', 'ration', 'obliged', 'eat', 'hungry', 'puzzle', 'chien', 'carpenters', 'indefinite', 'fearing', 'elite', 'unrest', 'manifestly', 'unprepared', 'oversimplification', 'prepare', 'colonies', 'pas', 'sang', 'detested', 'mess', 'motivations', 'kasavubu', 'splitting', 'moise', 'tshombe', 'notably', 'patrice', 'lumumba', 'hurry', 'fragmentation', 'provincial', 'provinces', 'leopoldville', 'katanga', 'equator', 'universal', 'assume', 'respectable', 'commenced', 'mutiny', 'looting', 'engulfed', 'succeeding', 'blamed', 'vague', 'withdrawal', 'hammarskjold', 'preferable', 'nonwhite', 'tunisia', 'guinea', 'sweden', 'reluctant', 'withdraw', 'obstructed', 'complicated', 'initiating', 'wars', 'secede', 'dispatching', 'openly', 'flung', 'redoubled', 'departed', 'withdrawing', 'uniformed', 'variously', 'mercenaries', 'interfere', 'kidnaped', 'appropriate', 'occurrence', 'resort', 'reliance', 'bizerte', 'quo', 'mediterranean', 'tunisian', 'irreconcilable', 'picks', 'nationalist', 'dapper', 'diminutive', 'chen', 'chiang', 'outer', 'woo', 'abstention', 'conferred', 'guatemala', 'boeing', 'aisle', 'bent', 'stomach', 'sick', 'salvador', 'desert', 'rickards', 'guns', 'sacramento', 'recruits', 'awoke', 'nap', 'nut', 'volunteer', 'hostages', 'augustine', 'gilman', 'immigration', 'surged', 'submachine', 'consumed', 'airplane', 'steal', 'shadows', 'mountains', 'pry', 'baggage', 'luggage', 'subsequently', 'bearden', 'coolidge', 'beardens', 'slug', 'simmons', 'ultimatum', 'raced', 'slugs', 'flattened', 'silenced', 'inboard', 'engines', 'crosby', 'eased', 'unarmed', 'distracted', 'pocket', 'nodded', 'transporting', 'precedence', 'unanimity', 'peacetime', 'requested', 'labeled', 'bombers', 'stew', 'ceased', 'maine', 'idaho', 'menu', 'drab', 'bean', 'soup', 'citizenry', 'ventured', 'turnpikes', 'toll', 'speculative', 'streams', 'speculations', 'investments', 'tending', 'slipped', 'rises', 'risen', 'unmarried', 'happening', 'lags', 'turnpike', 'slumped', 'preceding', 'successes', 'extensions', 'tolls', 'access', 'illustration', 'deficiency', 'opportunities', 'planners', 'margins', 'attracting', 'luther', 'fiat', 'olivetti', 'calculating', 'enables', 'fraction', 'skilled', 'infrequent', 'exports', 'layout', 'vigor', 'textiles', 'imports', 'textile', 'industrialized', 'curbing', 'limiting', 'capture', 'loudly', 'protest', 'spanish', 'portuguese', 'pour', 'quotas', 'gradual', 'stabilization', 'clue', 'modernization', 'shrinkage', 'feasible', 'forcing', 'shrink', 'handwriting', 'miners', 'cheap', 'mouths', 'wales', 'welsh', 'markets', 'ton', 'cheaper', 'rail', 'mines', 'mechanization', 'seams', 'twisting', 'productivity', 'fiction', 'apologetically', 'sorry', 'variations', 'libraries', 'readers', 'lovers', 'nonfiction', 'clientele', 'budgets', 'hopelessly', 'startlingly', 'exceed', 'richest', 'plight', 'proportionately', 'limitations', 'bounty', 'contrasts', 'density', 'extreme', 'upper', 'populated', 'nassau', 'ample', 'thriving', 'wary', 'cherish', 'joining', 'radical', 'autonomy', 'preserved', 'maintains', 'advantages', 'librarians', 'foresee', 'distant', 'requires', 'volumes', 'nucleus', 'develops', 'thirty', 'fifty', 'capita', 'inclusive', 'recognizes', 'broaden', 'everyday', 'hempstead', 'tools', 'backbone', 'specialization', 'founding', 'periodicals', 'connected', 'canvas', 'psychology', 'religion', 'biography', 'centered', 'repository', 'wholly', 'comprehensive', 'saves', 'bulk', 'discounts', 'bookkeeping', 'billing', 'resource', 'documentary', 'catalogue', 'classics', 'nightingale', 'balloon', 'understands', 'responsibilities', 'conducts', 'sample', 'copies', 'evaluate', 'prepares', 'displays', 'publishes', 'newsletter', 'governed', 'geographically', 'bear', 'borne', 'multiplying', 'citizen', 'advances', 'educated', 'discriminating', 'slave', 'spiritual', 'restraint', 'grows', 'translate', 'inadequacy', 'vigorously', 'pupils', 'render', 'vitally', 'richer', 'fuller', 'conjunction', 'abandoning', 'budgeting', 'insured', 'shuffle', 'await', 'drag', 'limits', 'repeal', 'fireworks', 'fortunately', 'spared', 'resolutions', 'congratulate', 'answers', 'proudly', 'dictum', 'governors', 'wolves', 'penetrating', 'peeled', 'coupling', 'undertaking', 'abundant', 'strengthens', 'replacing', 'retaliation', 'removes', 'hers', 'stance', 'guess', 'extremity', 'soviets', 'aggressions', 'bluff', 'builds', 'dekalb', 'minimum', 'digest', 'demonstrating', 'touring', 'observed', 'africans', 'chin', 'sounds', 'nurses', 'deserve', 'intensive', 'helpful', 'trujillo', 'assassination', 'repulsive', 'dominican', 'deserved', 'benefactor', 'ciudad', 'caribbean', 'deaths', 'maria', 'schemes', 'venezuela', 'demise', 'uncovered', 'professedly', 'tends', 'oppressive', 'silence', 'criticism', 'vanity', 'displeasure', 'maintained', 'amply', 'chanted', 'friendship', 'altogether', 'tarnished', 'repression', 'tyranny', 'confines', 'censure', 'illustrating', 'totalitarianism', 'precious', 'stability', 'vacuum', 'creates', 'breathe', 'parkway', 'cabin', 'echo', 'constitute', 'presenting', 'ncta', 'frankly', 'launching', 'inference', 'barricades', 'acquiesce', 'wartime', 'comprising', 'zones', 'respectively', 'blockade', 'sector', 'gratuitous', 'adenauer', 'provocative', 'isolating', 'recognizing', 'exists', 'stray', 'recovered', 'remembering', 'misgivings', 'salami', 'dispatch', 'stiffening', 'indignities', 'grazing', 'dome', 'conquest', 'cinema', 'endless', 'seas', 'symbolized', 'westward', 'valleys', 'roam', 'zoo', 'specimens', 'wooded', 'folds', 'grasslands', 'unbroken', 'settlers', 'whisky', 'prohibition', 'commercials', 'distilled', 'barring', 'ads', 'suffer', 'glamour', 'bourbon', 'viewer', 'sipping', 'faction', 'lax', 'awkward', 'links', 'ills', 'shortcomings', 'mercilessly', 'regulars', 'bosses', 'softly', 'sticks', 'australian', 'dealings', 'issuing', 'bluffs', 'purely', 'tempted', 'casualties', 'terrain', 'savored', 'enjoyment', 'aim', 'ironic', 'concept', 'unreasonable', 'militant', 'minority', 'seal', 'awaits', 'overwhelming', 'backing', 'sturdy', 'habitat', 'flourished', 'forceful', 'classify', 'frontier', 'persuasion', 'politician', 'theirs', 'flamboyant', 'audiences', 'growl', 'nod', 'dramas', 'gripping', 'chatter', 'sensibly', 'persuading', 'educating', 'patiently', 'generations', 'coincided', 'loved', 'calvin', 'revolution', 'fighter', 'recall', 'hopeless', 'partisan', 'campaigns', 'jungle', 'murderers', 'excuse', 'mistaken', 'italians', 'savages', 'contrary', 'piled', 'pillage', 'sanction', 'occurrences', 'anarchy', 'incapable', 'commanding', 'bury', 'wake', 'ruin', 'invade', 'weak', 'reasonably', 'mandate', 'inconsistent', 'realism', 'courage', 'magnitude', 'urge', 'blindly', 'editorial', 'telegraphers', 'secured', 'misplaced', 'attrition', 'necessarily', 'applicable', 'meditations', 'humidity', 'peaceful', 'abiding', 'covenant', 'moon', 'backward', 'surrendering', 'dimensions', 'triggered', 'experimentally', 'propel', 'seminar', 'drink', 'coexistence', 'fools', 'bayed', 'humble', 'domes', 'spreading', 'algerian', 'craft', 'unwelcome', 'admirer', 'shadow', 'gunman', 'conventions', 'contents', 'millennium', 'stealing', 'incompetence', 'protecting', 'symptomatic', 'holding', 'rations', 'minded', 'customer', 'suspension', 'maze', 'regulatory', 'shock', 'dag', 'tragic', 'hangs', 'precariously', 'momentous', 'desperately', 'bloody', 'earnestly', 'bullets', 'overt', 'uncompromising', 'courageously', 'defended', 'resolved', 'conflicts', 'solutions', 'outbreaks', 'mankind', 'hardest', 'bickering', 'consensus', 'graves', 'metro', 'interama', 'pinched', 'ventures', 'yielded', 'worthwhile', 'compilation', 'documented', 'shortest', 'paragraphs', 'singer', 'complaints', 'progressed', 'assess', 'spectrum', 'arisen', 'unification', 'emerging', 'aging', 'erhart', 'wizard', 'fashioned', 'astonishing', 'soul', 'germans', 'captive', 'approaches', 'firmness', 'flexibility', 'regardless', 'reaffirmed', 'draws', 'endearing', 'amusing', 'joiner', 'spectacle', 'sprouting', 'root', 'commendable', 'mosk', 'assail', 'blanket', 'accusations', 'politically', 'rewrite', 'crude', 'affinity', 'preference', 'extremists', 'capitalize', 'confusions', 'patriotic', 'apprehensions', 'falling', 'tropical', 'offshore', 'unlimited', 'underneath', 'devise', 'hectic', 'dismaying', 'hide', 'objections', 'commissions', 'preamble', 'collectively', 'intent', 'sovereignty', 'guarantees', 'plug', 'continuously', 'submit', 'speedily', 'restoration', 'outwardly', 'responsive', 'unilateral', 'lined', 'juan', 'oas', 'breach', 'automation', 'disastrous', 'conjecture', 'growers', 'shortening', 'rows', 'pouring', 'predictable', 'clearer', 'layers', 'wedded', 'innovation', 'fearful', 'assistants', 'restore', 'subordinates', 'forecasting', 'hazardous', 'specialist', 'cake', 'predicting', 'basing', 'stride', 'keel', 'hurricane', 'posture', 'convictions', 'sighted', 'reluctance', 'pioneered', 'sliding', 'interrupted', 'shoreline', 'presses', 'spaces', 'unimportant', 'udall', 'warns', 'preserves', 'chatham', 'recreation', 'formidable', 'snowy', 'cattle', 'nest', 'dunes', 'sentiment', 'applicants', 'expecting', 'arduous', 'diet', 'confirms', 'reinforces', 'findings', 'countryside', 'sits', 'stagnant', 'region', 'slackened', 'reflects', 'confined', 'stimulating', 'ellis', 'impartial', 'outlined', 'depressed', 'accommodate', 'vacant', 'unstable', 'shy', 'civic', 'sides', 'acceleration', 'confess', 'tammany', 'tiger', 'shame', 'elephant', 'faget', 'batista', 'preposterous', 'refugees', 'outdated', 'screening', 'haven', 'disturb', 'rests', 'searching', 'salvage', 'repeat', 'aloof', 'strife', 'postcard', 'ridicule', 'lent', 'fellowships', 'blithely', 'compounded', 'accountability', 'vein', 'cunard', 'influenced', 'shipbuilding', 'fares', 'consideration', 'eagle', 'airways', 'dominance', 'maxwell', 'bolster', 'mobilization', 'guerrillas', 'mekong', 'destroyed', 'stored', 'floods', 'recede', 'monsoon', 'instructional', 'divisions', 'lyndon', 'dalton', 'controversies', 'axes', 'gravest', 'slippery', 'operational', 'integrity', 'instructions', 'servant', 'importance', 'geographic', 'arguing', 'confused', 'irrelevant', 'beings', 'subservient', 'inaction', 'vest', 'lawmaking', 'partnership', 'diminished', 'leases', 'leasing', 'overriding', 'concurrence', 'watchdog', 'investigative', 'spite', 'borough', 'retaining', 'housekeeping', 'sewers', 'document', 'safeguard', 'heretofore', 'pocketbook', 'beneficial', 'enlargement', 'selecting', 'blankets', 'horn', 'reflection', 'publishers', 'editors', 'downfall', 'freedoms', 'contribute', 'admiration', 'rage', 'bold', 'utopia', 'clues', 'evident', 'contradiction', 'humanity', 'speculation', 'groundwork', 'assurance', 'reformer', 'shattered', 'concerning', 'permissive', 'psychological', 'recommending', 'labels', 'villains', 'implications', 'conscientious', 'gratitude', 'straightforward', 'junk', 'fascinating', 'stamps', 'accordance', 'loads', 'postal', 'trembling', 'cannery', 'calf', 'seeds', 'blossom', 'vegetables', 'broth', 'cans', 'rivers', 'shines', 'warmly', 'grey', 'canning', 'rationing', 'dairy', 'echoed', 'beans', 'tomatoes', 'forgiveness', 'poise', 'grudge', 'pastor', 'forgiven', 'envy', 'jealousy', 'grudges', 'trespasses', 'heavenly', 'matthew', 'prayer', 'disciples', 'debts', 'implies', 'sin', 'till', 'saith', 'unto', 'seventy', 'prayed', 'luke', 'sobering', 'meaningful', 'shrill', 'girlish', 'commotion', 'garcia', 'subsided', 'sprawled', 'drinking', 'beg', 'frighten', 'honesty', 'certainty', 'breathless', 'obscured', 'bore', 'oh', 'wonders', 'visualize', 'stranded', 'honey', 'silently', 'periods', 'heaven', 'endlessly', 'enchanting', 'jokes', 'cartoons', 'cynics', 'rector', 'clergy', 'pulpit', 'lonely', 'parishioners', 'blessed', 'unworthy', 'believers', 'earthly', 'infinite', 'readily', 'congregations', 'conform', 'conceptions', 'bruise', 'satisfactions', 'stress', 'heir', 'saints', 'sinners', 'suffers', 'podger', 'sadness', 'pod', 'bursting', 'porch', 'auction', 'woven', 'cloth', 'hammock', 'hanging', 'breeze', 'rippling', 'caressing', 'rhythmic', 'drift', 'voices', 'sweep', 'pleasantly', 'feather', 'harshly', 'shaft', 'drifted', 'floating', 'turtle', 'relic', 'signaling', 'consummated', 'withdrew', 'phenomenon', 'darkness', 'midday', 'smiled', 'bidders', 'wrap', 'thanked', 'gravely', 'cocoon', 'cat', 'rubbed', 'hopped', 'chilly', 'purring', 'hum', 'pam', 'dad', 'lighted', 'emerged', 'peacefully', 'examples', 'resorting', 'nashville', 'progressive', 'grades', 'tolerant', 'realizes', 'rebuff', 'resume', 'impatience', 'eloquent', 'counters', 'establishments', 'neighborhoods', 'ashamed', 'sprung', 'peaceable', 'individually', 'objects', 'freeways', 'cruising', 'freeway', 'incipient', 'jam', 'smoothly', 'pokes', 'adjacent', 'invading', 'ambivalent', 'lanes', 'alternately', 'accelerate', 'natives', 'unhesitatingly', 'enlightened', 'soggy', 'manhood', 'pedal', 'fist', 'courtesy', 'injustice', 'unequivocally', 'encountered', 'thinker', 'versa', 'hell', 'grabs', 'angle', 'conceivable', 'exceptional', 'duplicate', 'hunch', 'notch', 'triandos', 'thumb', 'jammed', 'bounce', 'furiously', 'cage', 'platoons', 'autistic', 'fault', 'treats', 'defect', 'deviation', 'adapt', 'disturbed', 'experiences', 'layman', 'disinterest', 'fingers', 'psychiatrist', 'pushes', 'uncomfortable', 'accustomed', 'rituals', 'ingenuity', 'uncover', 'dear', 'diagnosis', 'nursery', 'reality', 'parenthood', 'wagon', 'coloring', 'nervous', 'relaxed', 'outgrow', 'traits', 'enjoying', 'immature', 'staying', 'paint', 'circles', 'embroidery', 'incoming', 'rug', 'versions', 'bronze', 'winding', 'floral', 'suggests', 'patterns', 'extensively', 'upholstery', 'depicted', 'salad', 'pineapple', 'naturalistic', 'fabulous', 'fabric', 'typically', 'revered', 'limitation', 'conception', 'assembling', 'backyards', 'darned', 'nominally', 'enlist', 'lesser', 'cdc', 'unorthodox', 'carvey', 'stalwart', 'thence', 'component', 'consequence', 'hierarchy', 'participates', 'henceforth', 'organizational', 'weakest', 'predicts', 'tremendously', 'favorites', 'heated', 'rampant', 'subordinate', 'plainly', 'considers', 'foe', 'strategists', 'significantly', 'audible', 'illustrates', 'committeemen', 'communese', 'tongue', 'deluge', 'compulsive', 'fascinated', 'freud', 'shapes', 'sizes', 'invariably', 'motives', 'crimes', 'surprisingly', 'excerpts', 'curtain', 'consistency', 'gazette', 'interpreted', 'looming', 'hysteria', 'artificially', 'tass', 'datelined', 'munitions', 'quotations', 'crush', 'postpone', 'exercises', 'futile', 'predecessors', 'invented', 'armaments', 'injecting', 'revival', 'prolonged', 'listeners', 'proverbial', 'unwilling', 'whenever', 'succumbed', 'currents', 'sensible', 'rockets', 'cure', 'consistent', 'warsaw', 'terrible', 'publication', 'distinctive', 'columns', 'poetry', 'essays', 'weeklies', 'fortunes', 'cyrus', 'unsigned', 'subscribers', 'nile', 'tooth', 'fanny', 'bevy', 'amsterdam', 'seafood', 'anxious', 'dazzling', 'billie', 'dove', 'pasted', 'ceiling', 'forbes', 'glitter', 'glasses', 'prisoner', 'inmates', 'busily', 'convicts', 'confinement', 'shorter', 'rubber', 'locks', 'broadening', 'recognition', 'occupant', 'lock', 'doorknob', 'paved', 'catering', 'loyalties', 'ibm', 'funny', 'aristotle', 'contemplating', 'bust', 'apologies', 'fills', 'nostalgia', 'recalling', 'woodwork', 'craftsmanship', 'carpets', 'beebe', 'plumbing', 'cow', 'frelinghuysen', 'korean', 'korea', 'grandson', 'instrumental', 'trace', 'messages', 'congratulations', 'youngster', 'hello', 'managerial', 'cohesion', 'dwyer', 'autograph', 'translation', 'translations', 'biblical', 'attested', 'manuscripts', 'yale', 'divinity', 'depth', 'repetition', 'readings', 'clarity', 'archaic', 'phrases', 'verses', 'baptism', 'baptized', 'thee', 'thou', 'answering', 'righteousness', 'lo', 'heavens', 'descending', 'lighting', 'teachings', 'dissuade', 'alight', 'spelling', 'blessings', 'uttered', 'sermon', 'blessing', 'blest', 'novice', 'attain', 'comprehension', 'copied', 'discoveries', 'hebrew', 'writings', 'usable', 'rapidity', 'congregational', 'invest', 'airy', 'styles', 'unlined', 'softness', 'textures', 'gamut', 'tapered', 'elongated', 'toe', 'wine', 'stacked', 'tailored', 'barest', 'pumps', 'pastel', 'blend', 'oval', 'throats', 'overlook', 'straws', 'crisp', 'basket', 'casual', 'cork', 'sandals', 'foam', 'padded', 'cushioning', 'brighter', 'tan', 'straw', 'weave', 'collar', 'throat', 'flats', 'toothbrush', 'razor', 'bathroom', 'brush', 'surface', 'laboratories', 'plugged', 'buttons', 'brushes', 'cleaned', 'shaving', 'vertical', 'dentists', 'bristles', 'gums', 'scratch', 'brushing', 'experimented', 'gadget', 'crowned', 'chronic', 'disease', 'disorders', 'paste', 'apparatus', 'experimentation', 'tumor', 'symptom', 'bones', 'baths', 'pores', 'sweat', 'glands', 'shower', 'numb', 'possibilities', 'manifestation', 'brace', 'sciatica', 'cholesterol', 'thyroid', 'gland', 'gap', 'discs', 'sung', 'edison', 'guessed', 'sophocles', 'stereo', 'eclectic', 'slightest', 'esoteric', 'adapted', 'sheer', 'decca', 'modestly', 'sandburg', 'nehru', 'sculptor', 'playwright', 'downs', 'interviewing', 'narrower', 'dover', 'publications', 'presentations', 'inexpensive', 'recordings', 'memorable', 'lincoln', 'releases', 'wheelock', 'impart', 'rca', 'victor', 'guides', 'upsets', 'arizona', 'depressing', 'feverish', 'fifties', 'inferiority', 'complexes', 'brains', 'frauds', 'ego', 'financially', 'wondering', 'breathed', 'freely', 'magician', 'seller', 'marksmanship', 'verbal', 'senses', 'explanations', 'unmoved', 'clings', 'motivates', 'angrily', 'considerate', 'helper', 'misbehavior', 'desires', 'reassurance', 'temptations', 'substitutes', 'magazines', 'refrigerator', 'snatches', 'louder', 'melancholy', 'homecoming', 'scenes', 'opponent', 'thrown', 'lions', 'uncertainties', 'lion', 'ruined', 'precaution', 'cruel', 'perpetually', 'ebullient', 'continually', 'strolled', 'ache', 'perfume', 'lilting', 'laughter', 'aroma', 'leaves', 'woodsmoke', 'undergraduates', 'fleeting', 'glances', 'tethered', 'goat', 'dream', 'blur', 'strolling', 'bitterness', 'wry', 'wit', 'embrace', 'exhausted', 'hairs', 'eyeglasses', 'fading', 'wears', 'akin', 'churning', 'straining', 'pants', 'wet', 'woolen', 'sleeves', 'remembers', 'panting', 'breath', 'agony', 'wisely', 'analyzed', 'populations', 'poland', 'polish', 'seeming', 'distressed', 'towns', 'misery', 'distortion', 'erect', 'barrier', 'repeating', 'anticipate', 'distress', 'devoid', 'carts', 'makings', 'sack', 'tobacco', 'underscored', 'articulate', 'unemployed', 'transact', 'oriented', 'bald', 'causing', 'aggravated', 'bravado', 'accelerating', 'thief', 'adage', 'oaths', 'glance', 'debating', 'visions', 'admire', 'canoe', 'praying', 'grossly', 'oversimplified', 'classification', 'petitioner', 'locations', 'medium', 'granting', 'compatible', 'hampshire', 'solely', 'savior', 'absorbing', 'alarm', 'utilizing', 'additions', 'foresight', 'compounds', 'editorials', 'inception', 'utilizes', 'transmission', 'kent', 'facility', 'suggesting', 'relation', 'ignore', 'waste', 'migrant', 'developer', 'concepts', 'destiny', 'eternal', 'gabrielle', 'irving', 'beth', 'miranda', 'knife', 'christians', 'jews', 'divine', 'bless', 'brotherhood', 'bulletin', 'snowstorm', 'desperation', 'immensely', 'commend', 'veterans', 'disabled', 'manifest', 'va', 'ensuing', 'drastically', 'curtail', 'coldly', 'impractical', 'wishes', 'secondly', 'observe', 'hospitalization', 'grinding', 'fosters', 'initiate', 'lousy', 'frustration', 'exasperation', 'sympathetically', 'barry', 'morale', 'mcnamara', 'costing', 'scientists', 'suffocating', 'persist', 'sheltered', 'diameter', 'civilization', 'shorts', 'uppermost', 'dressed', 'masaryk', 'jan', 'misleading', 'destruction', 'subsidize', 'sundays', 'packaging', 'freezing', 'cutters', 'packaged', 'wives', 'greedy', 'regret', 'bertha', 'incorrect', 'clarified', 'instruct', 'flag', 'polling', 'proprietors', 'premises', 'advise', 'criticize', 'promoting', 'articles', 'unskilled', 'laborer', 'dupont', 'inaccurate', 'unwarranted', 'motors', 'judgments', 'considerations', 'proportion', 'omitting', 'distorted', 'concur', 'heartily', 'futility', 'disagree', 'agrees', 'harmful', 'drinks', 'socialism', 'regulations', 'regions', 'affiliation', 'intelligence', 'stranger', 'inquire', 'entity', 'applies', 'yoke', 'denounce', 'refuse', 'burdens', 'consist', 'freeholders', 'certify', 'certified', 'assessed', 'appropriated', 'impose', 'slum', 'trades', 'terrific', 'actively', 'hasten', 'booths', 'refreshing', 'fossilized', 'cypress', 'swamp', 'constructed', 'stumps', 'sediments', 'pollen', 'grains', 'spores', 'flowering', 'mayflower', 'sincere', 'mistrust', 'disapproved', 'empty', 'boat', 'desolation', 'awful', 'lastly', 'pets', 'afforded', 'leash', 'roaming', 'snatch', 'prohibiting', 'sidewalk', 'cafes', 'terraces', 'sacred', 'memorials', 'contemplate', 'fountains', 'gardens', 'outdoor', 'relax', 'converse', 'leisure', 'thirties', 'resurgence', 'militarism', 'murderous', 'destructive', 'ducks', 'folly', 'lands', 'devastated', 'disarmed', 'advantageous', 'lessen', 'likewise', 'austria', 'neutrality', 'immunity', 'terrorized', 'refusing', 'prescribed', 'expulsion', 'apportioned', 'equals', 'exceeds', 'buffer', 'israel', 'expelled', 'connally', 'consciousness', 'undone', 'reservation', 'adherence', 'statute', 'prevents', 'solidly', 'perilous', 'affirmative', 'expose', 'enable', 'utilize', 'subway', 'departing', 'woodside', 'strained', 'servicing', 'pilgrim', 'donate', 'arithmetic', 'crafts', 'brass', 'heater', 'woodward', 'negligence', 'alley', 'patrolling', 'ordinances', 'drunken', 'educate', 'versus', 'hymns', 'inspiration', 'wholesome', 'rude', 'apathy', 'polite', 'gentility', 'hart', 'brave', 'ghost', 'inquirer', 'inspector', 'horrible', 'automobiles', 'schuylkill', 'hough', 'dropouts', 'wrongs', 'suppose', 'referring', 'arsenal', 'inflict', 'tremble', 'hymn', 'fortress', 'verse', 'everlasting', 'sixteen', 'hiroshima', 'proves', 'rocks', 'remind', 'exploding', 'expression', 'dictates', 'intimidated', 'coffin', 'withheld', 'greatness', 'destination', 'tunnels', 'focal', 'widen', 'minimize', 'curves', 'drainage', 'install', 'directional', 'capability', 'statue', 'dictators', 'reminded', 'feeding', 'prohibited', 'lash', 'dislikes', 'annoyance', 'sentiments', 'hatred', 'scared', 'canon', 'stamp', 'gangs', 'delinquents', 'creatures', 'motive', 'inflicting', 'torture', 'occurs', 'melody', 'joy', 'calisthenics', 'anatomy', 'addicted', 'ideals', 'scandal', 'fairness', 'premise', 'sweetheart', 'corrupting', 'unscrupulous', 'augmented', 'corruptible', 'escalation', 'targets', 'predictions', 'exploded', 'megatons', 'threatens', 'embark', 'hydrogen', 'accurately', 'contestants', 'proving', 'morrison', 'discontinuity', 'urbanized', 'vulnerable', 'risky', 'rockefeller', 'strauss', 'exacerbation', 'faithful', 'thrust', 'intercontinental', 'inspire', 'anger', 'sphere', 'animosity', 'compulsively', 'footsteps', 'strives', 'emulate', 'chagrin', 'satellites', 'orbit', 'perfectly', 'imitate', 'vocal', 'unfavorable', 'manchester', 'guardian', 'departures', 'partly', 'arrivals', 'distinct', 'gallant', 'boundary', 'blocks', 'avail', 'lippmann', 'sober', 'graveyard', 'lenin', 'mild', 'tales', 'cromwell', 'hanged', 'stalin', 'crowded', 'deplores', 'karl', 'marx', 'instability', 'rake', 'misdeeds', 'predecessor', 'u', 'thant', 'burma', 'influential', 'gentleman', 'qualification', 'buddhist', 'sanctity', 'dogma', 'dormant', 'neutralism', 'precedents', 'plunged', 'sole', 'connotations', 'chevrolet', 'invaders', 'mobilized', 'fetching', 'dump', 'pistols', 'frenzy', 'committed', 'doctrine', 'imagined', 'naive', 'traitors', 'resemble', 'moloch', 'accompaniment', 'cult', 'exceeding', 'butchery', 'accorded', 'slaughtered', 'holocaust', 'civilized', 'usage', 'media', 'vengeance', 'thousandth', 'corpse', 'execution', 'census', 'midsummer', 'ambassadors', 'reminder', 'proceeding', 'stasis', 'adherents', 'credo', 'happiest', 'nonetheless', 'stubborn', 'baptists', 'embodied', 'ornament', 'persuaded', 'curse', 'ardent', 'induced', 'sanity', 'recourse', 'custom', 'annum', 'clouds', 'blasts', 'radioactivity', 'dose', 'virus', 'discomfort', 'poisoning', 'pose', 'cynical', 'irresponsible', 'dismay', 'foreboding', 'detonated', 'devices', 'glenn', 'balloons', 'imperative', 'biological', 'genetic', 'depths', 'intake', 'substances', 'particles', 'bets', 'conclude', 'indeterminate', 'pauling', 'germ', 'defects', 'fusion', 'childhood', 'diseases', 'concentrating', 'insufficient', 'generalizations', 'researcher', 'inhibited', 'downgraded', 'exposure', 'doses', 'herein', 'bind', 'resuming', 'atmospheric', 'fission', 'mid', 'prevailing', 'haul', 'sidewalks', 'indignant', 'computation', 'inescapable', 'historically', 'viable', 'unpopular', 'contaminated', 'demonstrates', 'wishful', 'sane', 'contamination', 'leap', 'militarily', 'unwittingly', 'superiority', 'quantity', 'justifiable', 'radically', 'refusal', 'ecumenical', 'pope', 'yearning', 'protestant', 'christendom', 'perspective', 'purification', 'catholicism', 'designation', 'theologians', 'vatican', 'archbishop', 'canterbury', 'orthodox', 'discouragement', 'temptation', 'abandon', 'irresistible', 'efficacy', 'apologetic', 'unbalanced', 'sympathize', 'furthermore', 'reassuring', 'extravagant', 'projections', 'expenditure', 'similarly', 'neglected', 'persists', 'tightening', 'dialogue', 'protestants', 'plentiful', 'thorough', 'moslem', 'islamic', 'unmistakable', 'functioning', 'generality', 'philosophical', 'differences', 'undeniable', 'insights', 'spirited', 'tiniest', 'pervasive', 'perceive', 'formosa', 'thoughts', 'dreamy', 'pointedly', 'practically', 'subjectively', 'mainland', 'interpreter', 'itinerary', 'coolly', 'redundant', 'taiwan', 'relevant', 'sixty', 'liberation', 'liberate', 'manpower', 'contemplated', 'skill', 'passion', 'overtly', 'mao', 'sympathies', 'cultivated', 'starvation', 'discontent', 'generals', 'fed', 'cousins', 'nephews', 'purity', 'galvanizing', 'defy', 'commune', 'ensure', 'poverty', 'residue', 'undertook', 'scarcity', 'engendered', 'tibet', 'hostile', 'bleeding', 'snap', 'foremost', 'inhuman', 'arrives', 'gladly', 'invite', 'odd', 'scars', 'crystallization', 'flux', 'frontiers', 'concealed', 'gestures', 'rags', 'fog', 'tap', 'emergencies', 'bone', 'jelly', 'spine', 'shockingly', 'counter', 'reappears', 'cycles', 'cartoon', 'linked', 'rape', 'insane', 'removing', 'equilibrium', 'apartheid', 'introduce', 'kills', 'paralysis', 'constitutes', 'puzzles', 'intelligible', 'nowadays', 'scan', 'premieres', 'adaptations', 'owes', 'awkwardly', 'shallow', 'tennessee', 'clever', 'imported', 'originals', 'musicals', 'novels', 're', 'mi', 'wildcat', 'unsinkable', 'technically', 'dreary', 'conquering', 'dry', 'diary', 'merry', 'shakespeare', 'moliere', 'prevalence', 'tested', 'stunning', 'casbah', 'commonplace', 'grecian', 'egyptian', 'belly', 'burgeoning', 'curiously', 'familial', 'saloons', 'ionic', 'graces', 'maniac', 'sailor', 'absorption', 'orchestras', 'guitars', 'alien', 'sesame', 'dresses', 'shifts', 'continuum', 'superbly', 'ancestry', 'cosmic', 'sideways', 'motionless', 'breathing', 'sends', 'ripples', 'speeds', 'ecstatic', 'greetings', 'provokes', 'slipping', 'tips', 'proffered', 'bolt', 'melting', 'pot', 'bristol', 'sol', 'hurok', 'abdomen', 'veils', 'origins', 'surname', 'picnics', 'gypsy', 'adolescent', 'lithe', 'brazilian', 'arabic', 'sweaters', 'sailors', 'tormented', 'painters', 'unawareness', 'austrian', 'schiele', 'angular', 'painfully', 'stretched', 'grotesquely', 'murky', 'landscapes', 'swallowed', 'gloom', 'fascination', 'devil', 'emotional', 'cried', 'evolved', 'somber', 'inhibitions', 'disgusting', 'homemade', 'cigarette', 'butts', 'rebelliously', 'discipline', 'obsession', 'unabashed', 'sexuality', 'unrelieved', 'obsessed', 'lust', 'portraits', 'ugliness', 'stringy', 'contorted', 'strangely', 'pathetic', 'naked', 'muffled', 'twentieth', 'solemn', 'theoretical', 'journals', 'marxist', 'interminable', 'formulas', 'proletariat', 'rotation', 'bureaucracy', 'obscure', 'uniformly', 'progressively', 'profitable', 'plots', 'uncertainty', 'admissions', 'sickness', 'doubts', 'harping', 'molotov', 'marshal', 'rents', 'doctrinal', 'quarrels', 'liquidated', 'rejects', 'denial', 'averting', 'coincide', 'variant', 'deteriorated', 'shifted', 'albania', 'liar', 'bully', 'restored', 'enver', 'malaise', 'symptoms', 'decay', 'genuinely', 'suspicions', 'indicative', 'blowing', 'preventive', 'koreans', 'misty', 'minutemen', 'maneuvers', 'foggy', 'damp', 'tale', 'supremacy', 'depugh', 'camouflage', 'garb', 'unloaded', 'sheriffs', 'lauchli', 'operative', 'dummy', 'shells', 'tortuous', 'jeep', 'trails', 'outpost', 'atop', 'smoke', 'grenades', 'skirmish', 'encampment', 'participated', 'criterion', 'dearth', 'rub', 'chooses', 'tariff', 'proposition', 'selective', 'reciprocal', 'europeans', 'ramifications', 'convincing', 'eric', 'values', 'grouping', 'cleverly', 'wounds', 'incorporation', 'von', 'monstrosity', 'conservatism', 'pages', 'telepathy', 'honorably', 'induction', 'enviable', 'disrupted', 'compelling', 'idly', 'corners', 'taverns', 'broadcasts', 'hessians', 'foreigners', 'substituting', 'envelope', 'faded', 'impending', 'flown', 'supporting', 'analogy', 'virtuous', 'accretion', 'defeating', 'liberalism', 'sr', 'bothers', 'intimately', 'sufferer', 'preacher', 'reprints', 'communicate', 'fundamentalist', 'dogmatism', 'invaluable', 'doctored', 'sophistication', 'wisconsin', 'powerless', 'mccarthy', 'communicating', 'experimenting', 'print', 'possession', 'publish', 'transcript', 'differential', 'networks', 'grudgingly', 'tapes', 'edited', 'glibly', 'summarized', 'summary', 'comparing', 'paragraph', 'abused', 'estimation', 'rounding', 'curriculum', 'rust', 'practitioners', 'alas', 'flattered', 'autobiographical', 'submits', 'analyze', 'commentaries', 'godkin', 'lectures', 'excerpt', 'milder', 'marred', 'lindemann', 'incoherent', 'absurdity', 'historians', 'radar', 'unfortunate', 'casts', 'nathan', 'milstein', 'recitals', 'brahms', 'concerto', 'slashing', 'cadenza', 'pale', 'violinist', 'incandescent', 'noblest', 'soloist', 'superb', 'hendl', 'glittering', 'spitting', 'lets', 'sprawl', 'mysterious', 'marvelous', 'overture', 'orchestral', 'tunes', 'rhythms', 'lacks', 'bayreuth', 'hans', 'soprano', 'venus', 'booking', 'cradle', 'howl', 'booker', 'weep', 'dietrich', 'notified', 'juicy', 'budge', 'lena', 'queried', 'minus', 'meadows', 'abstractions', 'everett', 'operatic', 'cushion', 'lucia', 'giovanni', 'h', 'bates', 'farce', 'hark', 'lurking', 'shenanigans', 'rugged', 'devastating', 'larkin', 'comedie', 'affluence', 'stirs', 'longing', 'rustic', 'castle', 'pageant', 'bearded', 'courtiers', 'shoot', 'splendor', 'horror', 'wasteland', 'impress', 'eliot', 'herds', 'deer', 'embodies', 'planks', 'kitchens', 'spaciousness', 'cooks', 'jerebohms', 'immense', 'glorious', 'vegetable', 'patch', 'flyer', 'saddled', 'havoc', 'tangled', 'callers', 'brigadier', 'deck', 'quart', 'sustenance', 'relish', 'quixote', 'illustrious', 'squire', 'sancho', 'panza', 'spain', 'rendering', 'satire', 'cherkasov', 'actor', 'heroic', 'performs', 'nobility', 'poignant', 'armor', 'museums', 'joke', 'gaunt', 'gracious', 'soberly', 'sincerely', 'bony', 'affection', 'tempo', 'shining', 'brightly', 'complexities', 'abetted', 'excellently', 'dubbed', 'richness', 'roughness', 'subtleties', 'helpfully', 'conveyed', 'artistry', 'grotesque', 'broader', 'concludes', 'finely', 'magnificently', 'photographed', 'uneasy', 'trimmings', 'hypothesis', 'pont', 'pleasing', 'dixieland', 'interaction', 'ensemble', 'wee', 'armstrong', 'buff', 'garry', 'host', 'samples', 'poles', 'reinforced', 'teens', 'interruption', 'auxiliary', 'clip', 'wink', 'blotted', 'glimpse', 'photographs', 'newcomer', 'showcase', 'cheers', 'composer', 'disconcerting', 'waxed', 'musicianship', 'trill', 'topped', 'sextet', 'brilliantly', 'ecstasy', 'unfolding', 'immersed', 'mastery', 'disciplined', 'fullness', 'dramatically', 'tucker', 'bel', 'canto', 'serviceable', 'bellini', 'bands', 'interruptions', 'sundry', 'disc', 'jackets', 'mix', 'farther', 'placement', 'nearer', 'mixed', 'percussion', 'percussive', 'volley', 'twenties', 'memories', 'tingling', 'moods', 'frequencies', 'resultant', 'potentialities', 'manage', 'authentic', 'authenticity', 'cadre', 'sketches', 'interiors', 'architectural', 'complied', 'unrealistic', 'meticulously', 'involves', 'intrigues', 'twists', 'traced', 'gospels', 'ignorant', 'conservatory', 'vying', 'sonata', 'clattered', 'noisily', 'directness', 'refers', 'nickname', 'sentimental', 'idiom', 'conjugal', 'felicity', 'smack', 'virtuoso', 'sleeve', 'lyric', 'xydis', 'philharmonic', 'lewisohn', 'recital', 'keyboard', 'commands', 'composers', 'prokofieff', 'nicely', 'e', 'lapse', 'deepest', 'poorest', 'viscount', 'weighted', 'retreat', 'bitterly', 'battles', 'jungles', 'forgotten', 'priorities', 'burmese', 'anecdotes', 'tireless', 'narrative', 'unending', 'myriad', 'enlightening', 'accordingly', 'hygiene', 'scanty', 'logistics', 'transport', 'barges', 'commanders', 'marched', 'careless', 'humanitarian', 'bunch', 'choir', 'baroque', 'madrigals', 'unsettled', 'waver', 'accompaniments', 'dixon', 'cowboy', 'costume', 'ingratiating', 'communicative', 'admirable', 'continuity', 'choreographed', 'professionally', 'intimate', 'exuberant', 'identifiable', 'closes', 'matunuck', 'settings', 'witty', 'daisies', 'stamped', 'cartoonist', 'specialty', 'fledgling', 'dizzy', 'playhouse', 'epitaph', 'creighton', 'cliches', 'eroded', 'irritations', 'souls', 'enters', 'unsuccessful', 'overcomes', 'awfully', 'groom', 'blaze', 'impassioned', 'proficient', 'laura', 'intensely', 'vibrant', 'shriek', 'explode', 'belligerent', 'projection', 'lyrics', 'loesser', 'christopher', 'amy', 'shelley', 'berman', 'rousing', 'sifted', 'chords', 'whispering', 'outdo', 'voluminous', 'sparkling', 'cheerful', 'suitably', 'positively', 'fiorello', 'pulitzer', 'evoke', 'lance', 'resemblance', 'laguardia', 'amazed', 'rudy', 'chieftain', 'sincerity', 'hurrying', 'charlotte', 'jen', 'verve', 'cop', 'promoted', 'novelties', 'poker', 'splendidly', 'routines', 'choreographic', 'wondered', 'distraction', 'upright', 'virtual', 'commonly', 'profess', 'whipping', 'impromptu', 'plunge', 'dolores', 'paula', 'biting', 'springtime', 'sensibility', 'gallantry', 'hardwick', 'admirably', 'genius', 'subtly', 'intricate', 'castles', 'trenchant', 'forthright', 'penned', 'philosophic', 'adorable', 'speaks', 'passionate', 'simpler', 'colleague', 'royce', 'differed', 'yours', 'importantly', 'santayana', 'reject', 'platonism', 'fronting', 'universe', 'diverse', 'jocular', 'seriousness', 'hint', 'prophet', 'recriminations', 'singly', 'displace', 'thurber', 'numbering', 'schoolboy', 'scratched', 'cave', 'yorker', 'comprises', 'necklace', 'thread', 'cunningly', 'inserted', 'unifying', 'sadly', 'arbitrary', 'alphabetical', 'slumber', 'vistas', 'scholarly', 'countrymen', 'metaphor', 'herald', 'exaggerating', 'veritable', 'waking', 'noteworthy', 'keenly', 'virginian', 'superimposed', 'mildly', 'utterance', 'quotation', 'banged', 'sash', 'leaped', 'sleep', 'indebted', 'artistically', 'conceived', 'unaffected', 'concluding', 'exposing', 'acquainted', 'robe', 'nazis', 'lightning', 'corrosion', 'hitler', 'outrage', 'rarely', 'wrath', 'eden', 'relented', 'foibles', 'puny', 'vices', 'moderately', 'tart', 'fox', 'slicker', 'allegory', 'wharf', 'rat', 'doc', 'posing', 'populace', 'rats', 'aggrieved', 'territorial', 'themes', 'dialect', 'joel', 'characterization', 'reliable', 'possesses', 'topical', 'kennan', 'revolutions', 'pessimistic', 'circumstance', 'persisted', 'yalta', 'dexter', 'architects', 'possessed', 'inexperience', 'childish', 'unconditional', 'settlements', 'treason', 'dashed', 'achieving', 'objectives', 'disadvantages', 'complications', 'negotiated', 'shocking', 'eliminated', 'vain', 'ignorance', 'purges', 'baltic', 'persuasive', 'sketch', 'glancing', 'seizure', 'warped', 'justly', 'criminality', 'pity', 'subjugation', 'oppression', 'forehead', 'sulky', 'silences', 'stare', 'prejudices', 'cynicism', 'endowed', 'resolute', 'fever', 'jagged', 'baffling', 'authorship', 'yugoslavia', 'portray', 'prescribe', 'narrator', 'lightened', 'flashes', 'donnybrook', 'superlative', 'enright', 'fists', 'courting', 'impeded', 'marries', 'scraps', 'talented', 'limbs', 'torso', 'incidental', 'ear', 'matrimony', 'sings', 'exhibits', 'dross', 'shelf', 'ballads', 'linger', 'touching', 'whirl', 'permanently', 'joshua', 'partial', 'digging', 'forego', 'pleasures', 'stint', 'collaboration', 'beethoven', 'lucid', 'sounding', 'ponderous', 'evenly', 'symphonic', 'poem', 'psyche', 'lush', 'fortunate', 'chromatic', 'cloying', 'resisted', 'melodic', 'whine', 'hysterical', 'accuracy', 'skolovsky', 'technician', 'boot', 'colorless', 'attributes', 'tonal', 'salute', 'methodical', 'decaying', 'sloppy', 'wicked', 'deeds', 'villain', 'smoothness', 'oily', 'consummate', 'pit', 'melodious', 'vanguard', 'album', 'madrigal', 'impulses', 'sixteenth', 'sonatas', 'elizabethan', 'traditions', 'traces', 'revivals', 'troupe', 'equivalents', 'picturesque', 'sensual', 'superficial', 'infectious', 'texts', 'elegance', 'characteristics', 'abstract', 'couperin', 'keen', 'bam', 'editions', 'occupies', 'occupy', 'disks', 'workmanship', 'concertos', 'francaise', 'elaborately', 'contemporaries', 'disk', 'ld', 'rococo', 'brevity', 'refined', 'shakes', 'fashionable', 'instrumentalists', 'chambre', 'inexplicable', 'des', 'contains', 'bach', 'giuseppe', 'tiresome', 'variable', 'baritone', 'operetta', 'fragile', 'chuckle', 'rationalist', 'cleverness', 'bawdy', 'tread', 'extremes', 'arlene', 'inexperienced', 'tutor', 'ditties', 'satiric', 'orchestration', 'thinner', 'observation', 'plump', 'cares', 'attentive', 'applauded', 'chord', 'compositions', 'smiling', 'wander', 'rainbow', 'evidences', 'underway', 'flapped', 'combed', 'photographer', 'dared', 'throne', 'lenses', 'overheard', 'microphones', 'shine', 'striving', 'haunches', 'rewarded', 'crying', 'throng', 'deprived', 'symbolic', 'thunder', 'infected', 'delicacy', 'sax', 'ballad', 'subtle', 'carrots', 'blakey', 'generate', 'glimpses', 'sarah', 'vaughan', 'timid', 'stack', 'wasted', 'evolution', 'julie', 'sticking', 'shearing', 'relaxing', 'ferguson', 'roots', 'slaves', 'indies', 'primitive', 'lullaby', 'drumming', 'slapping', 'sensations', 'pony', 'expansiveness', 'projected', 'shanty', 'meanings', 'agreeable', 'premiere', 'nikolais', 'beckons', 'arresting', 'instructive', 'catalogues', 'realm', 'transposed', 'organic', 'consciously', 'mindful', 'esthetics', 'accents', 'contours', 'deals', 'satirical', 'mores', 'nagrin', 'imaginative', 'diversions', 'idiosyncrasies', 'laugh', 'diverting', 'bother', 'menacing', 'marion', 'cliburn', 'cycle', 'subscription', 'westchester', 'triumphant', 'emperor', 'nocturne', 'lyrical', 'igor', 'casually', 'static', 'retrieved', 'treasure', 'rodgers', 'melodies', 'obscurity', 'disappeared', 'delightfully', 'spruce', 'impudent', 'gaieties', 'dorothy', 'raucous', 'attractions', 'incisive', 'delivers', 'quintet', 'inventive', 'elicited', 'earnestness', 'parody', 'expressive', 'resourceful', 'rall', 'idioms', 'content', 'sail', 'persuasively', 'belts', 'pictorial', 'peers', 'hinges', 'romance', 'tenderly', 'titanic', 'marital', 'crouching', 'gavin', 'haunting', 'otter', 'highlands', 'mystic', 'conveys', 'camusfearna', 'isle', 'geese', 'dolphins', 'recounts', 'furnishing', 'mijbil', 'travelled', 'species', 'marshes', 'compliment', 'catalogued', 'frightened', 'iraq', 'curled', 'affectionate', 'mij', 'habits', 'nip', 'lobes', 'systematically', 'marbles', 'invent', 'curiosity', 'explored', 'inch', 'burn', 'discovery', 'charted', 'loneliness', 'sharpening', 'interdependence', 'implicitly', 'revolved', 'behaved', 'mixture', 'irritation', 'manages', 'traveller', 'recorder', 'widened', 'contradict', 'repeats', 'reminds', 'insensitive', 'dare', 'attracts', 'experimenters', 'grief', 'phedre', 'thrusting', 'excessively', 'stately', 'ludicrous', 'jouvet', 'ledoux', 'dissimilar', 'arnolphe', 'tartuffe', 'seigner', 'deluded', 'observes', 'coarse', 'sensuality', 'reflect', 'laughs', 'transformation', 'stupid', 'embodiment', 'meanness', 'rebut', 'bourgeois', 'imaginary', 'invalid', 'tricks', 'scapin', 'healthy', 'energetic', 'agility', 'toughs', 'django', 'conclusively', 'asleep', 'honeysuckle', 'ory', 'anchor', 'blown', 'rag', 'toot', 'ramble', 'eh', 'elman', 'truthfully', 'hesitation', 'alfredo', 'heroine', 'adultery', 'apollo', 'superfluous', 'neurotic', 'sterile', 'jealous', 'argues', 'labeling', 'lurid', 'unsympathetic', 'taras', 'ukrainian', 'danced', 'lusty', 'gregarious', 'madmen', 'searches', 'fitting', 'adagio', 'loveliness', 'olga', 'exquisite', 'accomplishments', 'lone', 'nutcracker', 'esthetic', 'stirring', 'deux', 'yearned', 'quantities', 'astonishingly', 'novelist', 'zest', 'sensitivity', 'prose', 'engrossing', 'switches', 'chronological', 'zealous', 'distrust', 'skillful', 'indecision', 'stretches', 'trusts', 'solitary', 'eagerness', 'identify', 'mastered', 'dignified', 'neglect', 'cultivate', 'profoundly', 'portrayed', 'fatigue', 'platforms', 'pons', 'celebrities', 'rewards', 'keys', 'stylist', 'breathtaking', 'beloved', 'marches', 'inexorably', 'vanished', 'intelligently', 'strides', 'listener', 'broadcasting', 'advertised', 'advertisers', 'salesmen', 'programing', 'attitudes', 'upgrade', 'spur', 'gospel', 'quotes', 'hollering', 'sociological', 'ambitions', 'assimilation', 'sloan', 'chronology', 'prints', 'illustrations', 'manners', 'pigments', 'superseded', 'palette', 'solidity', 'hatching', 'supplements', 'saloon', 'roofs', 'canvases', 'bracing', 'flapping', 'vista', 'gloucester', 'ash', 'foraging', 'sojourn', 'supplementing', 'interpretations', 'riefling', 'penetrated', 'fussy', 'presumptuous', 'logically', 'abundance', 'inwardly', 'kindly', 'insight', 'disarming', 'herr', 'unobtrusive', 'flair', 'shuddering', 'fantasy', 'preoccupation', 'compensatory', 'plasticity', 'categories', 'tray', 'tortoise', 'mysteries', 'astronomy', 'extrapolated', 'phenomena', 'cosmology', 'theories', 'moderator', 'bondi', 'bonnor', 'lyttleton', 'functioned', 'relativistic', 'relativity', 'calculated', 'galaxies', 'receding', 'thinly', 'expands', 'reverse', 'contraction', 'billions', 'whistling', 'contends', 'protons', 'electrons', 'electron', 'proton', 'atoms', 'gravitation', 'charts', 'jargon', 'satellite', 'optical', 'rays', 'telescope', 'gases', 'solace', 'peer', 'rationally', 'defensible', 'cosmos', 'trappings', 'beatie', 'proclaims', 'emancipation', 'happenings', 'earthy', 'intellectuals', 'clods', 'antagonistic', 'illuminating', 'dwell', 'twilight', 'heap', 'messy', 'washing', 'redundancy', 'sustained', 'ado', 'wollman', 'bravely', 'mingled', 'enclosure', 'lawns', 'barbed', 'benedick', 'responds', 'motif', 'umbrellas', 'depart', 'grieving', 'fortified', 'huddled', 'raining', 'foreseen', 'wept', 'yea', 'weeping', 'downpour', 'preparing', 'devoting', 'balcony', 'elisabeth', 'schwarzkopf', 'wolf', 'precision', 'creeping', 'purest', 'coy', 'melodramatic', 'gasp', 'sigh', 'highlights', 'frills', 'enthusiasts', 'situated', 'additionally', 'volatile', 'leaps', 'gentle', 'armchair', 'illusions', 'sansom', 'addiction', 'inherit', 'sitwell', 'worthy', 'pastry', 'thick', 'extract', 'refinements', 'gracefully', 'references', 'connoisseur', 'reproduce', 'smells', 'ignores', 'visual', 'savory', 'astonishment', 'transmit', 'hotter', 'englishman', 'summers', 'delights', 'seacoast', 'coin', 'neat', 'petals', 'byzantine', 'mansions', 'andrea', 'palladio', 'environs', 'shed', 'traceable', 'stucco', 'rocking', 'friezes', 'mint', 'framing', 'velvet', 'lips', 'trifle', 'wbai', 'outlet', 'void', 'explore', 'aspiration', 'relentless', 'wilt', 'fulfilling', 'conceivably', 'stravinsky', 'enterprising', 'introducing', 'salient', 'swedish', 'appetite', 'analytical', 'steadily', 'planting', 'hopping', 'keyed', 'vermilion', 'flame', 'frost', 'maritime', 'quieter', 'rockies', 'groves', 'glinting', 'maples', 'scarlet', 'softer', 'forests', 'brightest', 'routes', 'saratoga', 'placid', 'varies', 'staccato', 'straits', 'mountain', 'peninsula', 'patches', 'rye', 'steamboat', 'dakota', 'centennial', 'expedition', 'schoolhouse', 'nozzles', 'jets', 'indoors', 'gem', 'instinct', 'fictional', 'hurts', 'eagerly', 'monsieur', 'possessions', 'weighty', 'autobiography', 'commentary', 'crane', 'rachel', 'humorous', 'depict', 'festivals', 'mule', 'benson', 'mist', 'staten', 'parades', 'pageants', 'horrors', 'devotees', 'cart', 'tender', 'pitiful', 'maestro', 'dissolving', 'tasting', 'pills', 'overweight', 'loveliest', 'waterways', 'capes', 'steadier', 'cooler', 'fish', 'turbulence', 'logs', 'trailers', 'weekends', 'shores', 'frostbite', 'boating', 'harbors', 'marinas', 'dana', 'inland', 'outboard', 'buzz', 'playground', 'salty', 'shingles', 'corinthian', 'yacht', 'launches', 'poking', 'eastward', 'rigs', 'plush', 'lakes', 'dam', 'erich', 'marquis', 'portago', 'clerfayt', 'whereas', 'aimless', 'purposeful', 'grounded', 'strict', 'lillian', 'remarque', 'discourse', 'demure', 'limb', 'existent', 'insignificant', 'microcosm', 'liberties', 'passive', 'freudian', 'cliche', 'differ', 'transported', 'mystical', 'beast', 'formulae', 'cone', 'terminology', 'mystics', 'faulty', 'labour', 'inward', 'fumbling', 'stumbling', 'relied', 'tear', 'gaulle', 'tenacity', 'restoring', 'whoever', 'treacherous', 'morally', 'surround', 'napoleon', 'preventing', 'studded', 'originate', 'loudest', 'carping', 'averaged', 'consumption', 'gluttons', 'hen', 'degrees', 'dispose', 'calories', 'refrigeration', 'banish', 'spoilage', 'concentrates', 'capsules', 'vitamins', 'dried', 'powdered', 'inventor', 'k', 'physiological', 'directs', 'spans', 'indescribable', 'digestive', 'eaten', 'fats', 'milligrams', 'worries', 'diabetes', 'artery', 'ice', 'saturated', 'arteries', 'coronary', 'obesity', 'malnutrition', 'scarce', 'sustain', 'protein', 'reddish', 'bloated', 'prey', 'parasites', 'lingering', 'caloric', 'puritan', 'flagrant', 'immoral', 'jolliffe', 'appestat', 'hypothalamus', 'temperature', 'alcohol', 'drinker', 'pituitary', 'compulsion', 'fostered', 'insecurity', 'nagging', 'punishment', 'boredom', 'subconscious', 'downright', 'crutches', 'metrecal', 'minerals', 'distaste', 'accidents', 'chemically', 'crystalline', 'bile', 'cells', 'ingredient', 'liver', 'fatty', 'molecules', 'soluble', 'insoluble', 'arterial', 'intima', 'proteins', 'narrows', 'calcium', 'deposits', 'slowing', 'clot', 'seals', 'fatally', 'materially', 'netherlands', 'oxidation', 'stumbled', 'molecule', 'hydrogens', 'exerts', 'context', 'transitional', 'user', 'correspond', 'demons', 'experiential', 'emptied', 'superstition', 'extraneous', 'dispelled', 'undesirable', 'rightly', 'excesses', 'vividly', 'inquiring', 'framework', 'witch', 'quaint', 'witches', 'characterize', 'reverend', 'demon', 'unfolds', 'ominously', 'saint', 'sinner', 'epidemic', 'virulence', 'unavoidably', 'disintegration', 'evokes', 'designate', 'proctor', 'lucifer', 'filthy', 'irony', 'prevented', 'blindness', 'elemental', 'underworld', 'beard', 'horns', 'absolutes', 'grasped', 'potency', 'wickedness', 'integral', 'universally', 'apprehension', 'theological', 'mythological', 'absurd', 'demythologization', 'mythology', 'kerygma', 'mode', 'symbols', 'existential', 'bultmann', 'myth', 'adhered', 'admittedly', 'secularized', 'estranged', 'communicated', 'technological', 'profundity', 'evidenced', 'unavoidable', 'infatuation', 'latent', 'cultured', 'corinthians', 'smug', 'implied', 'greeks', 'accomplishing', 'scripture', 'depriving', 'restatement', 'follower', 'unpaid', 'unambiguous', 'maturation', 'richly', 'despise', 'aligned', 'barth', 'whitehead', 'apostolic', 'modernity', 'enduring', 'formulations', 'formulate', 'buri', 'exclude', 'p', 'indifferent', 'excluded', 'mutually', 'analogous', 'tenable', 'accepts', 'anglican', 'communion', 'popularly', 'enthusiastically', 'unpublished', 'arriving', 'englishmen', 'implying', 'utmost', 'longest', 'fawkes', 'bonfire', 'churchgoing', 'oratory', 'mornings', 'medieval', 'cathedrals', 'priest', 'rolls', 'tenth', 'warehouses', 'lapsed', 'decreasing', 'clergyman', 'protestantism', 'someday', 'mapping', 'nationalistic', 'benediction', 'thy', 'fold', 'shepherd', 'vicar', 'endured', 'forty', 'laity', 'embarrassment', 'ecclesiastical', 'respectful', 'depicting', 'clergymen', 'superficially', 'bells', 'converts', 'immigrants', 'periodical', 'lords', 'symbolize', 'uniqueness', 'universality', 'formulated', 'irenaeus', 'identifies', 'spiral', 'primeval', 'origen', 'interprets', 'portrays', 'whence', 'rained', 'willed', 'eternity', 'similitude', 'imperfect', 'oyster', 'immortality', 'immortal', 'mortality', 'grandeur', 'dominion', 'arrogance', 'justification', 'disobedience', 'obedience', 'obey', 'potentiality', 'parallelism', 'woe', 'downward', 'wherefore', 'forfeit', 'disobeyed', 'parallel', 'preparation', 'ate', 'conformed', 'envied', 'assert', 'dissolution', 'flesh', 'symbolizes', 'describe', 'temporal', 'sting', 'divinely', 'unitarian', 'gannett', 'honorable', 'insisting', 'persecuted', 'diffusing', 'poison', 'suppress', 'propriety', 'orthodoxy', 'inquiry', 'proclaiming', 'insults', 'betray', 'conclusive', 'assurances', 'thanksgiving', 'blot', 'indelible', 'posterity', 'whereupon', 'burly', 'warming', 'excommunicated', 'liberality', 'abject', 'penance', 'naming', 'offspring', 'histories', 'emerson', 'shoving', 'lick', 'veneration', 'accusing', 'bits', 'brittle', 'foundations', 'garrison', 'bravery', 'mobs', 'slavery', 'respecting', 'passions', 'abolitionists', 'proclaimed', 'phrased', 'exquisitely', 'canons', 'channing', 'individuality', 'rod', 'hurried', 'disguised', 'descended', 'founders', 'genteel', 'prophesied', 'prophecy', 'institutionalized', 'defined', 'reminding', 'merchant', 'almighty', 'emotions', 'tides', 'astonished', 'compressed', 'snarled', 'reproach', 'bishops', 'bosom', 'malaria', 'deceived', 'suffused', 'shut', 'endeavor', 'literal', 'factual', 'anew', 'transformed', 'alarmed', 'comprehend', 'audacity', 'norton', 'geology', 'reverent', 'doubting', 'shivering', 'assuredly', 'admiring', 'genesis', 'textbook', 'begotten', 'saviour', 'spiritually', 'appetites', 'affections', 'likeness', 'fruits', 'avenues', 'glory', 'reveals', 'precepts', 'dismissing', 'discern', 'vested', 'bedside', 'beheld', 'radiant', 'ministry', 'ministering', 'joys', 'whosoever', 'sweetly', 'defenses', 'bliss', 'hunger', 'drowning', 'gnawing', 'psalm', 'ailments', 'warts', 'worried', 'aspirin', 'tranquilizers', 'amusement', 'advertise', 'dubious', 'mania', 'diversion', 'mounts', 'munich', 'odor', 'promotes', 'psalmist', 'perpetual', 'predicament', 'curtains', 'warlike', 'wailing', 'pleading', 'belongings', 'vent', 'pounding', 'profanity', 'threefold', 'conquered', 'famine', 'nakedness', 'sword', 'sinned', 'debt', 'stronghold', 'refuge', 'behold', 'hath', 'shu', 'centrality', 'ruler', 'dynasty', 'despotism', 'divergent', 'divination', 'survived', 'symbolism', 'han', 'sprang', 'numerical', 'diagrams', 'confucian', 'proscription', 'anyhow', 'cults', 'fullest', 'mathematical', 'hints', 'diagram', 'arbitrarily', 'functionally', 'symbolically', 'activated', 'opposing', 'pairs', 'equating', 'yang', 'yin', 'leveled', 'harmonious', 'axis', 'tendencies', 'reverence', 'stimulated', 'dynastic', 'mirrors', 'metals', 'odors', 'ascribed', 'postulate', 'initiated', 'exerted', 'workings', 'interrelation', 'philosophers', 'conversely', 'tao', 'equated', 'upside', 'maps', 'evangelism', 'pastoral', 'postponed', 'enclosed', 'topic', 'packet', 'denominational', 'enrich', 'hesitate', 'examinations', 'memorized', 'preparatory', 'painless', 'denominations', 'introductory', 'psychologically', 'climax', 'participant', 'unconcerned', 'inactive', 'appalling', 'alerted', 'cultivation', 'justifiably', 'recreational', 'confuse', 'uniformity', 'paradigm', 'splinter', 'partition', 'grim', 'hostility', 'forcibly', 'differentiation', 'exclusion', 'amorphous', 'defines', 'dispense', 'intrinsically', 'instrumentally', 'interfaith', 'creatively', 'relating', 'finite', 'thwart', 'affecting', 'juncture', 'occasioned', 'pathological', 'proportions', 'authoritarian', 'separates', 'compensate', 'whatsoever', 'nurture', 'prominence', 'aflame', 'repudiation', 'indigenous', 'justifications', 'ceylon', 'buddhism', 'rejoicing', 'missionaries', 'hindu', 'tolerance', 'epitomized', 'jerusalem', 'cairo', 'interval', 'cultures', 'ironically', 'reconsidered', 'thereof', 'jurists', 'expressly', 'muslim', 'islam', 'intentionally', 'penniless', 'delineation', 'watches', 'prevalent', 'dominant', 'finality', 'mentioning', 'calculation', 'balancing', 'indirectly', 'repelled', 'probabilities', 'risks', 'imputed', 'analyzing', 'worlds', 'weighed', 'objectively', 'problematic', 'outweighed', 'contingencies', 'pacifism', 'deriving', 'distinctions', 'toynbee', 'accidental', 'indefinitely', 'comparative', 'realistically', 'anguish', 'prevail', 'deduced', 'proximate', 'distinguishing', 'annihilation', 'precautions', 'quoting', 'incur', 'evils', 'anticipations', 'frightful', 'affirm', 'clothed', 'repel', 'uselessly', 'regaining', 'attaining', 'proviso', 'planet', 'unrelated', 'thoughtful', 'immanent', 'aspirations', 'assumptions', 'realtor', 'conceive', 'wesleyan', 'realtors', 'psychologists', 'clarify', 'ambivalence', 'oneself', 'restrictive', 'nationality', 'detrimental', 'avoidance', 'attach', 'responsiveness', 'socially', 'insistent', 'respectability', 'alumni', 'communal', 'exercised', 'involvement', 'fragmented', 'minimized', 'prejudiced', 'clauses', 'privacy', 'declining', 'securing', 'agitation', 'equity', 'wanton', 'omission', 'judicial', 'repudiated', 'compliance', 'presumes', 'embraces', 'infinitely', 'professions', 'pressed', 'professed', 'bearer', 'shaping', 'metallic', 'rent', 'octillion', 'peas', 'attic', 'blizzard', 'snowing', 'snows', 'oceans', 'planets', 'farthest', 'swallow', 'pill', 'swell', 'magnified', 'luminous', 'oxygen', 'orbits', 'sponge', 'spheres', 'discouraging', 'obeyed', 'predetermined', 'atheists', 'physicist', 'waves', 'orbiting', 'pond', 'counterpoint', 'nantucket', 'daytime', 'modify', 'allegiance', 'unobtainable', 'approximation', 'generalize', 'conformity', 'lessened', 'subscribed', 'drunkenness', 'gossip', 'sexual', 'lowering', 'dependable', 'seminary', 'evangelical', 'flaw', 'patriot', 'alabaster', 'strains', 'walt', 'melville', 'hawthorne', 'arising', 'initiation', 'quakers', 'warranted', 'benevolence', 'paralleled', 'kindred', 'disclose', 'ephemeral', 'comply', 'hopkins', 'incessant', 'dogmatic', 'fearless', 'devout', 'cowardly', 'compromising', 'emphatically', 'impulse', 'finney', 'weld', 'enrolled', 'insufficiently', 'freedmen', 'transmuted', 'awesome', 'worldly', 'ancestors', 'eminence', 'interdependent', 'observance', 'generating', 'supremely', 'manifested', 'swaying', 'outrages', 'rigid', 'offend', 'provoke', 'disasters', 'obeying', 'comprehending', 'empirical', 'burial', 'magical', 'taoism', 'manipulation', 'mahayana', 'package', 'zen', 'pantheon', 'wielded', 'monastic', 'confucianism', 'ethos', 'synonymous', 'promoters', 'proponents', 'taoist', 'metaphysic', 'metaphysical', 'doctrines', 'stillness', 'antipathy', 'outward', 'perceived', 'perception', 'handicap', 'ordering', 'haste', 'drug', 'theoretically', 'strove', 'magically', 'contemplation', 'attained', 'seclusion', 'supernaturalism', 'credulity', 'hwang', 'pah', 'inhabited', 'emitted', 'torrent', 'beckoned', 'shan', 'buddha', 'unexpectedly', 'pragmatic', 'reconcile', 'therewith', 'indulgence', 'excited', 'disseminated', 'amongst', 'ephesians', 'satan', 'blinded', 'reborn', 'amen', 'habit', 'believer', 'righteous', 'nicodemus', 'yourselves', 'dwelling', 'miraculous', 'instantaneous', 'hears', 'zealously', 'repent', 'cursed', 'spit', 'mock', 'curses', 'guideposts', 'sorrow', 'astounding', 'blade', 'whisper', 'materialism', 'thornburg', 'peale', 'mailing', 'leaflets', 'ingredients', 'philanthropic', 'lesourd', 'dim', 'alaska', 'jew', 'contributes', 'catherine', 'distances', 'braces', 'shield', 'brightness', 'hated', 'rumors', 'waving', 'marina', 'paredon', 'proclamation', 'landlord', 'gleaming', 'thump', 'whir', 'crucifix', 'bodybuilder', 'barbell', 'hey', 'lookit', 'gonna', 'gotta', 'unkind', 'courcy', 'weights', 'montreal', 'weider', 'pupil', 'exercising', 'skiing', 'dissatisfied', 'pecs', 'frontal', 'elbows', 'width', 'affords', 'incline', 'flare', 'symmetry', 'hallmark', 'workouts', 'chisel', 'discovers', 'lunge', 'lengths', 'thighs', 'unforgettable', 'lifters', 'squatting', 'writhing', 'skin', 'improves', 'concentrated', 'straightening', 'wobble', 'enormously', 'pansies', 'velvety', 'glaring', 'gardener', 'beauties', 'puzzled', 'blooming', 'pansy', 'compost', 'adequacy', 'coldest', 'ventilation', 'dig', 'spray', 'protects', 'sprinkling', 'porous', 'mulch', 'sawdust', 'hay', 'thrifty', 'phosphate', 'meal', 'encourages', 'spade', 'decayed', 'manure', 'diluted', 'dissolved', 'moisture', 'heaving', 'thaw', 'bloomed', 'zero', 'blossoms', 'tug', 'assures', 'shear', 'stub', 'leaf', 'behave', 'reputable', 'cared', 'buds', 'solicitude', 'tomato', 'healthful', 'avocado', 'avocados', 'tasted', 'pear', 'pulp', 'ripe', 'bartlett', 'bland', 'anticipation', 'refrigerated', 'packing', 'excelsior', 'lapses', 'cooling', 'delays', 'ripening', 'egg', 'versatility', 'nutritional', 'nutrients', 'acids', 'appreciable', 'vitamin', 'diets', 'dietary', 'pulsating', 'vibration', 'clutches', 'ballistic', 'stealth', 'merciless', 'terrifying', 'attacker', 'defenseless', 'vulnerability', 'committing', 'location', 'vessels', 'detect', 'compute', 'icbm', 'mobility', 'perfected', 'exceedingly', 'imprecisely', 'spacecraft', 'employing', 'hardened', 'minuteman', 'atlas', 'titan', 'airborne', 'duration', 'airfields', 'doomed', 'runways', 'ratio', 'obsolete', 'propulsion', 'supersonic', 'weighing', 'sac', 'dispersion', 'reconnaissance', 'samos', 'favorably', 'priceless', 'infrared', 'photography', 'dual', 'renditions', 'arte', 'schnabel', 'performer', 'curzon', 'adrian', 'sheds', 'differs', 'structural', 'impetuous', 'cite', 'delicious', 'shading', 'expertise', 'compliments', 'scrawny', 'locating', 'purported', 'indistinguishable', 'fidelity', 'multiplied', 'innovations', 'environments', 'alteration', 'quantitatively', 'imitation', 'easiest', 'reproduces', 'steinberg', 'minimal', 'frequency', 'aesthetic', 'noises', 'resonance', 'faithfully', 'pacing', 'ma', 'non', 'spirito', 'giselle', 'vanish', 'brute', 'brilliance', 'tolerable', 'kc', 'ceases', 'sensing', 'barcus', 'kennel', 'handler', 'sportsmen', 'betty', 'afghan', 'intermediates', 'intermediate', 'licensed', 'terrier', 'pointer', 'danes', 'kitten', 'wipe', 'examination', 'fishermen', 'concentrations', 'coasts', 'upsurge', 'markedly', 'watering', 'ninety', 'sailboats', 'smartly', 'tedious', 'trailer', 'hauled', 'horizons', 'camping', 'plywood', 'plastic', 'toilets', 'galleys', 'bunks', 'purchasers', 'boatman', 'encompass', 'horsepower', 'wherein', 'owning', 'launch', 'rating', 'unduly', 'terrified', 'infancy', 'burdened', 'aloft', 'carefree', 'coordinated', 'reorganized', 'sparked', 'coined', 'commercially', 'dock', 'nomenclature', 'interlocking', 'tappets', 'tappet', 'lengthwise', 'locking', 'angles', 'notches', 'sloping', 'slide', 'pulls', 'levers', 'turnout', 'snag', 'connecting', 'rails', 'prototype', 'photos', 'widths', 'spacing', 'solder', 'drilled', 'spacers', 'horizontally', 'screws', 'drilling', 'contacts', 'reassemble', 'roundhead', 'nuts', 'twisted', 'insert', 'slots', 'flush', 'slot', 'underside', 'scribe', 'lifting', 'progresses', 'accessible', 'rotating', 'triangular', 'mated', 'files', 'rodding', 'rodder', 'remotely', 'equations', 'multiplication', 'subtraction', 'subtracted', 'fractions', 'decimal', 'simplified', 'constants', 'blanks', 'displacement', 'boring', 'cylinders', 'piston', 'computing', 'cylinder', 'centimeters', 'compression', 'combustion', 'liquid', 'valves', 'gasket', 'liquids', 'subtracting', 'thickness', 'calculate', 'pistons', 'irregularly', 'irregularity', 'axle', 'tire', 'simplify', 'substituted', 'mph', 'radius', 'inflated', 'measurement', 'rpm', 'stable', 'debonnie', 'dale', 'hanover', 'gal', 'laguerre', 'tar', 'monel', 'conformation', 'colt', 'brood', 'mare', 'fury', 'hoot', 'caper', 'trot', 'thrived', 'thor', 'harness', 'hopples', 'worms', 'paced', 'curbs', 'hustler', 'playful', 'adios', 'masculine', 'pacers', 'frisco', 'hickory', 'trotted', 'faber', 'rodney', 'martha', 'trader', 'baffled', 'rocked', 'skipped', 'gallon', 'straightened', 'cathy', 'rainfall', 'duke', 'abbe', 'hi', 'stormy', 'mocking', 'shooter', 'rack', 'handgun', 'deerstalker', 'timber', 'velocity', 'ruger', 'magnum', 'cartridge', 'antelope', 'carbine', 'wart', 'defunct', 'barrels', 'revolver', 'bullet', 'jacketed', 'compares', 'scales', 'trigger', 'muzzle', 'remington', 'edible', 'flurry', 'intriguing', 'calibers', 'brands', 'magnums', 'recoil', 'cartridges', 'kodiak', 'autoloader', 'tubular', 'targo', 'brakes', 'shortened', 'pump', 'saddle', 'scabbard', 'cocked', 'tang', 'gauge', 'hunters', 'sighting', 'firearms', 'optional', 'coupled', 'livery', 'creaking', 'tallyho', 'cruz', 'orchards', 'lantern', 'complain', 'boulder', 'creek', 'tiring', 'contrived', 'rode', 'hamper', 'smoked', 'sandwiches', 'pickled', 'bulbs', 'resin', 'westerly', 'fragrance', 'boots', 'whiskey', 'patent', 'medicines', 'chewing', 'hissing', 'draped', 'roast', 'fond', 'standby', 'splash', 'herbs', 'inspect', 'shave', 'roulette', 'groomed', 'jaw', 'kedgeree', 'cupful', 'boiled', 'minced', 'sauce', 'pinch', 'tablespoonful', 'fried', 'omelet', 'ernest', 'arbogast', 'grill', 'celery', 'nutmeg', 'sherry', 'swarmed', 'amused', 'primacy', 'maroon', 'glistened', 'reins', 'button', 'curve', 'uplands', 'tilt', 'lounged', 'cigar', 'clump', 'fork', 'ripple', 'ink', 'denouncing', 'stables', 'strewn', 'haunt', 'pigs', 'cured', 'esteemed', 'roasted', 'saucepan', 'mustard', 'mashed', 'garlic', 'lime', 'tablespoons', 'worcestershire', 'catsup', 'walnuts', 'pint', 'simmer', 'vineyards', 'nuisance', 'fences', 'pies', 'apple', 'apples', 'oven', 'pie', 'ledger', 'peel', 'gently', 'syrup', 'unbelievable', 'hawaii', 'photographic', 'birthplace', 'villages', 'peerless', 'metropolis', 'forge', 'beaches', 'champlain', 'ethan', 'winooski', 'ferry', 'locales', 'sunlight', 'expanse', 'spectacles', 'tourist', 'vicksburg', 'photograph', 'surroundings', 'wrought', 'adventure', 'lit', 'chattanooga', 'charlottesville', 'monticello', 'picturing', 'photo', 'uneven', 'filtering', 'predominantly', 'tripod', 'midwestern', 'stroll', 'overgrown', 'landmarks', 'boyish', 'mischief', 'wyatt', 'cowboys', 'carriages', 'autos', 'forts', 'tulip', 'holland', 'derby', 'yosemite', 'zion', 'canyon', 'formations', 'loom', 'landmark', 'istanbul', 'disappearing', 'graceful', 'spires', 'panorama', 'bosphorus', 'constantinople', 'constantine', 'turks', 'ottoman', 'marmara', 't', 'empties', 'sophia', 'minarets', 'mosque', 'seventeenth', 'bazaar', 'pagan', 'temples', 'justinian', 'emperors', 'stubby', 'michelangelo', 'plastered', 'sultans', 'hippodrome', 'chariot', 'octagonal', 'sultan', 'ahmet', 'obelisk', 'serpents', 'courtyard', 'rectangular', 'burnt', 'arcade', 'sunken', 'pillars', 'lettering', 'towers', 'prisons', 'veered', 'chimneys', 'utensils', 'portico', 'illuminated', 'cups', 'diamonds', 'swords', 'emeralds', 'squares', 'coals', 'grease', 'sauces', 'detergent', 'rinse', 'shorten', 'aluminum', 'meats', 'thermometer', 'diagonally', 'hibachi', 'forks', 'flares', 'bowls', 'unbreakable', 'oilcloth', 'barbecues', 'coolers', 'hamburgers', 'frozen', 'mopping', 'chilled', 'dressing', 'buns', 'knives', 'franks', 'sausages', 'threaded', 'spiced', 'feast', 'frankfurter', 'gloves', 'sized', 'skinless', 'charcoal', 'cheese', 'styled', 'fix', 'popping', 'chili', 'tablespoon', 'teaspoons', 'frankfurters', 'chopped', 'chunks', 'spear', 'carne', 'coney', 'sauerkraut', 'chop', 'onions', 'teaspoon', 'pretend', 'drained', 'rectangle', 'strips', 'pottery', 'molds', 'stoneware', 'glazes', 'stains', 'bubbles', 'cracking', 'wax', 'mold', 'cavity', 'antique', 'cupped', 'tapping', 'plaster', 'bending', 'warping', 'grooves', 'craters', 'bisque', 'glazed', 'coats', 'decorated', 'stained', 'stain', 'opaque', 'transparent', 'spaced', 'pencil', 'personalized', 'jars', 'lids', 'jar', 'measurements', 'circumference', 'circular', 'overlap', 'overlapped', 'coil', 'toner', 'matt', 'turquoise', 'rim', 'beveled', 'construct', 'reinforce', 'creamer', 'overlapping', 'seam', 'container', 'spoon', 'vases', 'shakers', 'candles', 'napkin', 'holder', 'cardboard', 'bottle', 'strand', 'armhole', 'stitches', 'marker', 'needle', 'sew', 'backstitch', 'curved', 'slanted', 'weaving', 'sock', 'hotei', 'amuse', 'galley', 'toilet', 'cruiser', 'bin', 'needless', 'fiberglas', 'hauling', 'mahogany', 'battens', 'nails', 'nail', 'resorcinol', 'glue', 'transom', 'glued', 'keelson', 'chines', 'butted', 'planking', 'jig', 'screwed', 'stem', 'butt', 'clamps', 'fairing', 'planer', 'clamped', 'plank', 'batten', 'pigment', 'mixing', 'linden', 'installing', 'fasten', 'flaring', 'flooring', 'exterior', 'bottoms', 'floorboards', 'bunk', 'drains', 'padding', 'cement', 'cottages', 'modular', 'timbers', 'ingenious', 'specify', 'intermittent', 'expandable', 'fixtures', 'mesh', 'coated', 'particle', 'obtainable', 'weatherproof', 'compound', 'thicknesses', 'ripping', 'milling', 'multitude', 'attachments', 'spindle', 'quill', 'movable', 'tilted', 'radial', 'horizontal', 'securely', 'oiled', 'sealed', 'dusting', 'clockwise', 'adjusting', 'interchangeable', 'drills', 'spurs', 'sever', 'fibers', 'cutter', 'reversing', 'scrap', 'dimensional', 'clamping', 'sequence', 'newbury', 'newburyport', 'salisbury', 'petitioned', 'merrimack', 'jonathan', 'esquire', 'commonwealth', 'politic', 'timothy', 'patented', 'arch', 'supervised', 'coombs', 'travels', 'breadth', 'invention', 'portsmouth', 'piers', 'eccentric', 'oration', 'cheek', 'fayette', 'hereby', 'relates', 'oxen', 'drowned', 'rebuilt', 'roadway', 'philippi', 'infantry', 'swarming', 'retreating', 'armies', 'buggy', 'harpers', 'chenoweth', 'parkersburg', 'grafton', 'carving', 'beams', 'raid', 'piling', 'reasoned', 'confederate', 'centering', 'rigorous', 'diluting', 'cling', 'viewpoints', 'dreaming', 'shimmering', 'tubes', 'annoying', 'colder', 'dictated', 'restful', 'pavement', 'pertaining', 'gatherings', 'fantasies', 'sharks', 'trunks', 'etiquette', 'ratings', 'collusion', 'telephoning', 'splashing', 'lingo', 'protesting', 'brutal', 'undressing', 'dripping', 'bathing', 'localities', 'fenced', 'chlorine', 'rots', 'paints', 'divers', 'enjoined', 'bottles', 'ph', 'filter', 'pins', 'scrubbing', 'grate', 'debris', 'pumping', 'insect', 'pipes', 'latitude', 'conditioning', 'fha', 'inclusion', 'ducts', 'installation', 'upkeep', 'concurs', 'offset', 'thermal', 'filtered', 'redecorating', 'fatigued', 'awake', 'refreshed', 'screens', 'conditioner', 'economical', 'filters', 'furnace', 'blower', 'conditioners', 'basement', 'closet', 'garage', 'insulation', 'circulated', 'thermostat', 'extracted', 'negligible', 'btu', 'safest', 'comfortably', 'penetrate', 'blinds', 'draperies', 'insulated', 'condensation', 'drier', 'pretending', 'orienting', 'geological', 'ownerships', 'etcetera', 'investigator', 'desolate', 'potentials', 'frontage', 'vastly', 'overall', 'overlooks', 'shrubs', 'watershed', 'unrestricted', 'migratory', 'coastal', 'stones', 'caves', 'encroachment', 'topography', 'elevation', 'slopes', 'irrigation', 'checking', 'serge', 'personifies', 'republics', 'ascending', 'koussevitzky', 'skeptical', 'skeptics', 'foyer', 'mais', 'oranges', 'symphonies', 'aristocracy', 'salons', 'mistress', 'gaiety', 'fascism', 'outraged', 'cringing', 'submission', 'beset', 'treaties', 'disciplines', 'epoch', 'fluent', 'environment', 'compose', 'traditionalism', 'tenderness', 'profile', 'instrumentation', 'novelty', 'traditionalist', 'forged', 'disparate', 'compass', 'swayed', 'transform', 'homogeneity', 'les', 'recapture', 'proclamations', 'shabby', 'eighty', 'unfolded', 'swiftly', 'circumspect', 'wove', 'rigors', 'kinship', 'distillation', 'extracting', 'expeditions', 'imparted', 'engraved', 'batavia', 'max', 'independently', 'watercolor', 'recognizable', 'washes', 'watercolors', 'composing', 'spontaneity', 'linear', 'freehand', 'thoughtfully', 'easel', 'umbrella', 'cleansing', 'tissue', 'mop', 'soften', 'bristle', 'shaved', 'umber', 'connotation', 'synthesis', 'inventory', 'silhouetted', 'niche', 'gilbert', 'zodiacal', 'medals', 'gymnasts', 'athletes', 'gymnastics', 'tumbling', 'handstands', 'persistence', 'gymnastic', 'newborn', 'infants', 'fitness', 'anxiety', 'clumsy', 'bulging', 'abdominal', 'climb', 'palms', 'straighten', 'lessening', 'somersaults', 'beginnings', 'electronics', 'betterment', 'staggering', 'ultrasonic', 'ultraviolet', 'microscopy', 'bacteria', 'microorganisms', 'microscopic', 'replaces', 'microscope', 'amplified', 'wavelength', 'rotated', 'illumination', 'advancing', 'perfecting', 'respiratory', 'affectionately', 'monster', 'carbon', 'nitrogen', 'lung', 'mouthpiece', 'hitherto', 'heartbeat', 'aorta', 'dimensioning', 'undisturbed', 'outlines', 'sonar', 'meters', 'traverse', 'generator', 'evaluation', 'catheter', 'transducer', 'ventricle', 'outputs', 'computer', 'receivers', 'resonant', 'antenna', 'detected', 'receiver', 'transmitted', 'calibrated', 'gratifying', 'detection', 'exploration', 'submerged', 'scanning', 'diagnose', 'indicator', 'anatomical', 'specially', 'lens', 'diameters', 'millimeter', 'tub', 'veins', 'boyhood', 'denmark', 'apothecary', 'surveyor', 'borrow', 'stimulate', 'copenhagen', 'lodging', 'supplemented', 'revel', 'banished', 'lecturing', 'essay', 'pharmacy', 'divisive', 'oersted', 'voltaic', 'bavaria', 'ritter', 'stormed', 'fertile', 'disorganized', 'francs', 'celestial', 'ecliptic', 'corresponded', 'reckon', 'manthey', 'salts', 'pursue', 'faculties', 'sur', 'esteem', 'chemists', 'magnetism', 'similarity', 'analogies', 'magnet', 'fuse', 'vapor', 'trough', 'electrostatic', 'polarity', 'additives', 'sanctioned', 'drugs', 'veterinary', 'assumes', 'additive', 'oxytetracycline', 'hydrochloride', 'bacterial', 'diarrhea', 'incidence', 'bloat', 'abscesses', 'calves', 'grams', 'scours', 'severity', 'onset', 'disappear', 'aureomycin', 'reduces', 'infections', 'pneumonia', 'rot', 'milligram', 'infection', 'abortion', 'dynafac', 'gram', 'premix', 'consuming', 'minimizing', 'lambs', 'diethylstilbestrol', 'creep', 'iodinated', 'registry', 'enzymes', 'enzyme', 'preparations', 'fermentation', 'extracts', 'utilization', 'foamy', 'phenothiazine', 'reproduction', 'worm', 'pasture', 'sodium', 'acetonemia', 'ketosis', 'calving', 'stimulates', 'mechanized', 'conveyor', 'elevator', 'sixties', 'efficiencies', 'intensification', 'distributors', 'distributor', 'assertions', 'enhance', 'headaches', 'economies', 'scrutinizing', 'accentuated', 'evaluated', 'beats', 'tuned', 'quantitative', 'qualitative', 'outdistanced', 'beverage', 'wrapped', 'defining', 'politeness', 'certification', 'adhere', 'necessities', 'dictionary', 'occupational', 'furnishes', 'institutional', 'determines', 'examining', 'supervising', 'carpentry', 'exhibitions', 'extant', 'synthetic', 'inhibition', 'dissection', 'frowned', 'educator', 'scrutinized', 'denies', 'initials', 'catalog', 'tolerate', 'shortsighted', 'molding', 'rushes', 'suffice', 'irresponsibility', 'correlation', 'accreditation', 'printing', 'restricting', 'entitles', 'uninterrupted', 'policing', 'vending', 'relying', 'commensurate', 'taxis', 'vacations', 'shutdown', 'shutdowns', 'assigning', 'rigidly', 'distinguish', 'treatments', 'overboard', 'checkbook', 'periodically', 'alerting', 'beware', 'bereavement', 'deceased', 'alleviate', 'supplemental', 'containers', 'absences', 'adopting', 'inconvenience', 'widest', 'ammunition', 'sown', 'consultants', 'carryover', 'teen', 'jennings', 'benefited', 'campground', 'tents', 'camper', 'bedding', 'campers', 'guesses', 'harassed', 'rods', 'migration', 'comforts', 'wandering', 'disillusionment', 'willingly', 'rebelled', 'remedies', 'gage', 'fights', 'advancement', 'turbine', 'classifications', 'equivalence', 'secretaries', 'patents', 'badge', 'evaluations', 'oakwood', 'metered', 'fueloil', 'tenants', 'lays', 'supplier', 'welded', 'shocks', 'coolant', 'leaks', 'bugs', 'radiator', 'fluids', 'breakdowns', 'clause', 'discount', 'reductions', 'liability', 'plastics', 'entrenched', 'neon', 'tubing', 'aggregate', 'fabrication', 'molded', 'styrene', 'acrylic', 'dominates', 'extruded', 'chipping', 'cellulose', 'acetate', 'butyrate', 'laminate', 'vinyl', 'polyester', 'polyethylene', 'expectancy', 'incorporates', 'translucent', 'shielded', 'obstruct', 'adhesive', 'changeable', 'characterizes', 'openings', 'cemented', 'corrugated', 'installations', 'formulation', 'sprayed', 'quicker', 'bathtub', 'doorway', 'studs', 'stud', 'drywall', 'unload', 'carrier', 'unitized', 'asphalt', 'acoustical', 'strapping', 'lb', 'unloading', 'packages', 'manhours', 'bricklaying', 'bricklayers', 'bricks', 'scaffold', 'carpenter', 'smart', 'anachronism', 'gratefully', 'palaces', 'capitals', 'champagne', 'rue', 'untouched', 'clinging', 'lofty', 'squat', 'kilometer', 'wiser', 'travelling', 'sedans', 'supplementary', 'romeo', 'indulge', 'luxuries', 'seating', 'infinitesimal', 'nickel', 'limousine', 'chauffeur', 'kilometers', 'skimming', 'lured', 'cute', 'peanuts', 'linguist', 'programming', 'perverse', 'eskimo', 'knotted', 'anthropology', 'linguistics', 'attuned', 'charting', 'norms', 'linguists', 'systematic', 'psychiatric', 'therapy', 'laughing', 'nodding', 'cetera', 'impaired', 'revealing', 'psychiatry', 'relate', 'therapeutic', 'psychiatrists', 'cues', 'discernible', 'psychotherapy', 'therapist', 'typed', 'linguistic', 'transcribed', 'flags', 'rehearsed', 'ambiguity', 'giveaways', 'stressing', 'congruent', 'interestingly', 'scientifically', 'indicators', 'pronouns', 'actuality', 'stammered', 'freighter', 'sailed', 'bari', 'adriatic', 'porto', 'anchored', 'berth', 'mole', 'laden', 'ammo', 'hideous', 'poisonous', 'inhumane', 'depot', 'vile', 'cargo', 'beckstrom', 'secrecy', 'nestled', 'decks', 'convoy', 'reappeared', 'blitz', 'raids', 'naples', 'scouting', 'squadron', 'vesole', 'bascom', 'stunned', 'shook', 'seaman', 'gazed', 'damned', 'vecchio', 'shiver', 'musmanno', 'renovated', 'schooner', 'fluttering', 'snatched', 'savagely', 'flashlight', 'laughed', 'bellowed', 'chattered', 'roared', 'crashing', 'airports', 'invisible', 'beacon', 'imbedded', 'clambered', 'wounded', 'luckily', 'cries', 'merriment', 'gaze', 'staring', 'confesses', 'weird', 'deja', 'vue', 'scorn', 'psychical', 'irregular', 'slab', 'clasping', 'whispered', 'overwhelmed', 'wakeful', 'psychic', 'imagery', 'subconsciously', 'concurrent', 'sensory', 'unexplained', 'retinal', 'images', 'perceptive', 'momentary', 'perpetuate', 'counterpart', 'progressions', 'bizarre', 'hilprecht', 'escorted', 'gradient', 'forgetfulness', 'peculiarly', 'depew', 'nominate', 'psychologist', 'orator', 'nutrition', 'caring', 'lends', 'farming', 'sandy', 'erosion', 'fertilizers', 'gardening', 'faulkner', 'herd', 'wastes', 'pails', 'stooped', 'soils', 'enrichment', 'cabbage', 'colman', 'fragrant', 'eyeing', 'cereal', 'cereals', 'salads', 'liberally', 'sprouted', 'hens', 'fertility', 'loaves', 'residues', 'spilling', 'underfoot', 'hikes', 'complexion', 'swirling', 'struggled', 'northward', 'northfield', 'wires', 'bundled', 'peered', 'grinned', 'gravel', 'labored', 'cloudburst', 'burlington', 'concord', 'easing', 'montpelier', 'aviator', 'jenny', 'sod', 'hillside', 'barre', 'crumpled', 'granite', 'aviation', 'terminals', 'fogg', 'englander', 'wiry', 'inaugurated', 'legendary', 'backers', 'waco', 'begged', 'safer', 'downwind', 'reuben', 'wolfe', 'postmaster', 'somers', 'telegram', 'airplanes', 'crawled', 'sheepskin', 'visibility', 'marston', 'wishing', 'disregarding', 'clocks', 'bark', 'reckoning', 'threading', 'overcast', 'messenger', 'deduce', 'thawed', 'barracks', 'powdery', 'hazy', 'penny', 'serenity', 'unhappiness', 'amaze', 'knack', 'doll', 'hem', 'rugs', 'mosaic', 'ceramics', 'cakes', 'carve', 'dandy', 'gadgets', 'scrub', 'slips', 'hobbies', 'dolls', 'hobby', 'clippings', 'creativity', 'coop', 'burrow', 'sameness', 'projecting', 'forestall', 'maturing', 'huxley', 'victorian', 'joking', 'intercourse', 'unhurried', 'consummation', 'virginity', 'hymen', 'membrane', 'vagina', 'manuals', 'childbirth', 'dilatation', 'reflex', 'vaginal', 'intrusion', 'learns', 'erotic', 'caresses', 'relaxes', 'anterior', 'posterior', 'virility', 'ruthlessness', 'facilitate', 'premature', 'accumulated', 'orgasm', 'nude', 'kenneth', 'matron', 'censorship', 'lewd', 'bump', 'reversed', 'counselors', 'asserting', 'submissive', 'steichen', 'calderone', 'unhealthy', 'sexually', 'cheated', 'maleness', 'counselor', 'ironing', 'pta', 'overtures', 'hemmed', 'submitting', 'monopolize', 'schillinger', 'hover', 'anxiously', 'bacon', 'marketplace', 'postwar', 'arousal', 'knuckle', 'coaxed', 'diana', 'harrington', 'prostitute', 'diane', 'hid', 'jelke', 'searched', 'clad', 'pulley', 'bey', 'procurer', 'farouk', 'brew', 'phony', 'audition', 'gushed', 'scream', 'gamblers', 'x', 'nero', 'halls', 'screaming', 'discreet', 'screamed', 'luxurious', 'beguiling', 'impatient', 'pimp', 'egyptians', 'overthrown', 'overcrowded', 'littered', 'autopsy', 'knowingly', 'claire', 'shaefer', 'squeezing', 'kidney', 'disorder', 'ozone', 'shrieked', 'ailment', 'tumors', 'cysts', 'quack', 'quackery', 'quacks', 'flashing', 'vocabulary', 'fake', 'masseur', 'reich', 'distributing', 'bbb', 'arthritis', 'rheumatism', 'loot', 'strychnine', 'relies', 'insulin', 'chloride', 'twirling', 'prescription', 'compresses', 'stephens', 'prosecuted', 'cures', 'scrape', 'classmate', 'protruded', 'orthodontist', 'dentist', 'jaws', 'orthodontic', 'brodie', 'orthodontics', 'malocclusion', 'protruding', 'crooked', 'predisposition', 'deformity', 'sucking', 'suck', 'thumbs', 'narrowing', 'jumble', 'embarrassed', 'malformed', 'alignment', 'abnormal', 'susie', 'appliance', 'dissolve', 'disrupt', 'retention', 'orthodontists', 'births', 'scoffed', 'utilized', 'prematurely', 'sitter', 'foregoing', 'mediums', 'esp', 'mourning', 'parapsychology', 'entranced', 'proxy', 'experimenter', 'unconscious', 'clarifying', 'communicator', 'elastic', 'j', 'empirically', 'z', 'mediumistic', 'intuitive', 'tabulated', 'intrinsic', 'slant', 'irons', 'visually', 'confining', 'chickens', 'locality', 'profitably', 'drought', 'invested', 'uneconomical', 'rented', 'pig', 'deciding', 'nearness', 'adolescents', 'starved', 'strangled', 'ss', 'dulled', 'corpses', 'legally', 'admissible', 'recollections', 'catharsis', 'exhausting', 'eichmann', 'recollection', 'fiend', 'stubbornly', 'overcoming', 'shout', 'murderer', 'exemplified', 'betrayal', 'czechoslovakia', 'hungary', 'infamous', 'heydrich', 'phraseology', 'complement', 'dislike', 'arousing', 'dishonest', 'abyss', 'unspeakable', 'convict', 'fates', 'awakened', 'poisoned', 'epic', 'unavailable', 'memoirs', 'orthopedic', 'surgeon', 'dramatize', 'rancor', 'sullen', 'faiths', 'commonweal', 'sensibilities', 'blurred', 'sanctions', 'contraceptives', 'regards', 'procreation', 'spouses', 'subjective', 'ascertain', 'propagation', 'supplant', 'frustrate', 'clenched', 'sinful', 'racketeers', 'contraception', 'unnatural', 'lambeth', 'condemnation', 'affirmed', 'thames', 'voyage', 'arctic', 'mate', 'commanded', 'fragmentary', 'tantalizing', 'muscovy', 'dartmouth', 'recruited', 'unexplored', 'furious', 'overfall', 'strait', 'juet', 'staffe', 'perversely', 'explorer', 'misconception', 'forties', 'iceland', 'greenland', 'turbulent', 'inlet', 'passageway', 'java', 'avoiding', 'patched', 'feverishly', 'intuition', 'swore', 'muskets', 'cabins', 'bloodshed', 'boatswain', 'sworn', 'calmed', 'axe', 'selkirk', 'headwaters', 'aborigines', 'kingston', 'grasshoppers', 'pembina', 'huts', 'stockade', 'daer', 'warmer', 'traders', 'bailly', 'dickson', 'ox', 'prophetically', 'bushels', 'barley', 'prompted', 'renamed', 'snelling', 'hercules', 'disappointed', 'duly', 'powder', 'nets', 'mice', 'lucian', 'patron', 'refrain', 'smuggled', 'thicker', 'comrades', 'figurative', 'dilapidated', 'slowness', 'litter', 'annoyed', 'jist', 'sergeant', 'twister', 'modes', 'georgian', 'yank', 'plantation', 'diarrhoea', 'stationed', 'rebs', 'escapes', 'blots', 'homely', 'admonitions', 'laundering', 'owing', 'usages', 'stereotyped', 'boon', 'companions', 'exploits', 'comrade', 'sis', 'drunkard', 'helion', 'pa', 'illiterate', 'ass', 'guts', 'regiment', 'cavalry', 'shucks', 'corporal', 'booty', 'legends', 'rationalize', 'justifying', 'cohesive', 'curricula', 'outlived', 'heterogeneous', 'incarnation', 'rebelling', 'patriotism', 'propagandistic', 'homogeneous', 'oral', 'myths', 'literate', 'definitions', 'bogus', 'culturally', 'lore', 'propagandists', 'footnote', 'collector', 'acutely', 'uncritical', 'shudder', 'propagandist', 'analyst', 'hillbilly', 'poems', 'bias', 'torrio', 'cicero', 'bleakly', 'trouser', 'lethal', 'dispassionately', 'murders', 'disliked', 'wreaths', 'trample', 'lurch', 'administering', 'interwoven', 'rackets', 'capone', 'sicilian', 'tenements', 'thieving', 'waiter', 'rowdy', 'methodically', 'looted', 'waiters', 'trespassed', 'ryan', 'telegraph', 'gag', 'grapevine', 'parable', 'jerked', 'platinum', 'liking', 'offended', 'unimpressed', 'insolence', 'idiotic', 'buckle', 'cops', 'boosted', 'booze', 'proliferation', 'concession', 'stead', 'tsunami', 'earthquake', 'pounded', 'catastrophic', 'geologists', 'damaging', 'osaka', 'forlorn', 'dwarf', 'crest', 'reckoned', 'gravity', 'detectable', 'amplitude', 'fateful', 'swells', 'hilo', 'scurried', 'oceanography', 'rattling', 'glowed', 'organism', 'swollen', 'gratified', 'disregarded', 'oscillation', 'forwarded', 'earthquakes', 'epicenter', 'calculations', 'hurled', 'unsolved', 'jerky', 'garryowen', 'cheyennes', 'apaches', 'mel', 'ridden', 'swivel', 'co', 'erudite', 'custer', 'goulding', 'leyte', 'platoon', 'rifleman', 'bucking', 'reinforcements', 'pinned', 'hurling', 'grenade', 'attackers', 'g', 'counterattack', 'okay', 'bellow', 'profusely', 'battlefield', 'diminishes', 'bantus', 'graphic', 'oppressed', 'abreast', 'reputed', 'backwoods', 'isolation', 'mask', 'auxiliaries', 'violently', 'plunging', 'misunderstood', 'pretended', 'decisively', 'rattle', 'thumping', 'slamming', 'shutters', 'newspaperman', 'gunfire', 'toad', 'blackened', 'siege', 'ambush', 'meandering', 'frenchman', 'stiffened', 'spinning', 'barefoot', 'lethargy', 'bouncing', 'traversed', 'keo', 'beaver', 'coatings', 'shovels', 'elders', 'coconuts', 'strode', 'dusty', 'plateau', 'philippines', 'pet', 'divinities', 'happiness', 'wrists', 'antiseptic', 'salve', 'weakening', 'strivings', 'synagogue', 'beards', 'ancestral', 'clinical', 'marry', 'wryly', 'peripheral', 'outing', 'pursuits', 'academically', 'counterparts', 'sexes', 'irritably', 'constituting', 'vigilance', 'generates', 'prodded', 'appreciably', 'graduating', 'puffed', 'advertisements', 'announces', 'fran', 'horowitz', 'ivy', 'lard', 'coolness', 'salted', 'bathed', 'watery', 'healing', 'ointment', 'sprinkled', 'turpentine', 'scar', 'scalp', 'knot', 'sores', 'rubbing', 'blister', 'saliva', 'proverb', 'poultice', 'itching', 'soda', 'scraping', 'bathe', 'soap', 'bee', 'corrosive', 'flaxseed', 'swelled', 'ounce', 'glycerine', 'afflicted', 'itch', 'steeped', 'soaked', 'defied', 'sticky', 'soak', 'bandage', 'scraped', 'soaking', 'wetting', 'brandy', 'rope', 'waist', 'inscrutable', 'unlock', 'shipper', 'wines', 'grands', 'crus', 'extenuating', 'inexhaustible', 'bargains', 'practicable', 'spoil', 'reclining', 'allowable', 'decanting', 'chilling', 'acquiring', 'bucket', 'aeration', 'sweetness', 'unattractive', 'claret', 'burgundy', 'chateau', 'sediment', 'corkscrew', 'wicker', 'dregs', 'giffen', 'humane', 'citing', 'calmly', 'perpetrated', 'gorham', 'planter', 'palfrey', 'unnamed', 'rejecting', 'freeing', 'incensed', 'assented', 'apprehensively', 'apologized', 'unborn', 'bondage', 'bribed', 'appointees', 'renoir', 'moderns', 'inveterate', 'comptroller', 'prodigy', 'walton', 'critically', 'sparring', 'dams', 'debated', 'victoria', 'gilt', 'coating', 'tenant', 'rightful', 'allegorical', 'dolley', 'sofa', 'dickey', 'disdain', 'cropped', 'ski', 'kissed', 'scooped', 'voyageurs', 'kisses', 'intercollegiate', 'freshmen', 'lounging', 'mckinley', 'chopping', 'ax', 'hanoverian', 'casting', 'factions', 'charters', 'pausing', 'log', 'hut', 'commencement', 'punch', 'penn', 'emeritus', 'thayer', 'amos', 'corral', 'conveniently', 'curbside', 'stepmother', 'borden', 'lizzie', 'inquest', 'quarreled', 'alibi', 'bridget', 'vomiting', 'unlocked', 'hatchet', 'sinister', 'hiram', 'kirby', 'cricket', 'upton', 'profited', 'observant', 'flint', 'winslow', 'recitation', 'retrograde', 'botany', 'persistently', 'chess', 'spelman', 'observatory', 'eclipses', 'packard', 'giles', 'geometry', 'horseback', 'bequests', 'rhetoric', 'hardships', 'drafting', 'occupations', 'marketable', 'statistically', 'motivation', 'relevance', 'disappears', 'vocation', 'typing', 'confidentially', 'plumber', 'soybean', 'soybeans', 'processed', 'orient', 'grits', 'flakes', 'oils', 'sorghum', 'byproducts', 'oilseeds', 'arable', 'flax', 'constituent', 'cosmetics', 'peach', 'soaps', 'explosives', 'kernel', 'detergents', 'starch', 'psyllium', 'locust', 'lumps', 'fibrous', 'stony', 'kernels', 'brazil', 'almonds', 'ornaments', 'rosaries', 'islanders', 'dill', 'beverages', 'fermented', 'alcoholic', 'strays', 'hosses', 'stampede', 'ranchers', 'potted', 'choked', 'cowhand', 'pilgrims', 'tenderfoot', 'denoted', 'stir', 'injun', 'lieu', 'resorted', 'dazed', 'hoss', 'discontinued', 'stripe', 'rustler', 'uncounted', 'cattlemen', 'synonym', 'rustle', 'circled', 'yell', 'reef', 'creepers', 'kearton', 'ulyate', 'loveless', 'reined', 'focussed', 'faintly', 'cracks', 'sounder', 'motley', 'leaning', 'blew', 'fetch', 'gallop', 'thickly', 'peering', 'lioness', 'crouched', 'whirled', 'stamping', 'ducked', 'paw', 'lashed', 'hind', 'yelled', 'crackers', 'clung', 'rhinoceros', 'noose', 'aperture', 'ropes', 'gentler', 'strung', 'bruised', 'thorn', 'maneuvered', 'gelding', 'spin', 'whining', 'tensely', 'sidewise', 'scant', 'tossing', 'proclaim', 'deficient', 'rover', 'prevails', 'worshiping', 'antithesis', 'organically', 'perspectives', 'illustrative', 'dickens', 'forgot', 'eminently', 'edifice', 'rancher', 'erecting', 'preferences', 'fords', 'fielder', 'fuzzy', 'derision', 'kidneys', 'triumphantly', 'payday', 'grocers', 'taunt', 'delinquent', 'risked', 'daddy', 'shires', 'knuckles', 'ingested', 'illicit', 'insanity', 'swan', 'prosper', 'entertainments', 'shone', 'epileptic', 'sonofabitch', 'trolley', 'unaccompanied', 'premarital', 'schema', 'diffusion', 'conceptual', 'configurations', 'unwed', 'postulated', 'erikson', 'socialization', 'adolescence', 'developmental', 'adulthood', 'polar', 'identities', 'deterministic', 'ostensible', 'groping', 'homemaker', 'deprive', 'polarization', 'superimpose', 'nuances', 'resolves', 'transcends', 'disprove', 'explicitly', 'pregnant', 'diffuse', 'attributing', 'selden', 'litigation', 'infringement', 'inventors', 'deposition', 'antiquated', 'bouts', 'retort', 'singular', 'likened', 'conceal', 'procedural', 'embraced', 'automotive', 'indiscriminate', 'depositions', 'thereto', 'litigants', 'disregard', 'conflicting', 'interchange', 'royalty', 'withholding', 'adjunct', 'retard', 'planetary', 'inventions', 'ordeal', 'blocking', 'hanch', 'debacle', 'summation', 'piazza', 'malta', 'maltese', 'laurel', 'navona', 'civilizations', 'augustus', 'modeled', 'doric', 'della', 'dei', 'mattei', 'skillfully', 'palazzo', 'frescoes', 'facade', 'staircase', 'colonnade', 'julius', 'shaded', 'baullari', 'corso', 'denoting', 'danube', 'agnese', 'raphael', 'stupendous', 'neptune', 'harlem', 'prostitutes', 'blank', 'thoughtless', 'accumulating', 'threes', 'uneasily', 'occurring', 'merest', 'uneasiness', 'callous', 'trapped', 'ghetto', 'turf', 'northerners', 'horrifying', 'northerner', 'torment', 'hideously', 'inexorable', 'diminishing', 'postscript', 'elicit', 'nineties', 'kiss', 'melies', 'registers', 'cinematic', 'griffith', 'robbers', 'posse', 'grandmother', 'pail', 'chasing', 'sequences', 'instinctively', 'condensed', 'actresses', 'phonograph', 'poorer', 'exodus', 'cluster', 'deceptive', 'stratum', 'replenish', 'collapsing', 'secondarily', 'folksy', 'recruitment', 'outreach', 'assimilated', 'antennae', 'transmutation', 'exclusiveness', 'motifs', 'polarized', 'perpetuating', 'rebuilding', 'characteristically', 'informing', 'captivity', 'engages', 'habitants', 'pelts', 'livres', 'choctaws', 'bienville', 'carolinians', 'deerskins', 'chickasaws', 'cheaply', 'cumberland', 'incited', 'termini', 'perier', 'unfriendly', 'incite', 'ineffective', 'salmon', 'displeased', 'reap', 'discretion', 'tuition', 'tantamount', 'rooney', 'confidential', 'whispers', 'threadbare', 'oath', 'inquisition', 'detached', 'senatorial', 'berated', 'barren', 'countenance', 'stale', 'tails', 'ministries', 'espionage', 'menshikov', 'handclasp', 'karamazov', 'glowered', 'vogue', 'gaily', 'wits', 'unsuitable', 'drawer', 'sheik', 'murmured', 'israeli', 'kyoto', 'masu', 'nara', 'washizu', 'nishima', 'eldest', 'reflections', 'unafraid', 'suppositions', 'unjust', 'prudence', 'demoralize', 'intolerable', 'repressed', 'complicity', 'exploitation', 'bourbons', 'puzzling', 'scornful', 'outbursts', 'friendships', 'wrecking', 'bastards', 'reconstructed', 'unreconstructed', 'tidewater', 'tory', 'meddling', 'therein', 'celtic', 'inferences', 'therefrom', 'socialistic', 'claimants', 'sovereign', 'arena', 'furthered', 'internally', 'societal', 'observable', 'standardized', 'watersheds', 'truism', 'viability', 'feudal', 'breakup', 'coincides', 'homeland', 'civilizational', 'antiquity', 'monarch', 'sovereigns', 'nebulous', 'manning', 'windowless', 'farfetched', 'tick', 'elapsed', 'consoles', 'pushers', 'restraining', 'unthinkable', 'frail', 'thinkers', 'telephones', 'circuits', 'ape', 'continual', 'wisman', 'crammed', 'screeching', 'obnoxious', 'guarded', 'fragments', 'fragment', 'squall', 'thickened', 'dangling', 'swooped', 'sucked', 'aborigine', 'ridges', 'outback', 'fugitive', 'memorize', 'bivouac', 'paws', 'patted', 'starving', 'eyelids', 'crawling', 'blink', 'crawl', 'rodent', 'wandered', 'squatted', 'stink', 'powerfully', 'blinked', 'swear', 'sweating', 'idje', 'fella', 'potters', 'glistening', 'isfahan', 'persia', 'persians', 'dirty', 'promenade', 'khaju', 'fridays', 'pavilion', 'sojourner', 'carelessly', 'orchard', 'lugged', 'mountainside', 'sniffed', 'vintage', 'boughs', 'caravan', 'upstream', 'alcoves', 'vaults', 'tunnel', 'descend', 'filmed', 'dice', 'paradoxical', 'teddy', 'marlowe', 'riverbank', 'attribute', 'inducing', 'hereafter', 'um', 'und', 'wanderings', 'recurred', 'cheerfully', 'twinkle', 'relinquished', 'prague', 'frankfurt', 'upheaval', 'kulturbund', 'palestine', 'mahler', 'bruckner', 'introduces', 'strangers', 'destinies', 'footstep', 'documentation', 'merging', 'militia', 'pamphlets', 'confederation', 'amazingly', 'moderation', 'refugee', 'schaack', 'upholding', 'whigs', 'urbanization', 'agrarian', 'unreal', 'unwanted', 'crept', 'hindered', 'blissful', 'deference', 'vanishing', 'individualized', 'keith', 'disappearance', 'aristocratic', 'languid', 'sartoris', 'snopes', 'glimmer', 'choreographer', 'environmental', 'masks', 'hoops', 'parasol', 'choreographers', 'syntax', 'contradictions', 'energies', 'attendant', 'ambiguities', 'perceptual', 'serial', 'establishes', 'intensities', 'ching', 'analytic', 'spatial', 'pollock', 'impelled', 'garth', 'mars', 'evolve', 'uninhibited', 'purposive', 'cunningham', 'chanced', 'freshness', 'excitedly', 'pirouette', 'designating', 'variables', 'approximate', 'segments', 'cheat', 'arbitrate', 'rearrange', 'transitions', 'calhoun', 'pretence', 'alloy', 'hostilities', 'constitutions', 'preambles', 'forerunner', 'delegated', 'organisms', 'molecular', 'copernicus', 'cooperatives', 'communes', 'dispel', 'reconstruct', 'amenable', 'unaware', 'solar', 'ptolemaic', 'meteor', 'suggestive', 'drunks', 'induces', 'domains', 'predictive', 'godot', 'beckett', 'permeated', 'sharpened', 'jesuit', 'hates', 'humility', 'corresponds', 'inflections', 'tweed', 'baggy', 'shirt', 'madeleine', 'buzzing', 'withstood', 'jeopardize', 'manifold', 'gestured', 'boulevard', 'flattery', 'tidings', 'knelt', 'kneel', 'ethic', 'marijuana', 'lipton', 'barbarians', 'mystique', 'beatniks', 'tame', 'pungent', 'taboo', 'leering', 'dylan', 'dialectic', 'metaphors', 'reconciled', 'psychoanalysis', 'unfettered', 'liberated', 'prophets', 'nothingness', 'curb', 'implacable', 'categorical', 'metaphysics', 'alienation', 'betrayed', 'mentality', 'undisciplined', 'negation', 'muse', 'borderline', 'disordered', 'homosexuals', 'despairing', 'null', 'concerted', 'sordid', 'venice', 'radicalism', 'enhanced', 'drugged', 'y', 'betrays', 'lilacs', 'steeples', 'quietness', 'garments', 'queer', 'shadowed', 'scent', 'cautiously', 'bees', 'ragged', 'verbenas', 'tubs', 'pots', 'blighted', 'larkspur', 'vine', 'slit', 'claws', 'pebbles', 'prettier', 'enchanted', 'spire', 'sag', 'hub', 'sleepily', 'drone', 'hitching', 'barns', 'thud', 'centrally', 'voluptuous', 'indolent', 'cunning', 'lautner', 'epithets', 'wretched', 'jacoby', 'epiphany', 'humiliation', 'modulation', 'perceives', 'emblematic', 'quivering', 'mindless', 'resonances', 'revert', 'leverkuhn', 'sufferings', 'disguise', 'catastrophes', 'churchyard', 'cyclist', 'highroad', 'praisegod', 'piepsam', 'sinfulness', 'doom', 'howls', 'bitten', 'raving', 'imitations', 'individualistic', 'humanism', 'rationalism', 'causal', 'mimesis', 'mimetic', 'plato', 'intellect', 'poetics', 'imitated', 'overtones', 'abstraction', 'conjoined', 'interrelations', 'incitement', 'immediacy', 'registering', 'rudimentary', 'constellations', 'defender', 'interrelated', 'epistemology', 'scepticism', 'derivation', 'inseparable', 'hound', 'enroll', 'loathsome', 'redemption', 'englanders', 'purified', 'transcendental', 'amidst', 'brim', 'mocked', 'isolate', 'schoolmaster', 'galaxy', 'rewarding', 'heidenstam', 'prosperous', 'scanned', 'selves', 'parthenon', 'grouped', 'revelations', 'individualism', 'acquiescence', 'provincialism', 'twined', 'idyllic', 'exalted', 'fervor', 'authors', 'glorified', 'coherent', 'pitiable', 'fortitude', 'procession', 'warriors', 'longed', 'convent', 'vasa', 'punished', 'individualist', 'entrepreneur', 'poe', 'sherlock', 'advent', 'informs', 'deductive', 'verified', 'moriarty', 'egotism', 'grappling', 'condemns', 'despised', 'dashiell', 'falcon', 'accusation', 'defiance', 'hammer', 'monitoring', 'exclamation', 'measurable', 'endeavors', 'customarily', 'completeness', 'n', 'overload', 'connective', 'configuration', 'noisy', 'dispersed', 'channeled', 'interlaced', 'fervent', 'optimum', 'mineralogy', 'diffraction', 'contrasted', 'specifies', 'progressivism', 'gabriel', 'fink', 'rousseau', 'utopians', 'indecent', 'rendezvous', 'preface', 'invoke', 'utopian', 'directives', 'pretense', 'swallowing', 'cumbersome', 'proprietorship', 'stimuli', 'proprietorships', 'accruing', 'accumulate', 'internationally', 'scare', 'radicals', 'shylock', 'hiding', 'il', 'unwise', 'hurl', 'aberrant', 'powders', 'falsity', 'worthless', 'forensic', 'martyr', 'inheritance', 'resolving', 'humbly', 'competently', 'climactic', 'transpired', 'bout', 'capacities', 'elaborated', 'ontological', 'disruptive', 'disruption', 'helplessly', 'tenuous', 'substantive', 'necessitates', 'emergence', 'unanalyzed', 'explicable', 'reversible', 'activation', 'hopelessness', 'psychoanalytic', 'oedipus', 'neurosis', 'incest', 'storyteller', 'comparisons', 'oedipal', 'madly', 'delirium', 'uncanny', 'undercurrent', 'incestuous', 'plausible', 'bloodless', 'grigorss', 'sibylla', 'fisherman', 'tablet', 'overrun', 'suitors', 'sternly', 'rigorously', 'mondrian', 'abstractionists', 'arp', 'abstracts', 'sensed', 'constructions', 'wasting', 'darkening', 'smelled', 'frieze', 'sketching', 'apparition', 'gloomy', 'stalag', 'stettin', 'plotted', 'sabotage', 'simulated', 'duclos', 'cloak', 'flemish', 'rosenberg', 'doorways', 'cigarettes', 'compson', 'jason', 'pedigree', 'notwithstanding', 'gothic', 'novelists', 'originality', 'pendleton', 'apex', 'undiminished', 'habitual', 'narratives', 'bangs', 'thorpe', 'idealized', 'humanist', 'flowered', 'autocracies', 'lyford', 'reflective', 'irritated', 'badness', 'sourly', 'insecure', 'conversational', 'speculate', 'sketched', 'ptolemy', 'observational', 'diurnal', 'nocturnal', 'contour', 'spherical', 'terrestrial', 'discrete', 'natures', 'muddy', 'ethereal', 'distinguishes', 'copernican', 'almagest', 'hypotheses', 'epicycles', 'velocities', 'resultants', 'cellular', 'lunar', 'approximated', 'revolutionibus', 'astronomical', 'sara', 'sullam', 'henrietta', 'strands', 'condemn', 'childlike', 'biographical', 'mamma', 'disciple', 'szold', 'adler', 'jastrow', 'nephew', 'rabbi', 'mustache', 'szolds', 'unwillingness', 'jo', 'sadie', 'personages', 'mischievous', 'prettiest', 'descriptions', 'olgivanna', 'miriam', 'parting', 'punish', 'taliesin', 'warrants', 'heaped', 'constable', 'weston', 'cupply', 'pane', 'generalized', 'panes', 'fused', 'mattered', 'weakly', 'taut', 'yachts', 'awaken', 'hormone', 'mute', 'antics', 'fastidious', 'marrying', 'maternal', 'regained', 'innocently', 'writ', 'sine', 'tact', 'scandalized', 'indulged', 'envelopes', 'shyly', 'segovia', 'precocious', 'pawnshop', 'eyed', 'celebrity', 'eats', 'sparse', 'banquets', 'lilian', 'luxemburg', 'magdalene', 'kneeling', 'legitimized', 'urgently', 'consonant', 'transactions', 'instrumentalities', 'mistakenly', 'astrophysics', 'scout', 'adolf', 'berle', 'advising', 'stavropoulos', 'courteously', 'hairy', 'bristled', 'glared', 'speechless', 'omissions', 'shann', 'manley', 'loathed', 'skipping', 'twinge', 'adoniram', 'calcutta', 'loaf', 'exclaiming', 'congregationalists', 'thrilled', 'bengal', 'trousers', 'chimney', 'tawny', 'chattering', 'banana', 'foreigner', 'exultation', 'whig', 'tories', 'steele', 'molesworth', 'privy', 'commons', 'convocation', 'blasphemous', 'publick', 'pretentious', 'marlborough', 'complains', 'insinuations', 'altering', 'asserts', 'defoe', 'pamphlet', 'showered', 'dunkirk', 'counteract', 'courtier', 'reviews', 'parliamentary', 'arlen', 'inconsequential', 'aptitude', 'strut', 'monacle', 'guild', 'whiteman', 'benny', 'koehler', 'allusions', 'stall', 'lavatory', 'unused', 'robbie', 'herford', 'highball', 'telegraphic', 'cossack', 'hetman', 'immobility', 'hearst', 'brisbane', 'runyon', 'baer', 'armistice', 'confide', 'shadowing', 'monkey', 'wrinkled', 'brow', 'fruitless', 'brandishing', 'coroner', 'grunted', 'blurted', 'mama', 'shawl', 'banister', 'stairway', 'wrist', 'hounds', 'smithsonian', 'fondly', 'blackberry', 'accompany', 'coolidges', 'stearns', 'lungs', 'emmett', 'horrified', 'swirled', 'perceptions', 'diversity', 'predispositions', 'fanaticism', 'anthology', 'undo', 'claimant', 'multiplicity', 'maximization', 'outcomes', 'legacy', 'adversely', 'implementing', 'punctuated', 'symposium', 'specificity', 'recurring', 'fromm', 'unreliable', 'glossary', 'differentiated', 'platonic', 'savoring', 'interpersonal', 'similarities', 'depravity', 'stoicism', 'hellenic', 'stoic', 'sonnet', 'exhibiting', 'reformation', 'romantics', 'elimination', 'dictate', 'judiciary', 'inherently', 'snapping', 'supporter', 'seduction', 'constituency', 'disgrace', 'confer', 'surreptitiously', 'despairingly', 'grinning', 'intently', 'garibaldi', 'trevelyan', 'papal', 'assessing', 'trilogy', 'venetian', 'interplay', 'dynamics', 'deserted', 'lowell', 'blenheim', 'savoy', 'reread', 'expectant', 'kehl', 'rhine', 'strasbourg', 'waspish', 'bicycle', 'barricade', 'mustached', 'thanking', 'andre', 'alsatian', 'brigade', 'governess', 'chill', 'scouring', 'kettle', 'talkative', 'patter', 'pallid', 'babel', 'hug', 'broadside', 'streaming', 'surrendered', 'fourteenth', 'sundown', 'deployed', 'whistled', 'heroism', 'annals', 'booby', 'traps', 'armored', 'coordinates', 'whistle', 'pits', 'meynell', 'katie', 'maggie', 'kindness', 'protestations', 'opium', 'laudanum', 'rationed', 'stoop', 'laurence', 'diction', 'bug', 'potemkin', 'littlepage', 'brows', 'procure', 'parisian', 'serenissimus', 'sapped', 'comb', 'divan', 'trance', 'monsters', 'suvorov', 'stooping', 'slept', 'crowing', 'cock', 'whiskers', 'cossacks', 'demographic', 'donned', 'tribal', 'ornamented', 'mando', 'sheaf', 'acropolis', 'curving', 'headless', 'torsos', 'uh', 'huh', 'athens', 'shattering', 'skirts', 'aegean', 'athenians', 'moonlight', 'sounion', 'inlets', 'ruins', 'nectar', 'thirst', 'dined', 'trays', 'morsel', 'winced', 'irritating', 'woodruff', 'wearily', 'crittenden', 'entitle', 'gadfly', 'assassin', 'vale', 'mules', 'fe', 'slanderer', 'gruff', 'compiling', 'printer', 'airs', 'gorton', 'prodigious', 'rawson', 'plymouth', 'pocasset', 'dispensation', 'magistrates', 'asses', 'unclean', 'foul', 'pawtuxet', 'shawomet', 'blasphemy', 'chaplain', 'elated', 'hemorrhage', 'transfusions', 'bequest', 'exceeded', 'julia', 'postponing', 'explanatory', 'revise', 'severed', 'sacredness', 'infliction', 'streamed', 'newt', 'sorted', 'einstein', 'gosson', 'discusses', 'fiber', 'ion', 'puritans', 'milieu', 'aspire', 'carriage', 'suppression', 'conformist', 'converge', 'sampling', 'conformists', 'religiously', 'whitemarsh', 'riflemen', 'evacuated', 'redcoats', 'howe', 'rabbits', 'peters', 'periphery', 'intercept', 'thankful', 'gascony', 'web', 'failures', 'boniface', 'pronouncement', 'abeyance', 'sicily', 'triangle', 'arbiter', 'curia', 'othon', 'diligence', 'vous', 'unaided', 'disadvantage', 'amadee', 'staunch', 'swarthy', 'est', 'nasty', 'florentine', 'dyed', 'cursory', 'alpert', 'lew', 'fleischmanns', 'tessie', 'rocker', 'meltzer', 'sobs', 'jug', 'talmud', 'lilly', 'apology', 'hips', 'childishness', 'archaeological', 'germanic', 'kemble', 'saxons', 'saxon', 'bede', 'veracity', 'hodgkin', 'lappenberg', 'retreated', 'invasions', 'extinction', 'reigning', 'seebohm', 'sceptical', 'tack', 'infiltration', 'ranking', 'ditch', 'fosdick', 'ctca', 'venereal', 'cribs', 'ascertained', 'vociferous', 'transcending', 'hugo', 'aeschylus', 'euripides', 'macbeth', 'quarry', 'lear', 'voltaire', 'encompassed', 'shakespearean', 'damnation', 'haunted', 'melodrama', 'vaulting', 'immaculate', 'retribution', 'blake', 'goethe', 'streaks', 'wager', 'faust', 'quiney', 'greville', 'bailiff', 'bushell', 'stratford', 'elinor', 'fulke', 'sturley', 'prosecuting', 'paie', 'estates', 'exchequer', 'monei', 'procured', 'corne', 'lordship', 'allusion', 'scrivener', 'yow', 'ther', 'apron', 'mee', 'uppon', 'hande', 'bancroft', 'coke', 'colde', 'hys', 'shuld', 'methodological', 'trustworthy', 'dispatches', 'generalization', 'embodying', 'mundane', 'unseen', 'motivating', 'caste', 'farmhouse', 'adventurous', 'howling', 'peru', 'dorado', 'broun', 'sedgwick', 'trastevere', 'bookshelves', 'patronized', 'uncharted', 'mencken', 'gantry', 'drunkards', 'breasted', 'birkhead', 'blackman', 'indisposed', 'snobbery', 'pajamas', 'smoking', 'incepting', 'bachelors', 'ordo', 'matriculated', 'deacon', 'artfully', 'prolusions', 'resided', 'fencing', 'prolusion', 'banter', 'hypothetical', 'dystopias', 'overlords', 'dystopian', 'robots', 'folded', 'behavioral', 'courtenay', 'defiant', 'fooling', 'goddess', 'discontinuous', 'skepticism', 'spencer', 'malraux', 'altenburg', 'modesty', 'catalyst', 'furor', 'piercing', 'radiance', 'bewildered', 'fresco', 'pasha', 'embracing', 'sunk', 'advocated', 'fearfully', 'hesitant', 'insularity', 'overhaul', 'apocalyptic', 'rexroth', 'tristano', 'patchen', 'musically', 'hunted', 'odious', 'budd', 'gillespie', 'bop', 'marsh', 'chants', 'juxtaposition', 'aberration', 'disconnected', 'krim', 'duck', 'typicality', 'yiddish', 'ghettos', 'crazily', 'approximations', 'disfigured', 'booth', 'sociology', 'dozed', 'bullshit', 'lauro', 'bosis', 'ghosts', 'berto', 'rimanelli', 'busts', 'shivered', 'diapers', 'quitting', 'swam', 'banging', 'sba', 'diversification', 'identifying', 'directory', 'repayment', 'eligibility', 'nonexistent', 'administer', 'conditional', 'surveying', 'incentives', 'mobilizing', 'nationals', 'favoritism', 'focusing', 'commence', 'twofold', 'appraise', 'stabilizing', 'neglecting', 'shoals', 'analyses', 'effecting', 'assigns', 'itemized', 'audit', 'garages', 'refine', 'situs', 'abode', 'middletown', 'questionnaire', 'specifying', 'resides', 'summarize', 'expansions', 'leesona', 'cobb', 'mailings', 'calendars', 'installment', 'payable', 'woonsocket', 'plantations', 'whereof', 'hereunto', 'pursuant', 'jaycees', 'sally', 'consumptive', 'saline', 'brackish', 'subsections', 'correlate', 'subsection', 'expiration', 'nonmetallic', 'lignite', 'ores', 'centum', 'pathology', 'histochemistry', 'morphological', 'biochemical', 'mammalian', 'demonstrations', 'loaned', 'fascicles', 'registries', 'consequent', 'atmospheres', 'microseconds', 'calibration', 'voltage', 'shutter', 'input', 'interstellar', 'spectra', 'cm', 'extraterrestrial', 'ions', 'hydrides', 'spectroscopy', 'paramagnetic', 'spectral', 'thermometry', 'helium', 'germanium', 'resistors', 'interferometer', 'millidegrees', 'thermometers', 'reproducible', 'millidegree', 'deviations', 'resistor', 'gradients', 'bulb', 'diaphragm', 'concave', 'dissociation', 'coefficient', 'straddling', 'integrals', 'viscosity', 'conductivity', 'coefficients', 'nbs', 'interactions', 'indexing', 'profiles', 'plasma', 'imprisoned', 'notify', 'yugoslav', 'hereinafter', 'accrued', 'consented', 'adjudication', 'commuter', 'terminal', 'users', 'sulzberger', 'oakes', 'ports', 'backlog', 'authorizations', 'allotments', 'excludes', 'unadjusted', 'shielding', 'hollow', 'vents', 'appendix', 'checklist', 'rehearsals', 'maximizing', 'restraints', 'decrees', 'amici', 'curiae', 'divestiture', 'christiana', 'allocable', 'preferential', 'rankin', 'gonzales', 'pioneering', 'memorandum', 'registrant', 'supra', 'bureaucratic', 'bureaucracies', 'spoiled', 'dimly', 'desks', 'currencies', 'vegetation', 'sawtimber', 'infestations', 'timberlands', 'proficiency', 'needing', 'forage', 'inholdings', 'strengths', 'decreases', 'bidding', 'regulus', 'jupiter', 'rupees', 'rupee', 'undertakings', 'receipt', 'radiated', 'cochannel', 'objectionable', 'nighttime', 'skywave', 'ionized', 'ionosphere', 'groundwave', 'radiations', 'variability', 'refund', 'nonresident', 'aliens', 'overpayment', 'deduct', 'constancy', 'astride', 'cryptic', 'gibbs', 'turret', 'trademark', 'grinders', 'cylindrical', 'unifil', 'winder', 'uniconer', 'yarns', 'apparel', 'moos', 'carleton', 'glee', 'soccer', 'algol', 'totalled', 'retailing', 'devey', 'rectifier', 'sprague', 'digital', 'summon', 'emission', 'saturn', 'reflectors', 'piddington', 'minnett', 'mccullough', 'sloanaker', 'reflector', 'linearly', 'mm', 'q', 'lobe', 'graphite', 'anode', 'transpiring', 'argon', 'amp', 'fluxes', 'electrode', 'arcs', 'generators', 'cathode', 'kinetic', 'sheath', 'voltages', 'feedback', 'transpiration', 'schematic', 'tungsten', 'thermocouple', 'pyrometer', 'thermocouples', 'v', 'parameters', 'decreased', 'graph', 'manometer', 'viscoelastic', 'geometric', 'elasticity', 'parameter', 'molten', 'gravitational', 'osmotic', 'solids', 'birefringence', 'deformation', 'droplets', 'ellipsoids', 'radii', 'curvature', 'interfacial', 'ab', 'entropy', 'polycrystalline', 'dipole', 'isotropic', 'nuclei', 'unpaired', 'chromium', 'symmetric', 'douglass', 'cr', 'oxygens', 'piezoelectric', 'decomposition', 'aqueous', 'ml', 'occluded', 'impurities', 'crystallites', 'adsorbed', 'capillary', 'polyphosphates', 'actives', 'dwindling', 'substrate', 'reactivity', 'soiled', 'swatches', 'redeposition', 'inorganic', 'particulate', 'greasy', 'uncharged', 'greases', 'sorbed', 'loosen', 'float', 'micelles', 'anionic', 'polymerization', 'agglomeration', 'micelle', 'hydrocarbon', 'oleophilic', 'detergency', 'interfaces', 'photochemical', 'quantum', 'reagents', 'tetrachloride', 'proportional', 'pyrex', 'radiochlorine', 'flask', 'alkali', 'reactants', 'sealing', 'iodide', 'fillings', 'mixtures', 'inversely', 'retardation', 'diminish', 'micrometeorites', 'interplanetary', 'meteoritic', 'impacts', 'micrometeorite', 'sensors', 'meteors', 'cores', 'probes', 'eta', 'intersect', 'inverse', 'sensor', 'meteorite', 'extrapolation', 'microns', 'meteorites', 'intentional', 'toxic', 'bw', 'incubation', 'aerosols', 'aerosolized', 'bronchi', 'alveolar', 'alveoli', 'aerosol', 'optimal', 'inert', 'dosage', 'dosages', 'portal', 'ulcer', 'typhus', 'antibodies', 'fractionation', 'electrophoresis', 'ultracentrifugation', 'chromatography', 'stepwise', 'elution', 'fractionated', 'sera', 'abo', 'rh', 'serum', 'donors', 'antibody', 'titer', 'titers', 'albumin', 'homozygous', 'agglutination', 'centrifuged', 'min', 'hr', 'resuspended', 'dialyzed', 'dialysis', 'isotonic', 'spinco', 'chromatographic', 'unstained', 'pm', 'ultracentrifuge', 'preparative', 'agglutinin', 'bumblebees', 'pussy', 'willow', 'catkins', 'blooms', 'honeybees', 'beebread', 'bombus', 'woke', 'woolly', 'larvae', 'hatch', 'broods', 'fertilized', 'psithyrus', 'andrenas', 'andrena', 'snakes', 'rattlesnakes', 'maximal', 'reticulate', 'python', 'boa', 'constrictor', 'amethystine', 'rattlesnake', 'hoop', 'anacondas', 'ounces', 'emaciated', 'subspecies', 'bronchus', 'pulmonary', 'supportive', 'septa', 'hilum', 'distal', 'bronchiole', 'pleura', 'bronchial', 'pleural', 'hilar', 'bronchioles', 'anastomoses', 'interlobular', 'vascular', 'mammals', 'parenchyma', 'pathways', 'arteriolar', 'emphysema', 'tissues', 'nakamura', 'antagonist', 'shunts', 'inferred', 'transverse', 'onsets', 'modal', 'skeletal', 'denotes', 'elbow', 'arrows', 'ossification', 'epiphysis', 'menarche', 'pubescent', 'crosses', 'potassium', 'organification', 'iodine', 'thyroglobulin', 'vitro', 'tyrosine', 'vivo', 'iodinating', 'thyroxine', 'enzymatic', 'secretion', 'proteases', 'antithyroid', 'thiouracil', 'inhibit', 'goitre', 'tsh', 'uptake', 'solvents', 'acetone', 'alternatively', 'usp', 'mg', 'disabling', 'anemia', 'marrow', 'fibrosis', 'prednisone', 'myocardial', 'hemoglobin', 'triamcinolone', 'pelvic', 'atrophy', 'gastrocnemius', 'intensify', 'vertebral', 'microscopically', 'necrosis', 'neutrophils', 'visceral', 'mottled', 'cord', 'cytoplasm', 'mucosa', 'atrophic', 'jejunum', 'granular', 'cortical', 'biceps', 'clumps', 'conjugates', 'staining', 'coons', 'clover', 'gall', 'conjugate', 'ethyl', 'pbs', 'wtv', 'buffered', 'conjugated', 'antiserum', 'fluorescence', 'nonspecific', 'pseudophloem', 'dilution', 'ns', 'antigen', 'rinsing', 'distinguishable', 'fitc', 'globulin', 'autofluorescence', 'xylem', 'cortex', 'nonspecifically', 'discharges', 'neocortex', 'hypothalamic', 'convulsive', 'excitability', 'wakefulness', 'parasympathetic', 'autonomic', 'depressions', 'excitatory', 'mecholyl', 'nausea', 'tuning', 'neuroses', 'disturbances', 'theorem', 'vectors', 'polynomial', 'monic', 'polynomials', 'algebraically', 'diagonalizable', 'subspace', 'vector', 'invariant', 'divisible', 'divides', 'corollary', 'notation', 'nilpotent', 'integer', 'commute', 'differentiable', 'satisfies', 'binomial', 'repetitions', 'marksman', 'litters', 'aces', 'inscribed', 'cubes', 'vertex', 'diagonal', 'intersections', 'tangent', 'lemma', 'monotone', 'involutions', 'involutorial', 'nonsingular', 'quadric', 'involution', 'secants', 'congruence', 'tangents', 'tangency', 'pencils', 'secant', 'dearly', 'pertains', 'equate', 'democratize', 'reassured', 'recurrent', 'consolation', 'colossal', 'unifies', 'durkheim', 'attaching', 'rites', 'helplessness', 'johnnie', 'referral', 'regression', 'casework', 'averted', 'brandywine', 'loomis', 'illegitimate', 'subsystems', 'subgroups', 'systemic', 'linkage', 'deviant', 'endogamy', 'intergroup', 'aimo', 'clipped', 'jure', 'demography', 'irsac', 'censuses', 'hindsight', 'auditors', 'pregnancy', 'kohnstamm', 'suggestibility', 'involuntary', 'nonreactivity', 'relinquishing', 'constriction', 'socioeconomic', 'unstructured', 'compulsivity', 'descriptive', 'compulsives', 'roleplaying', 'questionnaires', 'suitcase', 'antagonists', 'receptionist', 'introject', 'hebephrenic', 'cheeks', 'granny', 'schizophrenic', 'infuriated', 'uncomfortably', 'nonverbal', 'inflected', 'grammatical', 'semantic', 'lookup', 'storing', 'modifying', 'inflection', 'endings', 'summarizing', 'syllables', 'prepositional', 'unstressed', 'pronoun', 'modifier', 'insulting', 'italics', 'declarative', 'consonantal', 'consonants', 'vowel', 'rhyme', 'vowels', 'phonologic', 'phonology', 'intonation', 'murmur', 'phonemic', 'morphophonemic', 'morphophonemics', 'orthography', 'kikuyu', 'orthographic', 'igbo', 'prosodic', 'unnecessarily', 'athabascan', 'yokuts', 'glottochronological', 'swadesh', 'hoijer', 'vulture', 'adjectives', 'verbs', 'verb', 'adjectival', 'lexicostatistics', 'millennia', 'plodding', 'oder', 'lublin', 'corridor', 'merged', 'aberrations', 'istiqlal', 'feasibility', 'moroccan', 'balafrej', 'ibrahim', 'maneuvering', 'pierced', 'demonstrable', 'indices', 'ceaseless', 'loadings', 'fatter', 'movers', 'unsold', 'amortization', 'abstracting', 'gnp', 'gouging', 'presumption', 'hegelian', 'jurisprudence', 'codification', 'positivism', 'injunction', 'fooled', 'disorderly', 'transferor', 'seaboard', 'complying', 'respondents', 'respondent', 'aerospace', 'aia', 'tr', 'airmail', 'awoc', 'referrals', 'maladjusted', 'maladjustment', 'plaintiff', 'apportionment', 'unallocable', 'carload', 'subtype', 'behaviour', 'perilously', 'positivists', 'positivist', 'frivolous', 'distort', 'unfitting', 'tactual', 'decidedly', 'kinesthetic', 'jumbled', 'homeric', 'hexameter', 'protogeometric', 'vase', 'sharper', 'iliad', 'abruptly', 'slanting', 'dipylon', 'catskill', 'martinez', 'mexicans', 'pels', 'suspense', 'vermejo', 'arroyo', 'noticing', 'dismounted', 'macpherson', 'pedro', 'laramie', 'depredations', 'manuel', 'whereabouts', 'chavez', 'barney', 'raton', 'horsemen', 'battenkill', 'bonnet', 'burton', 'telegrapher', 'orvis', 'drugstore', 'dime', 'dorset', 'gusts', 'barnumville', 'blackmer', 'marsden', 'vail', 'warrior', 'shreds', 'dorr', 'foss', 'trafton', 'barstow', 'cubist', 'typography', 'braque', 'wallpaper', 'simulate', 'collage', 'cubism', 'undepicted', 'flatness', 'grape', 'transforms', 'literalness', 'abstracted', 'intertwined', 'ya', 'brumidi', 'costaggini', 'roughcast', 'slaked', 'scaffolding', 'secco', 'awhile', 'oxide', 'mutilated', 'kitty', 'hawk', 'mopped', 'pozzatti', 'presume', 'shred', 'boris', 'lifelike', 'mussorgsky', 'monologue', 'phrasing', 'pimen', 'varlaam', 'missail', 'rangoni', 'verdi', 'coldness', 'gasping', 'mityukh', 'wail', 'exit', 'satires', 'dynasts', 'worrying', 'rapture', 'fascinate', 'saxophone', 'confabulation', 'valery', 'gertrude', 'soles', 'tiepolo', 'expressionism', 'bard', 'odyssey', 'beowulf', 'formulaic', 'intoned', 'kennings', 'synonyms', 'nouns', 'cynewulf', 'forefinger', 'greed', 'frantically', 'nemesis', 'pip', 'hulks', 'mending', 'orlick', 'shouts', 'estella', 'cruelly', 'havisham', 'spasm', 'equ', 'autocoder', 'operand', 'coding', 'compiler', 'processor', 'dc', 'drdw', 'dline', 'diocs', 'duf', 'dtf', 'rdws', 'programmer', 'iocsixf', 'iocsixg', 'ponds', 'bod', 'effluent', 'aerator', 'aerated', 'lagoon', 'septic', 'nitrate', 'algae', 'ft', 'sludge', 'rotor', 'protozoa', 'floc', 'ciliated', 'stalked', 'antisubmarine', 'asw', 'metabolite', 'hydrolysis', 'sloane', 'arylesterase', 'collagen', 'viscoelasticity', 'tektites', 'gallium', 'solvent', 'elongation', 'flory', 'hoeve', 'polymers', 'crystals', 'chemische', 'krystallographie', 'criticality', 'crystallographic', 'groth', 'cury', 'donnay', 'alloys', 'ionizing', 'irradiation', 'palatability', 'sterilization', 'blanching', 'mrad', 'radiosterilization', 'radiopasteurization', 'irradiated', 'accelerators', 'nuclide', 'kwhr', 'mutton', 'accelerator', 'hesiometer', 'substrates', 'peeling', 'interface', 'schematically', 'rupture', 'foamed', 'urethane', 'polypropylene', 'foams', 'garment', 'polyether', 'prepolymer', 'foaming', 'flexural', 'tensile', 'pumped', 'suds', 'draining', 'knitted', 'laundry', 'restorability', 'tumble', 'dryer', 'restorative', 'presser', 'warp', 'perforated', 'template', 'refill', 'cascading', 'intensifier', 'intensifiers', 'interstage', 'coupler', 'couplers', 'phosphor', 'impinge', 'cathodoluminescent', 'photocathode', 'fresnel', 'maximizes', 'magnifying', 'fluorescent', 'specification', 'optimality', 'gyros', 'leveling', 'transient', 'torque', 'gyro', 'torquers', 'accelerometer', 'torquer', 'servo', 'accelerometers', 'amplifier', 'manually', 'inconvenient', 'inertial', 'darkened', 'autocollimator', 'pickoff', 'scotty', 'lipstick', 'plumpness', 'stiffly', 'sprawling', 'jumping', 'bathrobe', 'biscuits', 'kate', 'bandaged', 'throbbed', 'teasing', 'absently', 'frowning', 'phoned', 'throbbing', 'scarf', 'prevot', 'mercifully', 'sighing', 'unsung', 'leered', 'sweaty', 'blackness', 'sneaked', 'crouch', 'mickie', 'jeff', 'bastard', 'trig', 'devilish', 'snaked', 'lunged', 'dalloway', 'dainty', 'rosebuds', 'boxell', 'chandelier', 'chris', 'damn', 'handkerchief', 'catt', 'spotless', 'soared', 'dives', 'payne', 'herold', 'seward', 'errand', 'rang', 'nigger', 'gleamed', 'bothering', 'yelling', 'sleepy', 'keene', 'faltered', 'balustrade', 'dingy', 'stevie', 'limp', 'clutched', 'winked', 'bong', 'bulged', 'trembled', 'yanked', 'steeple', 'reformed', 'taller', 'neversink', 'illumined', 'violet', 'ludie', 'hateful', 'peaked', 'shuddered', 'industrious', 'screeched', 'chewed', 'swaggered', 'grownups', 'ruffled', 'crummy', 'fucken', 'niggers', 'nothin', 'chuckled', 'goddamn', 'brandon', 'ol', 'slater', 'thinkin', 'em', 'humming', 'comin', 'fuck', 'patting', 'unleashed', 'hafta', 'stroked', 'dumped', 'coughlin', 'snuggled', 'bandits', 'slovenly', 'dashing', 'redcoat', 'musket', 'punctured', 'bayonets', 'plucked', 'jake', 'camaret', 'smirk', 'favre', 'trudged', 'slapped', 'neared', 'pigeon', 'blinking', 'hearth', 'caroli', 'bern', 'outskirts', 'heaved', 'snarling', 'bristling', 'dripped', 'improvised', 'hardtack', 'drizzle', 'purdew', 'exchanging', 'freckles', 'snoring', 'poncho', 'mollie', 'jed', 'dusk', 'greatcoat', 'undershirt', 'mose', 'ole', 'yeah', 'giggled', 'crumbled', 'mumbled', 'fritzie', 'wanna', 'shoved', 'muttering', 'andrus', 'gasped', 'mcfeeley', 'moll', 'selena', 'redder', 'skopas', 'hoarse', 'shuffling', 'kahler', 'icebox', 'creaked', 'lathered', 'mme', 'redoute', 'pillows', 'sneakers', 'probed', 'stalls', 'argiento', 'melzi', 'skullcap', 'galli', 'scoured', 'jerking', 'gasps', 'twitched', 'convulsively', 'juanita', 'tussle', 'bewilderment', 'shriveled', 'randolph', 'fathom', 'hush', 'winking', 'drunkenly', 'schoolroom', 'sired', 'git', 'flushed', 'lattimer', 'scented', 'mynheer', 'cortlandt', 'saddlebags', 'feathered', 'groin', 'shied', 'nostrils', 'rooster', 'hook', 'clam', 'nested', 'ached', 'peg', 'lather', 'andrei', 'brandel', 'ideologies', 'ulanys', 'styka', 'globocnik', 'funk', 'spouted', 'majdanek', 'androfski', 'grabski', 'goddam', 'thelma', 'hummed', 'understandingly', 'smelt', 'lotion', 'kitchenette', 'overcoat', 'parted', 'skull', 'curly', 'bubbling', 'sposato', 'gouged', 'kayabashi', 'hino', 'joyous', 'oyabun', 'manservant', 'goose', 'ariadne', 'striped', 'alastor', 'resentful', 'beckworth', 'impatiently', 'folding', 'bombproof', 'lump', 'rotting', 'clutching', 'groped', 'belched', 'snorted', 'skiffs', 'frayed', 'shrilly', 'skiff', 'sickened', 'spat', 'beech', 'pastern', 'zenith', 'hepatitis', 'flannagans', 'hallway', 'flannagan', 'stockings', 'izaak', 'myra', 'glare', 'angelina', 'suspiciously', 'jessica', 'hugging', 'seaweed', 'starbird', 'mast', 'pedersen', 'cough', 'crib', 'froze', 'dammit', 'busted', 'insides', 'shovel', 'poked', 'flopped', 'stowey', 'sill', 'stool', 'eyebrows', 'rustling', 'crook', 'albright', 'linda', 'ada', 'thirsty', 'blushed', 'gosh', 'blushing', 'darn', 'retorted', 'chick', 'scrawled', 'knocking', 'patronne', 'cackled', 'chambermaid', 'cradled', 'ejaculated', 'coughing', 'drown', 'fille', 'leona', 'fuss', 'lavender', 'unbearable', 'kissing', 'brennan', 'homicide', 'psychopathic', 'bellboy', 'bartender', 'batteries', 'beep', 'bugging', 'beeps', 'microphone', 'slacks', 'roberta', 'spilled', 'lauren', 'dialed', 'vince', 'twitch', 'grosse', 'guardino', 'landis', 'jowls', 'graying', 'acey', 'jarrodsville', 'foolishly', 'growled', 'splashed', 'lurched', 'rourke', 'alvarez', 'shayne', 'felice', 'peralta', 'faintest', 'geely', 'perrin', 'groaned', 'cognac', 'dived', 'holster', 'mailboxes', 'forearm', 'sagged', 'ducking', 'dryly', 'lisa', 'courthouse', 'azaleas', 'tracking', 'ferrell', 'hirey', 'grille', 'skyros', 'angie', 'spades', 'katya', 'katharine', 'handbag', 'propped', 'kittens', 'lolotte', 'emile', 'maude', 'storehouse', 'lucien', 'swished', 'honotassa', 'glendora', 'rev', 'lamplight', 'gilborn', 'kitti', 'lain', 'stupor', 'fingerprint', 'swooping', 'cinch', 'sobered', 'freak', 'flannel', 'gibby', 'pompous', 'chortled', 'fingerprints', 'prancing', 'grubb', 'dozing', 'paxton', 'bouquet', 'shirl', 'skolman', 'bonner', 'louse', 'plowed', 'clapping', 'clapped', 'shouldered', 'dully', 'holden', 'overalls', 'mae', 'squinting', 'scheming', 'darted', 'overnighters', 'willings', 'lab', 'weigand', 'mullins', 'siamese', 'stilts', 'dinnertime', 'madden', 'meeker', 'medfield', 'brian', 'hohlbein', 'harbored', 'hoag', 'leigh', 'midge', 'mahzeer', 'fuzz', 'docherty', 'muller', 'fumbled', 'killpath', 'orville', 'raked', 'bitch', 'matson', 'keeper', 'accacia', 'showers', 'squinted', 'needham', 'calenda', 'throttle', 'shin', 'cobra', 'nellie', 'jaguar', 'slick', 'plumb', 'beauclerk', 'alec', 'unoccupied', 'drawled', 'metronome', 'mciver', 'handley', 'dogtown', 'boulders', 'anta', 'freya', 'norberg', 'curt', 'glowering', 'crests', 'haney', 'lolly', 'grievance', 'scowled', 'radic', 'soundly', 'grok', 'grokked', 'archangel', 'digby', 'martian', 'jubal', 'grokking', 'speeded', 'martians', 'nests', 'homesick', 'monitor', 'vs', 'macneff', 'sandalphon', 'pornsen', 'gapt', 'sigmen', 'yarrow', 'ozagen', 'siddo', 'earthmen', 'hesperus', 'thrashed', 'zigzagging', 'roiling', 'langer', 'fuses', 'ekstrohm', 'nogol', 'critters', 'intimacy', 'insomnia', 'flipped', 'helva', 'neural', 'babes', 'scooted', 'diverted', 'rammed', 'dromozoa', 'shayol', 'hoarsely', 'dipper', 'buckets', 'goin', 'murmuring', 'fiercely', 'stallion', 'tightened', 'veranda', 'purvis', 'hoofs', 'holstered', 'fiske', 'mclish', 'montero', 'oso', 'aricaras', 'bale', 'quirt', 'slam', 'pans', 'belied', 'flicked', 'vaudeville', 'barton', 'soothing', 'kruger', 'faro', 'hague', 'kodyke', 'melissa', 'caressed', 'bled', 'miraculously', 'pursed', 'figger', 'derrick', 'mcbride', 'flailing', 'donna', 'brannon', 'maguire', 'conchita', 'elena', 'tomas', 'hernandez', 'rockfork', 'puncher', 'jesse', 'macklin', 'tracked', 'settler', 'homesteaders', 'brenner', 'buckskin', 'jess', 'snort', 'arbuckle', 'burnsides', 'nate', 'matilda', 'hez', 'gran', 'dell', 'unison', 'carmer', 'gyp', 'bronc', 'antler', 'mused', 'sweeney', 'greg', 'todman', 'donovan', 'sweeneys', 'japs', 'giggles', 'herry', 'duffel', 'roebuck', 'onleh', 'sante', 'hevin', 'aw', 'amber', 'loosened', 'zing', 'rawlins', 'nicolas', 'manas', 'tanned', 'dew', 'grafin', 'glisten', 'steinhager', 'hettie', 'miserably', 'sour', 'wiggled', 'trunk', 'lifeboat', 'brassnose', 'sommers', 'bleached', 'bailing', 'whitened', 'manu', 'eromonga', 'griggs', 'frayne', 'tultul', 'outrigger', 'songau', 'rung', 'moons', 'karipo', 'ramey', 'raf', 'peacocks', 'schaffner', 'artie', 'commodore', 'matsuo', 'superiors', 'bobbing', 'rummaging', 'tilghman', 'petrie', 'doolin', 'clasped', 'passionately', 'langford', 'delphine', 'lalaurie', 'nymphomaniac', 'gaped', 'prieur', 'devol', 'coachman', 'perdido', 'feathertop', 'cheekbones', 'cappy', 'crap', 'boxcar', 'forked', 'pompeii', 'bowing', 'eugenia', 'evadna', 'mouthful', 'laban', 'tolley', 'robards', 'kizzie', 'quinzaine', 'dunne', 'gunny', 'triplets', 'kiz', 'doaty', 'adelia', 'blackwell', 'rosa', 'momoyama', 'sunburn', 'diego', 'yokosuka', 'murdering', 'sparky', 'hurrays', 'gansevoort', 'heiser', 'handspikes', 'paot', 'rapping', 'reuveni', 'gratt', 'shafer', 'underwear', 'mckenzie', 'monmouth', 'askington', 'dolly', 'harvie', 'outcry', 'uhhu', 'ferraros', 'signora', 'walitzee', 'rawlings', 'bandages', 'nervously', 'cowbirds', 'quint', 'quintus', 'sabella', 'bobbie', 'edythe', 'mousie', 'longue', 'steels', 'lovejoy', 'nadine', 'francie', 'thom', 'gladdy', 'fairview', 'groggins', 'jour', 'theresa', 'stubblefield', 'stubblefields', 'elec', 'carraway', 'tuxapoka', 'alligator', 'alma', 'vivian', 'peony', 'rossoff', 'deegan', 'dugout', 'ballplayers', 'ricco', 'acala', 'biwa', 'ryusenji', 'fudomae', 'fudo', 'furrow', 'cady', 'hanford', 'partlow', 'anthea', 'freddy', 'gerry', 'willis', 'herberet', 'allstates', 'hamrick', 'richert', 'ticonderoga', 'barco', 'welch', 'viola', 'jennie', 'catatonia', 'grazie', 'pioneers', 'kafka', 'poitrine', 'letch', 'bookies', 'feeley', 'cabrini', 'pegboard', 'workbench', 'crombie', 'crumb', 'blatz', 'saleslady', 'moreland', 'radish', 'gorboduc', 'neitzbohr', 'alicia', 'quasimodo']\n"
     ]
    }
   ],
   "source": [
    "words_mentioned = []\n",
    "fdist = FreqDist(w.lower() for w in brown.words() if w.isalpha())\n",
    "for word in fdist:\n",
    "    if fdist[word] >= 3:\n",
    "        words_mentioned.append(word)\n",
    "print(words_mentioned)"
   ]
  },
  {
   "cell_type": "raw",
   "metadata": {},
   "source": [
    "16. Write a table to generate a table of lexical diversity scores(i.e. token/type ratios). as we saw in 1.1 include the full set as Brown Corpus genres(nltk.corpus.brown.categories()). which genre has the lowest diversity (greatest number of tokens per type)? is this what you would have expected.?                                               "
   ]
  },
  {
   "cell_type": "code",
   "execution_count": 54,
   "metadata": {},
   "outputs": [
    {
     "name": "stdout",
     "output_type": "stream",
     "text": [
      "adventure 0.1279743878169075\n",
      "belles_lettres 0.10642071451679992\n",
      "editorial 0.16054152327770924\n",
      "fiction 0.1358194136199042\n",
      "government 0.11667641228232811\n",
      "hobbies 0.14493897625842492\n",
      "humor 0.23125144042406084\n",
      "learned 0.09268890745953554\n",
      "lore 0.13148804612915801\n",
      "mystery 0.12212912592488936\n",
      "news 0.14314696580941583\n",
      "religion 0.1617553745018909\n",
      "reviews 0.21192020440251572\n",
      "romance 0.12070492131044529\n",
      "science_fiction 0.22342778161713892\n"
     ]
    }
   ],
   "source": [
    "for category in brown.categories():\n",
    "    tokens = len(brown.words(categories=category))\n",
    "    types = len(set(brown.words(categories=category)))\n",
    "    lex_div = types / tokens\n",
    "    print(category, lex_div)"
   ]
  },
  {
   "cell_type": "raw",
   "metadata": {},
   "source": [
    "# learned has the lowest diversity."
   ]
  },
  {
   "cell_type": "raw",
   "metadata": {},
   "source": [
    "17. Write a function that finds the 50 most frequently occurring words of a text that are not stopwords."
   ]
  },
  {
   "cell_type": "code",
   "execution_count": 55,
   "metadata": {},
   "outputs": [],
   "source": [
    "from nltk.corpus import stopwords"
   ]
  },
  {
   "cell_type": "code",
   "execution_count": 56,
   "metadata": {},
   "outputs": [],
   "source": [
    "def find_50_most_frequent_words(text):\n",
    "    fdist = FreqDist(w.lower() for w in text if w.isalpha() and w.lower() not in stopwords.words('english'))\n",
    "    return fdist.most_common(50)"
   ]
  },
  {
   "cell_type": "code",
   "execution_count": 57,
   "metadata": {},
   "outputs": [
    {
     "name": "stdout",
     "output_type": "stream",
     "text": [
      "[('elinor', 685), ('could', 578), ('marianne', 566), ('mrs', 530), ('would', 515), ('said', 397), ('every', 377), ('one', 331), ('much', 290), ('must', 283), ('sister', 282), ('edward', 263), ('mother', 258), ('dashwood', 252), ('well', 240), ('time', 239), ('know', 232), ('jennings', 230), ('though', 216), ('willoughby', 216), ('might', 215), ('think', 210), ('miss', 210), ('nothing', 189), ('never', 189), ('lucy', 186), ('thing', 185), ('soon', 181), ('mr', 178), ('good', 177), ('colonel', 176), ('may', 175), ('without', 174), ('see', 173), ('ever', 169), ('john', 164), ('house', 161), ('first', 160), ('little', 160), ('say', 160), ('however', 155), ('two', 153), ('day', 150), ('great', 149), ('brandon', 144), ('lady', 142), ('make', 140), ('made', 138), ('sure', 136), ('ferrars', 130)]\n"
     ]
    }
   ],
   "source": [
    "print(find_50_most_frequent_words(text2))"
   ]
  },
  {
   "cell_type": "raw",
   "metadata": {},
   "source": [
    "18. Write a program to print the 50 most frequent bigrams(pairs of adjacent words) of a text , omitting bigrams that contain\n",
    "    stopwords."
   ]
  },
  {
   "cell_type": "code",
   "execution_count": 58,
   "metadata": {},
   "outputs": [],
   "source": [
    "def find_50_most_freq_bigrams(text):\n",
    "    bigram = list(nltk.bigrams(text))\n",
    "    fdist = FreqDist(w for w in bigram if w[0].isalpha() and w[1].isalpha()\n",
    "                                       and w[0] not in stopwords.words('english')\n",
    "                                       and w[1] not in stopwords.words('english'))\n",
    "    return fdist.most_common(50)"
   ]
  },
  {
   "cell_type": "code",
   "execution_count": 59,
   "metadata": {},
   "outputs": [
    {
     "name": "stdout",
     "output_type": "stream",
     "text": [
      "[(('PART', 'JOIN'), 191), (('JOIN', 'PART'), 136), (('PART', 'PART'), 115), (('JOIN', 'JOIN'), 107), (('wanna', 'chat'), 58), (('JOIN', 'hi'), 46), (('lol', 'lol'), 37), (('lol', 'PART'), 34), (('PART', 'hi'), 34), (('PART', 'lol'), 33), (('lol', 'hi'), 33), (('lol', 'JOIN'), 32), (('JOIN', 'lol'), 28), (('JOIN', 'I'), 25), (('PART', 'hey'), 23), (('PART', 'I'), 23), (('I', 'know'), 21), (('JOIN', 'hey'), 20), (('ACTION', 'watches'), 19), (('guys', 'wanna'), 17), (('u', 'tryin'), 16), (('r', 'u'), 14), (('I', 'like'), 13), (('JOIN', 'wb'), 13), (('dont', 'know'), 13), (('ACTION', 'sits'), 12), (('I', 'love'), 12), (('la', 'la'), 12), (('I', 'think'), 11), (('see', 'ya'), 11), (('anyone', 'wanna'), 11), (('chat', 'pm'), 11), (('JOIN', 'well'), 10), (('girls', 'wanna'), 10), (('wanna', 'talk'), 10), (('lol', 'hey'), 10), (('hi', 'everyone'), 10), (('I', 'need'), 10), (('last', 'night'), 10), (('JOIN', 'lmao'), 9), (('long', 'time'), 9), (('ACTION', 'looks'), 9), (('lol', 'I'), 9), (('I', 'see'), 9), (('song', 'lasts'), 9), (('think', 'I'), 8), (('lol', 'ty'), 8), (('ACTION', 'goes'), 7), (('JOIN', 'haha'), 7), (('hi', 'room'), 7)]\n"
     ]
    }
   ],
   "source": [
    "print(find_50_most_freq_bigrams(text5))"
   ]
  },
  {
   "cell_type": "raw",
   "metadata": {},
   "source": [
    "19. Write a program to create a table of word frequencies by genre, like the one given in 1 for modals. Choose your own words\n",
    "    and try to find words whose presence(or absence) is typical of a genre. Discuss your findings."
   ]
  },
  {
   "cell_type": "code",
   "execution_count": 60,
   "metadata": {},
   "outputs": [
    {
     "name": "stdout",
     "output_type": "stream",
     "text": [
      "                   might possible   danger  harmful    scary   scared \n",
      "      adventure       58       12        2        0        0        2 \n",
      " belles_lettres      113       46       16        0        0        0 \n",
      "      editorial       39       18        9        1        1        1 \n",
      "        fiction       44        5        3        0        0        3 \n",
      "     government       13       30        0        2        0        0 \n",
      "        hobbies       22       44        4        0        0        0 \n",
      "          humor        8        3        0        0        0        0 \n",
      "        learned      128      114        6        0        0        1 \n",
      "           lore       49       28        6        0        0        0 \n",
      "        mystery       57       14        5        0        0        3 \n",
      "           news       38       28        7        0        0        0 \n",
      "       religion       12       15        5        0        0        0 \n",
      "        reviews       26        4        1        0        0        0 \n",
      "        romance       51        9        4        0        1        9 \n",
      "science_fiction       12        3        0        0        0        0 \n"
     ]
    }
   ],
   "source": [
    "cfd = nltk.ConditionalFreqDist(\n",
    "           (genre, word)\n",
    "            for genre in brown.categories()\n",
    "            for word in brown.words(categories=genre))\n",
    "genres = brown.categories()\n",
    "word_list = ['might', 'possible', 'danger', 'harmful', 'scary', 'scared']\n",
    "cfd.tabulate(categories = genres, samples=word_list)"
   ]
  },
  {
   "cell_type": "raw",
   "metadata": {},
   "source": [
    "20. Write a function word_freq() that takes a word and the name of a section of the Brown Corpus as arguments, and\n",
    "   computes the frequency of the word in that section of the corpus."
   ]
  },
  {
   "cell_type": "code",
   "execution_count": 61,
   "metadata": {},
   "outputs": [],
   "source": [
    "def word_freq(section):\n",
    "    fdist = FreqDist(w.lower() for w in brown.words(categories=section))\n",
    "    return fdist                                                         # similar to our genre program"
   ]
  },
  {
   "cell_type": "code",
   "execution_count": 62,
   "metadata": {},
   "outputs": [
    {
     "data": {
      "text/plain": [
       "FreqDist({'.': 4057, 'the': 3780, ',': 3488, 'and': 1706, 'a': 1432, 'of': 1327, 'to': 1322, 'he': 1283, '``': 998, \"''\": 995, ...})"
      ]
     },
     "execution_count": 62,
     "metadata": {},
     "output_type": "execute_result"
    }
   ],
   "source": [
    "word_freq('adventure')"
   ]
  },
  {
   "cell_type": "raw",
   "metadata": {},
   "source": [
    "21. Write a program to guess the number of syllables contained in texts, making use of the CMU pronouncing Dictionary."
   ]
  },
  {
   "cell_type": "code",
   "execution_count": 63,
   "metadata": {},
   "outputs": [],
   "source": [
    "def num_of_syllables(text):\n",
    "    prondict = nltk.corpus.cmudict.dict()\n",
    "    num = 0\n",
    "    for w in text:\n",
    "        if w.lower() in prondict.keys():\n",
    "            num += len(prondict[w.lower()][0])\n",
    "            return num"
   ]
  },
  {
   "cell_type": "code",
   "execution_count": 64,
   "metadata": {},
   "outputs": [
    {
     "data": {
      "text/plain": [
       "4"
      ]
     },
     "execution_count": 64,
     "metadata": {},
     "output_type": "execute_result"
    }
   ],
   "source": [
    "num_of_syllables(text7)"
   ]
  },
  {
   "cell_type": "raw",
   "metadata": {},
   "source": [
    "22. Define a function hedge(text) which processes a text and produces a new version with words 'like' between every third word. "
   ]
  },
  {
   "cell_type": "code",
   "execution_count": 65,
   "metadata": {},
   "outputs": [],
   "source": [
    "def hedge(text):\n",
    "    new_version = list(text)\n",
    "    \n",
    "    for i in range(2, len(text) + len(text) // 3, 3):\n",
    "        \n",
    "        new_version.insert(i, 'like')\n",
    "        \n",
    "    return nltk.Text(new_version)"
   ]
  },
  {
   "cell_type": "code",
   "execution_count": 66,
   "metadata": {},
   "outputs": [
    {
     "data": {
      "text/plain": [
       "<Text: In the like beginning God like created the...>"
      ]
     },
     "execution_count": 66,
     "metadata": {},
     "output_type": "execute_result"
    }
   ],
   "source": [
    "hedge(text3)"
   ]
  },
  {
   "cell_type": "code",
   "execution_count": 67,
   "metadata": {},
   "outputs": [],
   "source": [
    "# 23, 24 will be completed soon."
   ]
  },
  {
   "cell_type": "raw",
   "metadata": {},
   "source": [
    "25. Define a function find_language() that takes a string as its argument, and returns a list of languages that have that string as a word. Use the udhr corpus and limit your searches to files in the Latin-1 encoding."
   ]
  },
  {
   "cell_type": "code",
   "execution_count": 68,
   "metadata": {},
   "outputs": [],
   "source": [
    "def find_languages(n):\n",
    "    languages = []\n",
    "    for language in udhr.fileids():\n",
    "        if language.endswith('Latin1') and n in udhr.words(language):\n",
    "            languages.append(language)\n",
    "    return languages\n",
    "        "
   ]
  },
  {
   "cell_type": "code",
   "execution_count": 69,
   "metadata": {},
   "outputs": [
    {
     "data": {
      "text/plain": [
       "['English-Latin1', 'NigerianPidginEnglish-Latin1', 'TokPisin-Latin1']"
      ]
     },
     "execution_count": 69,
     "metadata": {},
     "output_type": "execute_result"
    }
   ],
   "source": [
    "find_languages('free')"
   ]
  },
  {
   "cell_type": "raw",
   "metadata": {},
   "source": [
    "26. What is the brancing of the noun hypernym hierarchy? for every noun synset that has hyponymss or children in the hypernym\n",
    "    hierachy how many do they have on average ? you can get all noun synsets using wn.all_synsets('n')."
   ]
  },
  {
   "cell_type": "code",
   "execution_count": 70,
   "metadata": {},
   "outputs": [
    {
     "name": "stdout",
     "output_type": "stream",
     "text": [
      "4.543820763194153\n"
     ]
    }
   ],
   "source": [
    "noun_synsets = len(list(wn.all_synsets('n')))\n",
    "count = 0 \n",
    "hypo= 0\n",
    "for synset in wn.all_synsets('n'):\n",
    "    if synset.hyponyms() != []:\n",
    "        hypo += len(synset.hyponyms())\n",
    "        count += 1\n",
    "print(hypo / count)"
   ]
  },
  {
   "cell_type": "raw",
   "metadata": {},
   "source": [
    "27. At the moment I do not have a solution."
   ]
  },
  {
   "cell_type": "raw",
   "metadata": {},
   "source": [
    "28. Use one of the predefined similarity measures to score the similarity of each of the following pairs of words. Rank the         pairs in order to decreasing similarity. How close is your ranking to the order given here, an order that was established       experimentally by (Miller and Charles, 1998): car-automobile, gem_jewel, journey-voyage, boy-lad, coast-shore, asylum-         madhouse, magician-wizard, midday-noon, furnace-stove, food-fruit, bird-cock, bird-crane, tool-implement, brother-monk,         lad-brother, crane-implement, journey-car, monk-oracle, cemetery-woodland, food-rooster, coast-hill, forest-            graveyard,shore-woodland, monk-slave, coast-forest, lad-wizard, chord-smile, glass-magician, rooster-voyage, noon-string."
   ]
  },
  {
   "cell_type": "raw",
   "metadata": {},
   "source": [
    "I am working on it....but I keep getting word not defined."
   ]
  },
  {
   "cell_type": "code",
   "execution_count": null,
   "metadata": {},
   "outputs": [],
   "source": []
  }
 ],
 "metadata": {
  "kernelspec": {
   "display_name": "Python 3",
   "language": "python",
   "name": "python3"
  },
  "language_info": {
   "codemirror_mode": {
    "name": "ipython",
    "version": 3
   },
   "file_extension": ".py",
   "mimetype": "text/x-python",
   "name": "python",
   "nbconvert_exporter": "python",
   "pygments_lexer": "ipython3",
   "version": "3.7.4"
  }
 },
 "nbformat": 4,
 "nbformat_minor": 2
}
